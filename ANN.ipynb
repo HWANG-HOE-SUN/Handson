{
  "nbformat": 4,
  "nbformat_minor": 0,
  "metadata": {
    "colab": {
      "name": "ANN.ipynb",
      "provenance": [],
      "collapsed_sections": [],
      "authorship_tag": "ABX9TyPIKbfZj6n9TITG60foGpaR",
      "include_colab_link": true
    },
    "kernelspec": {
      "name": "python3",
      "display_name": "Python 3"
    }
  },
  "cells": [
    {
      "cell_type": "markdown",
      "metadata": {
        "id": "view-in-github",
        "colab_type": "text"
      },
      "source": [
        "<a href=\"https://colab.research.google.com/github/HWANG-HOE-SUN/Handson/blob/master/ANN.ipynb\" target=\"_parent\"><img src=\"https://colab.research.google.com/assets/colab-badge.svg\" alt=\"Open In Colab\"/></a>"
      ]
    },
    {
      "cell_type": "code",
      "metadata": {
        "id": "dMnZ17dfC5J5"
      },
      "source": [
        "# 기본 데이터 정리 및 처리\r\n",
        "import numpy as np\r\n",
        "import pandas as pd\r\n",
        "\r\n",
        "# 시각화\r\n",
        "import matplotlib.pyplot as plt\r\n",
        "%matplotlib inline\r\n",
        "plt.style.use('seaborn-whitegrid')\r\n",
        "import missingno\r\n",
        "\r\n",
        "# 전처리 및 머신 러닝 알고리즘\r\n",
        "from sklearn.preprocessing import LabelEncoder, OneHotEncoder\r\n",
        "from sklearn.preprocessing import StandardScaler\r\n",
        "from sklearn.preprocessing import MinMaxScaler\r\n",
        "from sklearn.neighbors import KNeighborsClassifier\r\n",
        "from sklearn.linear_model import LogisticRegression\r\n",
        "from sklearn.ensemble import RandomForestClassifier\r\n",
        "from sklearn.svm import SVC\r\n",
        "from xgboost import XGBClassifier\r\n",
        "from sklearn.ensemble import GradientBoostingClassifier\r\n",
        "from sklearn.ensemble import AdaBoostClassifier\r\n",
        "from sklearn.gaussian_process import GaussianProcessClassifier\r\n",
        "from sklearn.naive_bayes import GaussianNB\r\n",
        "from sklearn.ensemble import BaggingClassifier\r\n",
        "from sklearn.ensemble import VotingClassifier\r\n",
        "\r\n",
        "# 모델 튜닝 및 평가\r\n",
        "from sklearn.model_selection import cross_val_score\r\n",
        "from sklearn.model_selection import GridSearchCV\r\n",
        "from sklearn.model_selection import cross_val_predict\r\n",
        "from sklearn.metrics import mean_squared_error\r\n",
        "from sklearn import model_selection"
      ],
      "execution_count": 1,
      "outputs": []
    },
    {
      "cell_type": "code",
      "metadata": {
        "id": "uBet-6TaDBHS"
      },
      "source": [
        "# 경고 제거(판다스 error 메시지 무시)\r\n",
        "import sys\r\n",
        "import warnings\r\n",
        "\r\n",
        "warnings.filterwarnings('ignore')"
      ],
      "execution_count": 2,
      "outputs": []
    },
    {
      "cell_type": "markdown",
      "metadata": {
        "id": "PJpSNHIKDL7E"
      },
      "source": [
        "#핸즈온 Chapter 10 인공신경망"
      ]
    },
    {
      "cell_type": "code",
      "metadata": {
        "id": "yqrkiL-dDMO0"
      },
      "source": [
        "from sklearn.datasets import load_iris\r\n",
        "from sklearn.linear_model import Perceptron"
      ],
      "execution_count": 3,
      "outputs": []
    },
    {
      "cell_type": "code",
      "metadata": {
        "id": "VjrNEAfeDR-c"
      },
      "source": [
        "# 퍼셉트론 학습 알고리즘 \r\n",
        "\r\n",
        "iris = load_iris()\r\n",
        "X = iris.data[:,(2,3)] # 꽃잎 길이, 너비\r\n",
        "y = (iris.target == 0 ).astype(np.int) # Setosa인가? = 이중분류\r\n",
        "\r\n",
        "per_clf = Perceptron()\r\n",
        "per_clf.fit(X,y)\r\n",
        "X_\r\n",
        "y_pred = per_clf.predict([[2, 0.5]])"
      ],
      "execution_count": 4,
      "outputs": []
    },
    {
      "cell_type": "code",
      "metadata": {
        "id": "mQuEw46eDvu0"
      },
      "source": [
        "# https://skyil.tistory.com/68  학습 관련 종결\r\n",
        "# 미니배치 확률경사하강법(MSGD) \r\n",
        "# ※배치?BGD 한 에포크(실험)당 전체Data를 통해 gradient학습 \r\n",
        "  # 미니배치 MGD 한 에포크(실험)당 일부(Mini-Batch)데이터 셋을 통해 gradient학습\r\n",
        "  # 확률적 경사하강 SGD 한 에포크(실험)당 한 개의(랜덤추출) Data를 통해 gradient학습 (데이터 사이즈n만큼의 epoch가능)\r\n",
        "  # 일반적으로, MGD + SGD인 MSGD를 사용. Batch size를 결정하고( 전체 1000개라면 100개의 batch size!로 10묶음, 즉 10epoch까지 가능)\r\n",
        "                                       # 확률적으로 gradient학습을 하여서, global optimal에 가깝게 답을 찾아간다. (전체에 나누어 떨어지게 batch_size정해야 데이터 고려에 있어서 공평함)"
      ],
      "execution_count": 5,
      "outputs": []
    },
    {
      "cell_type": "code",
      "metadata": {
        "id": "TxnwVQj8DK5_",
        "colab": {
          "base_uri": "https://localhost:8080/"
        },
        "outputId": "6b800ead-addb-493e-f02a-5eaccad0fde8"
      },
      "source": [
        "import tensorflow as tf\r\n",
        "from tensorflow import keras\r\n",
        "tf.__version__, keras.__version__"
      ],
      "execution_count": 10,
      "outputs": [
        {
          "output_type": "execute_result",
          "data": {
            "text/plain": [
              "('2.4.0', '2.4.0')"
            ]
          },
          "metadata": {
            "tags": []
          },
          "execution_count": 10
        }
      ]
    },
    {
      "cell_type": "code",
      "metadata": {
        "colab": {
          "base_uri": "https://localhost:8080/"
        },
        "id": "RvA03wWLqdgp",
        "outputId": "087ee077-21b8-4d71-8825-a8b66f1539ff"
      },
      "source": [
        "fashion_mnist = keras.datasets.fashion_mnist\r\n",
        "(X_train_full, y_train_full), (X_test, y_test) = fashion_mnist.load_data()"
      ],
      "execution_count": 11,
      "outputs": [
        {
          "output_type": "stream",
          "text": [
            "Downloading data from https://storage.googleapis.com/tensorflow/tf-keras-datasets/train-labels-idx1-ubyte.gz\n",
            "32768/29515 [=================================] - 0s 0us/step\n",
            "Downloading data from https://storage.googleapis.com/tensorflow/tf-keras-datasets/train-images-idx3-ubyte.gz\n",
            "26427392/26421880 [==============================] - 0s 0us/step\n",
            "Downloading data from https://storage.googleapis.com/tensorflow/tf-keras-datasets/t10k-labels-idx1-ubyte.gz\n",
            "8192/5148 [===============================================] - 0s 0us/step\n",
            "Downloading data from https://storage.googleapis.com/tensorflow/tf-keras-datasets/t10k-images-idx3-ubyte.gz\n",
            "4423680/4422102 [==============================] - 0s 0us/step\n"
          ],
          "name": "stdout"
        }
      ]
    },
    {
      "cell_type": "code",
      "metadata": {
        "colab": {
          "base_uri": "https://localhost:8080/"
        },
        "id": "SGXgq1UIqrD4",
        "outputId": "369df7b4-6abb-4fee-dbed-056c9943da6b"
      },
      "source": [
        "X_train_full.shape, X_train_full.dtype"
      ],
      "execution_count": 14,
      "outputs": [
        {
          "output_type": "execute_result",
          "data": {
            "text/plain": [
              "((60000, 28, 28), dtype('uint8'))"
            ]
          },
          "metadata": {
            "tags": []
          },
          "execution_count": 14
        }
      ]
    },
    {
      "cell_type": "code",
      "metadata": {
        "id": "Do8XI6iRq1QG"
      },
      "source": [
        "# 검증세트 와 훈련세트로 나누겠음\r\n",
        "X_valid, X_train = X_train_full[:5000] / 255.0, X_train_full[5000:] / 255.0 #실수로 자동형변환을 위해 255.0으로 나눔\r\n",
        "y_valid, y_train = y_train_full[:5000], y_train_full[5000:]\r\n",
        "X_test = X_test / 255.0"
      ],
      "execution_count": 16,
      "outputs": []
    },
    {
      "cell_type": "code",
      "metadata": {
        "id": "79wRzOvwraLV"
      },
      "source": [
        "#레이블의 직관적 이해(어느 옷을 나타내는건지)를 위해 클래스 이름을 지정하겠음\r\n",
        "class_names = ['T-shirt/Top', 'Trouser', 'Pullover', 'Dress', 'Coat', 'Sandal', 'Shirt', 'Sneaker', 'Bag', 'Ankle boot'] "
      ],
      "execution_count": 17,
      "outputs": []
    },
    {
      "cell_type": "code",
      "metadata": {
        "colab": {
          "base_uri": "https://localhost:8080/",
          "height": 35
        },
        "id": "JakJAsftrt5u",
        "outputId": "fbb9debc-4650-4b43-adeb-09e8c898f580"
      },
      "source": [
        "class_names[y_train[0]]"
      ],
      "execution_count": 19,
      "outputs": [
        {
          "output_type": "execute_result",
          "data": {
            "application/vnd.google.colaboratory.intrinsic+json": {
              "type": "string"
            },
            "text/plain": [
              "'Coat'"
            ]
          },
          "metadata": {
            "tags": []
          },
          "execution_count": 19
        }
      ]
    },
    {
      "cell_type": "code",
      "metadata": {
        "id": "yvrGa6pWrwfN"
      },
      "source": [
        "# 두개의 은닉층 사용, 다층 퍼셉트론\r\n",
        "model = keras.models.Sequential() # 가장 간단한 신경망 모델. 순서대로 연결된 층을 일렬로 쌓아서 구성한다( 시퀀셜 API라고 칭함 ) \r\n",
        "model.add(keras.layers.Flatten(input_shape=[28,28])) # 첫번째 층을 모델에 추가해준다. Flatten은 이미지를 1D배열로 변환함 즉, X.reshape(-1,1)의 효과  \r\n",
        "# 활성화 함수 다수\r\n",
        "model.add(keras.layers.Dense(300,activation=\"relu\")) # 뉴런 300개인 Dense은닉층. 이 층에선 Relu를 쓰겠다. Dense층마다 각자 가중치 행렬을 관리함.\r\n",
        "model.add(keras.layers.Dense(100,activation=\"relu\")) # 뉴런 100개인 Dense은닉층. \r\n",
        "model.add(keras.layers.Dense(10,activation='softmax')) # (클래스, 즉 옷종류마다 하나씩) 뉴런 10개를 가진 Dense출력층. 배타적인 클래스이므로, 소프트맥스 활성화 함수를 사용함."
      ],
      "execution_count": 21,
      "outputs": []
    },
    {
      "cell_type": "code",
      "metadata": {
        "id": "MUPe2Leeswd5"
      },
      "source": [
        "# 위의 코드와 같은 효과. 층을 리스트로 그냥 전달할 수도 있다.\r\n",
        "model = keras.models.Sequential(\r\n",
        "    [\r\n",
        "    keras.layers.Flatten(input_shape=[28,28]),   \r\n",
        "    keras.layers.Dense(300,activation=\"relu\"),\r\n",
        "    keras.layers.Dense(100,activation=\"relu\"),\r\n",
        "    keras.layers.Dense(10,activation='softmax') \r\n",
        "    ]\r\n",
        ") "
      ],
      "execution_count": 23,
      "outputs": []
    },
    {
      "cell_type": "code",
      "metadata": {
        "colab": {
          "base_uri": "https://localhost:8080/"
        },
        "id": "mJ4RqTDTsHDg",
        "outputId": "d7587797-cbfe-4d38-c64e-eb2a1a3a233a"
      },
      "source": [
        "model.summary()  # 이 모델에선 총 266,610의 파라미터 사용. 모두 훈련되는(Trainable) 파라미터다."
      ],
      "execution_count": 24,
      "outputs": [
        {
          "output_type": "stream",
          "text": [
            "Model: \"sequential_2\"\n",
            "_________________________________________________________________\n",
            "Layer (type)                 Output Shape              Param #   \n",
            "=================================================================\n",
            "flatten_2 (Flatten)          (None, 784)               0         \n",
            "_________________________________________________________________\n",
            "dense_6 (Dense)              (None, 300)               235500    \n",
            "_________________________________________________________________\n",
            "dense_7 (Dense)              (None, 100)               30100     \n",
            "_________________________________________________________________\n",
            "dense_8 (Dense)              (None, 10)                1010      \n",
            "=================================================================\n",
            "Total params: 266,610\n",
            "Trainable params: 266,610\n",
            "Non-trainable params: 0\n",
            "_________________________________________________________________\n"
          ],
          "name": "stdout"
        }
      ]
    },
    {
      "cell_type": "code",
      "metadata": {
        "id": "LcCJWIPNt4Qp"
      },
      "source": [
        ""
      ],
      "execution_count": null,
      "outputs": []
    }
  ]
}