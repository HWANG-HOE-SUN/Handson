{
  "nbformat": 4,
  "nbformat_minor": 0,
  "metadata": {
    "colab": {
      "name": "BigCon1.ipynb",
      "provenance": [],
      "collapsed_sections": [
        "wYCIhTrBBZE9",
        "UDY1cYB63r98",
        "BP_Qg_Seu86O",
        "7O7PRwr6WZbd"
      ],
      "mount_file_id": "1nLyRHjcapJu19CEgPLTNwqjCmGph46QN",
      "authorship_tag": "ABX9TyNgVi1ItraUG9nD28SwOntG",
      "include_colab_link": true
    },
    "kernelspec": {
      "name": "python3",
      "display_name": "Python 3"
    }
  },
  "cells": [
    {
      "cell_type": "markdown",
      "metadata": {
        "id": "view-in-github",
        "colab_type": "text"
      },
      "source": [
        "<a href=\"https://colab.research.google.com/github/HWANG-HOE-SUN/Handson/blob/master/BigCon1.ipynb\" target=\"_parent\"><img src=\"https://colab.research.google.com/assets/colab-badge.svg\" alt=\"Open In Colab\"/></a>"
      ]
    },
    {
      "cell_type": "code",
      "metadata": {
        "id": "4P2CPfKh-Oy5",
        "colab_type": "code",
        "colab": {
          "base_uri": "https://localhost:8080/",
          "height": 125
        },
        "outputId": "6b36a835-d0fe-4b2b-b6d2-a81e0f0bf485"
      },
      "source": [
        "!git clone https://github.com/HWANG-HOE-SUN/GitTest.git"
      ],
      "execution_count": null,
      "outputs": [
        {
          "output_type": "stream",
          "text": [
            "Cloning into 'GitTest'...\n",
            "remote: Enumerating objects: 8, done.\u001b[K\n",
            "remote: Counting objects: 100% (8/8), done.\u001b[K\n",
            "remote: Compressing objects: 100% (4/4), done.\u001b[K\n",
            "remote: Total 8 (delta 0), reused 0 (delta 0), pack-reused 0\u001b[K\n",
            "Unpacking objects: 100% (8/8), done.\n"
          ],
          "name": "stdout"
        }
      ]
    },
    {
      "cell_type": "code",
      "metadata": {
        "id": "Bfq1ovDgBB5Z",
        "colab_type": "code",
        "colab": {
          "base_uri": "https://localhost:8080/",
          "height": 556
        },
        "outputId": "fa1d6e5d-8dc3-4f58-cded-d7e1173423f8"
      },
      "source": [
        "from google.colab import drive\n",
        "drive.mount('/gdrive')"
      ],
      "execution_count": null,
      "outputs": [
        {
          "output_type": "error",
          "ename": "KeyboardInterrupt",
          "evalue": "ignored",
          "traceback": [
            "\u001b[0;31m---------------------------------------------------------------------------\u001b[0m",
            "\u001b[0;31mKeyboardInterrupt\u001b[0m                         Traceback (most recent call last)",
            "\u001b[0;32m/usr/local/lib/python3.6/dist-packages/ipykernel/kernelbase.py\u001b[0m in \u001b[0;36m_input_request\u001b[0;34m(self, prompt, ident, parent, password)\u001b[0m\n\u001b[1;32m    728\u001b[0m             \u001b[0;32mtry\u001b[0m\u001b[0;34m:\u001b[0m\u001b[0;34m\u001b[0m\u001b[0;34m\u001b[0m\u001b[0m\n\u001b[0;32m--> 729\u001b[0;31m                 \u001b[0mident\u001b[0m\u001b[0;34m,\u001b[0m \u001b[0mreply\u001b[0m \u001b[0;34m=\u001b[0m \u001b[0mself\u001b[0m\u001b[0;34m.\u001b[0m\u001b[0msession\u001b[0m\u001b[0;34m.\u001b[0m\u001b[0mrecv\u001b[0m\u001b[0;34m(\u001b[0m\u001b[0mself\u001b[0m\u001b[0;34m.\u001b[0m\u001b[0mstdin_socket\u001b[0m\u001b[0;34m,\u001b[0m \u001b[0;36m0\u001b[0m\u001b[0;34m)\u001b[0m\u001b[0;34m\u001b[0m\u001b[0;34m\u001b[0m\u001b[0m\n\u001b[0m\u001b[1;32m    730\u001b[0m             \u001b[0;32mexcept\u001b[0m \u001b[0mException\u001b[0m\u001b[0;34m:\u001b[0m\u001b[0;34m\u001b[0m\u001b[0;34m\u001b[0m\u001b[0m\n",
            "\u001b[0;32m/usr/local/lib/python3.6/dist-packages/jupyter_client/session.py\u001b[0m in \u001b[0;36mrecv\u001b[0;34m(self, socket, mode, content, copy)\u001b[0m\n\u001b[1;32m    802\u001b[0m         \u001b[0;32mtry\u001b[0m\u001b[0;34m:\u001b[0m\u001b[0;34m\u001b[0m\u001b[0;34m\u001b[0m\u001b[0m\n\u001b[0;32m--> 803\u001b[0;31m             \u001b[0mmsg_list\u001b[0m \u001b[0;34m=\u001b[0m \u001b[0msocket\u001b[0m\u001b[0;34m.\u001b[0m\u001b[0mrecv_multipart\u001b[0m\u001b[0;34m(\u001b[0m\u001b[0mmode\u001b[0m\u001b[0;34m,\u001b[0m \u001b[0mcopy\u001b[0m\u001b[0;34m=\u001b[0m\u001b[0mcopy\u001b[0m\u001b[0;34m)\u001b[0m\u001b[0;34m\u001b[0m\u001b[0;34m\u001b[0m\u001b[0m\n\u001b[0m\u001b[1;32m    804\u001b[0m         \u001b[0;32mexcept\u001b[0m \u001b[0mzmq\u001b[0m\u001b[0;34m.\u001b[0m\u001b[0mZMQError\u001b[0m \u001b[0;32mas\u001b[0m \u001b[0me\u001b[0m\u001b[0;34m:\u001b[0m\u001b[0;34m\u001b[0m\u001b[0;34m\u001b[0m\u001b[0m\n",
            "\u001b[0;32m/usr/local/lib/python3.6/dist-packages/zmq/sugar/socket.py\u001b[0m in \u001b[0;36mrecv_multipart\u001b[0;34m(self, flags, copy, track)\u001b[0m\n\u001b[1;32m    490\u001b[0m         \"\"\"\n\u001b[0;32m--> 491\u001b[0;31m         \u001b[0mparts\u001b[0m \u001b[0;34m=\u001b[0m \u001b[0;34m[\u001b[0m\u001b[0mself\u001b[0m\u001b[0;34m.\u001b[0m\u001b[0mrecv\u001b[0m\u001b[0;34m(\u001b[0m\u001b[0mflags\u001b[0m\u001b[0;34m,\u001b[0m \u001b[0mcopy\u001b[0m\u001b[0;34m=\u001b[0m\u001b[0mcopy\u001b[0m\u001b[0;34m,\u001b[0m \u001b[0mtrack\u001b[0m\u001b[0;34m=\u001b[0m\u001b[0mtrack\u001b[0m\u001b[0;34m)\u001b[0m\u001b[0;34m]\u001b[0m\u001b[0;34m\u001b[0m\u001b[0;34m\u001b[0m\u001b[0m\n\u001b[0m\u001b[1;32m    492\u001b[0m         \u001b[0;31m# have first part already, only loop while more to receive\u001b[0m\u001b[0;34m\u001b[0m\u001b[0;34m\u001b[0m\u001b[0;34m\u001b[0m\u001b[0m\n",
            "\u001b[0;32mzmq/backend/cython/socket.pyx\u001b[0m in \u001b[0;36mzmq.backend.cython.socket.Socket.recv\u001b[0;34m()\u001b[0m\n",
            "\u001b[0;32mzmq/backend/cython/socket.pyx\u001b[0m in \u001b[0;36mzmq.backend.cython.socket.Socket.recv\u001b[0;34m()\u001b[0m\n",
            "\u001b[0;32mzmq/backend/cython/socket.pyx\u001b[0m in \u001b[0;36mzmq.backend.cython.socket._recv_copy\u001b[0;34m()\u001b[0m\n",
            "\u001b[0;32m/usr/local/lib/python3.6/dist-packages/zmq/backend/cython/checkrc.pxd\u001b[0m in \u001b[0;36mzmq.backend.cython.checkrc._check_rc\u001b[0;34m()\u001b[0m\n",
            "\u001b[0;31mKeyboardInterrupt\u001b[0m: ",
            "\nDuring handling of the above exception, another exception occurred:\n",
            "\u001b[0;31mKeyboardInterrupt\u001b[0m                         Traceback (most recent call last)",
            "\u001b[0;32m<ipython-input-2-e5b0420cd036>\u001b[0m in \u001b[0;36m<module>\u001b[0;34m()\u001b[0m\n\u001b[1;32m      1\u001b[0m \u001b[0;32mfrom\u001b[0m \u001b[0mgoogle\u001b[0m\u001b[0;34m.\u001b[0m\u001b[0mcolab\u001b[0m \u001b[0;32mimport\u001b[0m \u001b[0mdrive\u001b[0m\u001b[0;34m\u001b[0m\u001b[0;34m\u001b[0m\u001b[0m\n\u001b[0;32m----> 2\u001b[0;31m \u001b[0mdrive\u001b[0m\u001b[0;34m.\u001b[0m\u001b[0mmount\u001b[0m\u001b[0;34m(\u001b[0m\u001b[0;34m'/gdrive'\u001b[0m\u001b[0;34m)\u001b[0m\u001b[0;34m\u001b[0m\u001b[0;34m\u001b[0m\u001b[0m\n\u001b[0m",
            "\u001b[0;32m/usr/local/lib/python3.6/dist-packages/google/colab/drive.py\u001b[0m in \u001b[0;36mmount\u001b[0;34m(mountpoint, force_remount, timeout_ms, use_metadata_server)\u001b[0m\n\u001b[1;32m    240\u001b[0m       \u001b[0mauth_prompt\u001b[0m \u001b[0;34m=\u001b[0m \u001b[0md\u001b[0m\u001b[0;34m.\u001b[0m\u001b[0mmatch\u001b[0m\u001b[0;34m.\u001b[0m\u001b[0mgroup\u001b[0m\u001b[0;34m(\u001b[0m\u001b[0;36m1\u001b[0m\u001b[0;34m)\u001b[0m \u001b[0;34m+\u001b[0m \u001b[0;34m'\\nEnter your authorization code:\\n'\u001b[0m\u001b[0;34m\u001b[0m\u001b[0;34m\u001b[0m\u001b[0m\n\u001b[1;32m    241\u001b[0m       \u001b[0;32mwith\u001b[0m \u001b[0mopen\u001b[0m\u001b[0;34m(\u001b[0m\u001b[0mfifo\u001b[0m\u001b[0;34m,\u001b[0m \u001b[0;34m'w'\u001b[0m\u001b[0;34m)\u001b[0m \u001b[0;32mas\u001b[0m \u001b[0mfifo_file\u001b[0m\u001b[0;34m:\u001b[0m\u001b[0;34m\u001b[0m\u001b[0;34m\u001b[0m\u001b[0m\n\u001b[0;32m--> 242\u001b[0;31m         \u001b[0mfifo_file\u001b[0m\u001b[0;34m.\u001b[0m\u001b[0mwrite\u001b[0m\u001b[0;34m(\u001b[0m\u001b[0m_getpass\u001b[0m\u001b[0;34m.\u001b[0m\u001b[0mgetpass\u001b[0m\u001b[0;34m(\u001b[0m\u001b[0mauth_prompt\u001b[0m\u001b[0;34m)\u001b[0m \u001b[0;34m+\u001b[0m \u001b[0;34m'\\n'\u001b[0m\u001b[0;34m)\u001b[0m\u001b[0;34m\u001b[0m\u001b[0;34m\u001b[0m\u001b[0m\n\u001b[0m\u001b[1;32m    243\u001b[0m       \u001b[0mwrote_to_fifo\u001b[0m \u001b[0;34m=\u001b[0m \u001b[0;32mTrue\u001b[0m\u001b[0;34m\u001b[0m\u001b[0;34m\u001b[0m\u001b[0m\n\u001b[1;32m    244\u001b[0m   \u001b[0;32mif\u001b[0m \u001b[0;32mnot\u001b[0m \u001b[0mwrote_to_fifo\u001b[0m\u001b[0;34m:\u001b[0m\u001b[0;34m\u001b[0m\u001b[0;34m\u001b[0m\u001b[0m\n",
            "\u001b[0;32m/usr/local/lib/python3.6/dist-packages/ipykernel/kernelbase.py\u001b[0m in \u001b[0;36mgetpass\u001b[0;34m(self, prompt, stream)\u001b[0m\n\u001b[1;32m    685\u001b[0m             \u001b[0mself\u001b[0m\u001b[0;34m.\u001b[0m\u001b[0m_parent_ident\u001b[0m\u001b[0;34m,\u001b[0m\u001b[0;34m\u001b[0m\u001b[0;34m\u001b[0m\u001b[0m\n\u001b[1;32m    686\u001b[0m             \u001b[0mself\u001b[0m\u001b[0;34m.\u001b[0m\u001b[0m_parent_header\u001b[0m\u001b[0;34m,\u001b[0m\u001b[0;34m\u001b[0m\u001b[0;34m\u001b[0m\u001b[0m\n\u001b[0;32m--> 687\u001b[0;31m             \u001b[0mpassword\u001b[0m\u001b[0;34m=\u001b[0m\u001b[0;32mTrue\u001b[0m\u001b[0;34m,\u001b[0m\u001b[0;34m\u001b[0m\u001b[0;34m\u001b[0m\u001b[0m\n\u001b[0m\u001b[1;32m    688\u001b[0m         )\n\u001b[1;32m    689\u001b[0m \u001b[0;34m\u001b[0m\u001b[0m\n",
            "\u001b[0;32m/usr/local/lib/python3.6/dist-packages/ipykernel/kernelbase.py\u001b[0m in \u001b[0;36m_input_request\u001b[0;34m(self, prompt, ident, parent, password)\u001b[0m\n\u001b[1;32m    732\u001b[0m             \u001b[0;32mexcept\u001b[0m \u001b[0mKeyboardInterrupt\u001b[0m\u001b[0;34m:\u001b[0m\u001b[0;34m\u001b[0m\u001b[0;34m\u001b[0m\u001b[0m\n\u001b[1;32m    733\u001b[0m                 \u001b[0;31m# re-raise KeyboardInterrupt, to truncate traceback\u001b[0m\u001b[0;34m\u001b[0m\u001b[0;34m\u001b[0m\u001b[0;34m\u001b[0m\u001b[0m\n\u001b[0;32m--> 734\u001b[0;31m                 \u001b[0;32mraise\u001b[0m \u001b[0mKeyboardInterrupt\u001b[0m\u001b[0;34m\u001b[0m\u001b[0;34m\u001b[0m\u001b[0m\n\u001b[0m\u001b[1;32m    735\u001b[0m             \u001b[0;32melse\u001b[0m\u001b[0;34m:\u001b[0m\u001b[0;34m\u001b[0m\u001b[0;34m\u001b[0m\u001b[0m\n\u001b[1;32m    736\u001b[0m                 \u001b[0;32mbreak\u001b[0m\u001b[0;34m\u001b[0m\u001b[0;34m\u001b[0m\u001b[0m\n",
            "\u001b[0;31mKeyboardInterrupt\u001b[0m: "
          ]
        }
      ]
    },
    {
      "cell_type": "code",
      "metadata": {
        "id": "9r1M1jmNL6xs",
        "colab_type": "code",
        "colab": {}
      },
      "source": [
        "import matplotlib\n",
        "import matplotlib.pyplot as plt\n",
        "import os\n",
        "import numpy as np\n",
        "import pandas as pd\n",
        "# 한글출력\n",
        "plt.rc('font', family='NanumGothic')\n",
        "plt.rc('axes', unicode_minus=False)"
      ],
      "execution_count": 1,
      "outputs": []
    },
    {
      "cell_type": "code",
      "metadata": {
        "id": "gZHeUb_KNLIi",
        "colab_type": "code",
        "colab": {
          "resources": {
            "http://localhost:8080/nbextensions/google.colab/files.js": {
              "data": "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",
              "ok": true,
              "headers": [
                [
                  "content-type",
                  "application/javascript"
                ]
              ],
              "status": 200,
              "status_text": ""
            }
          },
          "base_uri": "https://localhost:8080/",
          "height": 251
        },
        "outputId": "0b88801a-9c41-40d4-fa97-c1ec523cc6b3"
      },
      "source": [
        "from google.colab import files\n",
        "\n",
        "uploaded = files.upload()\n",
        "\n",
        "for fn in uploaded.keys():\n",
        "  print('User uploaded file \"{name}\" with length {length} bytes'.format(\n",
        "      name=fn, length=len(uploaded[fn])))"
      ],
      "execution_count": 5,
      "outputs": [
        {
          "output_type": "display_data",
          "data": {
            "text/html": [
              "\n",
              "     <input type=\"file\" id=\"files-52d28d38-4202-4ee0-82a2-b394a7e33452\" name=\"files[]\" multiple disabled\n",
              "        style=\"border:none\" />\n",
              "     <output id=\"result-52d28d38-4202-4ee0-82a2-b394a7e33452\">\n",
              "      Upload widget is only available when the cell has been executed in the\n",
              "      current browser session. Please rerun this cell to enable.\n",
              "      </output>\n",
              "      <script src=\"/nbextensions/google.colab/files.js\"></script> "
            ],
            "text/plain": [
              "<IPython.core.display.HTML object>"
            ]
          },
          "metadata": {
            "tags": []
          }
        },
        {
          "output_type": "stream",
          "text": [
            "Saving 2019시청률데이터.xlsx to 2019시청률데이터.xlsx\n",
            "Saving 2019실적데이터수정.xlsx to 2019실적데이터수정.xlsx\n",
            "Saving naver_쇼핑데이터랩.csv to naver_쇼핑데이터랩.csv\n",
            "Saving ns홈쇼핑앱애니.xlsx to ns홈쇼핑앱애니.xlsx\n",
            "User uploaded file \"2019시청률데이터.xlsx\" with length 1819247 bytes\n",
            "User uploaded file \"2019실적데이터수정.xlsx\" with length 1921555 bytes\n",
            "User uploaded file \"naver_쇼핑데이터랩.csv\" with length 5490 bytes\n",
            "User uploaded file \"ns홈쇼핑앱애니.xlsx\" with length 221738 bytes\n"
          ],
          "name": "stdout"
        }
      ]
    },
    {
      "cell_type": "code",
      "metadata": {
        "id": "c9TW_iySIYlG",
        "colab_type": "code",
        "colab": {}
      },
      "source": [
        "import io\n",
        "import csv\n",
        "#sellData = pd.read_excel(uploaded['2019실적데이터.xlsx'],header=1)\n",
        "sellData_re = pd.read_excel(uploaded['2019실적데이터수정.xlsx'],header=1)\n",
        "watchData = pd.read_excel(uploaded['2019시청률데이터.xlsx'],header=1)\n",
        "naver = pd.read_csv('naver_쇼핑데이터랩.csv')\n",
        "App_annie = pd.read_excel(uploaded['ns홈쇼핑앱애니.xlsx'])"
      ],
      "execution_count": 7,
      "outputs": []
    },
    {
      "cell_type": "code",
      "metadata": {
        "id": "Czmx_W0cyuH0",
        "colab_type": "code",
        "colab": {}
      },
      "source": [
        "# Weather = pd.read_csv(io.BytesIO(uploaded['기상청정보19-20.csv'])) "
      ],
      "execution_count": null,
      "outputs": []
    },
    {
      "cell_type": "code",
      "metadata": {
        "id": "Vp1CYok7xQYs",
        "colab_type": "code",
        "colab": {
          "base_uri": "https://localhost:8080/",
          "height": 34
        },
        "outputId": "c1f6318e-af8b-4af3-a78e-2bb8a71dcffe"
      },
      "source": [
        "from google.colab import drive\n",
        "drive.mount('/content/drive')"
      ],
      "execution_count": null,
      "outputs": [
        {
          "output_type": "stream",
          "text": [
            "Drive already mounted at /content/drive; to attempt to forcibly remount, call drive.mount(\"/content/drive\", force_remount=True).\n"
          ],
          "name": "stdout"
        }
      ]
    },
    {
      "cell_type": "markdown",
      "metadata": {
        "id": "n9_H8Qqc7apH",
        "colab_type": "text"
      },
      "source": [
        "# **판매데이터 처리**"
      ]
    },
    {
      "cell_type": "code",
      "metadata": {
        "id": "jfF1kOruIqdm",
        "colab_type": "code",
        "colab": {
          "base_uri": "https://localhost:8080/",
          "height": 0
        },
        "outputId": "eb572775-d1c0-4a43-defd-3e75a6309575"
      },
      "source": [
        "print(sellData_re.shape)\n",
        "print(sellData_re.info())\n",
        "sellData_re.head(10) # 노출(분) 같은거 귀찮아서 NaN으로 해둔게 많다. 실적도 Null존재(기존엔 5만원으로 처리했으나 사실 값없는거)"
      ],
      "execution_count": 9,
      "outputs": [
        {
          "output_type": "stream",
          "text": [
            "(38309, 8)\n",
            "<class 'pandas.core.frame.DataFrame'>\n",
            "RangeIndex: 38309 entries, 0 to 38308\n",
            "Data columns (total 8 columns):\n",
            " #   Column  Non-Null Count  Dtype         \n",
            "---  ------  --------------  -----         \n",
            " 0   방송일시    38309 non-null  datetime64[ns]\n",
            " 1   노출(분)   21525 non-null  float64       \n",
            " 2   마더코드    38309 non-null  int64         \n",
            " 3   상품코드    38309 non-null  int64         \n",
            " 4   상품명     38309 non-null  object        \n",
            " 5   상품군     38309 non-null  object        \n",
            " 6   판매단가    38309 non-null  int64         \n",
            " 7   취급액     35379 non-null  float64       \n",
            "dtypes: datetime64[ns](1), float64(2), int64(3), object(2)\n",
            "memory usage: 2.3+ MB\n",
            "None\n"
          ],
          "name": "stdout"
        },
        {
          "output_type": "execute_result",
          "data": {
            "text/html": [
              "<div>\n",
              "<style scoped>\n",
              "    .dataframe tbody tr th:only-of-type {\n",
              "        vertical-align: middle;\n",
              "    }\n",
              "\n",
              "    .dataframe tbody tr th {\n",
              "        vertical-align: top;\n",
              "    }\n",
              "\n",
              "    .dataframe thead th {\n",
              "        text-align: right;\n",
              "    }\n",
              "</style>\n",
              "<table border=\"1\" class=\"dataframe\">\n",
              "  <thead>\n",
              "    <tr style=\"text-align: right;\">\n",
              "      <th></th>\n",
              "      <th>방송일시</th>\n",
              "      <th>노출(분)</th>\n",
              "      <th>마더코드</th>\n",
              "      <th>상품코드</th>\n",
              "      <th>상품명</th>\n",
              "      <th>상품군</th>\n",
              "      <th>판매단가</th>\n",
              "      <th>취급액</th>\n",
              "    </tr>\n",
              "  </thead>\n",
              "  <tbody>\n",
              "    <tr>\n",
              "      <th>0</th>\n",
              "      <td>2019-01-01 06:00:00</td>\n",
              "      <td>20.0</td>\n",
              "      <td>100346</td>\n",
              "      <td>201072</td>\n",
              "      <td>테이트 남성 셀린니트3종</td>\n",
              "      <td>의류</td>\n",
              "      <td>39900</td>\n",
              "      <td>2099000.0</td>\n",
              "    </tr>\n",
              "    <tr>\n",
              "      <th>1</th>\n",
              "      <td>2019-01-01 06:00:00</td>\n",
              "      <td>NaN</td>\n",
              "      <td>100346</td>\n",
              "      <td>201079</td>\n",
              "      <td>테이트 여성 셀린니트3종</td>\n",
              "      <td>의류</td>\n",
              "      <td>39900</td>\n",
              "      <td>4371000.0</td>\n",
              "    </tr>\n",
              "    <tr>\n",
              "      <th>2</th>\n",
              "      <td>2019-01-01 06:20:00</td>\n",
              "      <td>20.0</td>\n",
              "      <td>100346</td>\n",
              "      <td>201072</td>\n",
              "      <td>테이트 남성 셀린니트3종</td>\n",
              "      <td>의류</td>\n",
              "      <td>39900</td>\n",
              "      <td>3262000.0</td>\n",
              "    </tr>\n",
              "    <tr>\n",
              "      <th>3</th>\n",
              "      <td>2019-01-01 06:20:00</td>\n",
              "      <td>NaN</td>\n",
              "      <td>100346</td>\n",
              "      <td>201079</td>\n",
              "      <td>테이트 여성 셀린니트3종</td>\n",
              "      <td>의류</td>\n",
              "      <td>39900</td>\n",
              "      <td>6955000.0</td>\n",
              "    </tr>\n",
              "    <tr>\n",
              "      <th>4</th>\n",
              "      <td>2019-01-01 06:40:00</td>\n",
              "      <td>20.0</td>\n",
              "      <td>100346</td>\n",
              "      <td>201072</td>\n",
              "      <td>테이트 남성 셀린니트3종</td>\n",
              "      <td>의류</td>\n",
              "      <td>39900</td>\n",
              "      <td>6672000.0</td>\n",
              "    </tr>\n",
              "    <tr>\n",
              "      <th>5</th>\n",
              "      <td>2019-01-01 06:40:00</td>\n",
              "      <td>NaN</td>\n",
              "      <td>100346</td>\n",
              "      <td>201079</td>\n",
              "      <td>테이트 여성 셀린니트3종</td>\n",
              "      <td>의류</td>\n",
              "      <td>39900</td>\n",
              "      <td>9337000.0</td>\n",
              "    </tr>\n",
              "    <tr>\n",
              "      <th>6</th>\n",
              "      <td>2019-01-01 07:00:00</td>\n",
              "      <td>20.0</td>\n",
              "      <td>100305</td>\n",
              "      <td>200974</td>\n",
              "      <td>오모떼 레이스 파운데이션 브라</td>\n",
              "      <td>속옷</td>\n",
              "      <td>59000</td>\n",
              "      <td>6819000.0</td>\n",
              "    </tr>\n",
              "    <tr>\n",
              "      <th>7</th>\n",
              "      <td>2019-01-01 07:20:00</td>\n",
              "      <td>20.0</td>\n",
              "      <td>100305</td>\n",
              "      <td>200974</td>\n",
              "      <td>오모떼 레이스 파운데이션 브라</td>\n",
              "      <td>속옷</td>\n",
              "      <td>59000</td>\n",
              "      <td>15689000.0</td>\n",
              "    </tr>\n",
              "    <tr>\n",
              "      <th>8</th>\n",
              "      <td>2019-01-01 07:40:00</td>\n",
              "      <td>20.0</td>\n",
              "      <td>100305</td>\n",
              "      <td>200974</td>\n",
              "      <td>오모떼 레이스 파운데이션 브라</td>\n",
              "      <td>속옷</td>\n",
              "      <td>59000</td>\n",
              "      <td>25370000.0</td>\n",
              "    </tr>\n",
              "    <tr>\n",
              "      <th>9</th>\n",
              "      <td>2019-01-01 08:00:00</td>\n",
              "      <td>20.0</td>\n",
              "      <td>100808</td>\n",
              "      <td>202377</td>\n",
              "      <td>CERINI by PAT 남성 소프트 기모 릴렉스팬츠</td>\n",
              "      <td>의류</td>\n",
              "      <td>59900</td>\n",
              "      <td>16133000.0</td>\n",
              "    </tr>\n",
              "  </tbody>\n",
              "</table>\n",
              "</div>"
            ],
            "text/plain": [
              "                 방송일시  노출(분)    마더코드  ...  상품군   판매단가         취급액\n",
              "0 2019-01-01 06:00:00   20.0  100346  ...   의류  39900   2099000.0\n",
              "1 2019-01-01 06:00:00    NaN  100346  ...   의류  39900   4371000.0\n",
              "2 2019-01-01 06:20:00   20.0  100346  ...   의류  39900   3262000.0\n",
              "3 2019-01-01 06:20:00    NaN  100346  ...   의류  39900   6955000.0\n",
              "4 2019-01-01 06:40:00   20.0  100346  ...   의류  39900   6672000.0\n",
              "5 2019-01-01 06:40:00    NaN  100346  ...   의류  39900   9337000.0\n",
              "6 2019-01-01 07:00:00   20.0  100305  ...   속옷  59000   6819000.0\n",
              "7 2019-01-01 07:20:00   20.0  100305  ...   속옷  59000  15689000.0\n",
              "8 2019-01-01 07:40:00   20.0  100305  ...   속옷  59000  25370000.0\n",
              "9 2019-01-01 08:00:00   20.0  100808  ...   의류  59900  16133000.0\n",
              "\n",
              "[10 rows x 8 columns]"
            ]
          },
          "metadata": {
            "tags": []
          },
          "execution_count": 9
        }
      ]
    },
    {
      "cell_type": "code",
      "metadata": {
        "id": "MbWutedpA86V",
        "colab_type": "code",
        "colab": {
          "base_uri": "https://localhost:8080/",
          "height": 247
        },
        "outputId": "e65674b5-c794-424b-81c9-1d31a7aa3ae1"
      },
      "source": [
        "sellData_re['상품군'].value_counts()"
      ],
      "execution_count": null,
      "outputs": [
        {
          "output_type": "execute_result",
          "data": {
            "text/plain": [
              "주방      6604\n",
              "가전      6479\n",
              "의류      4340\n",
              "속옷      3919\n",
              "잡화      3891\n",
              "농수축     3884\n",
              "생활용품    2877\n",
              "가구      2614\n",
              "이미용     1305\n",
              "무형       937\n",
              "건강기능     790\n",
              "침구       669\n",
              "Name: 상품군, dtype: int64"
            ]
          },
          "metadata": {
            "tags": []
          },
          "execution_count": 5
        }
      ]
    },
    {
      "cell_type": "code",
      "metadata": {
        "id": "TlKG_xqUBj_0",
        "colab_type": "code",
        "colab": {
          "base_uri": "https://localhost:8080/",
          "height": 437
        },
        "outputId": "6e54edbd-abb9-4f71-f4f9-7899accf52fb"
      },
      "source": [
        "print(watchData.shape)\n",
        "print(watchData.info())\n",
        "watchData.head(5)"
      ],
      "execution_count": null,
      "outputs": [
        {
          "output_type": "stream",
          "text": [
            "(1441, 367)\n",
            "<class 'pandas.core.frame.DataFrame'>\n",
            "RangeIndex: 1441 entries, 0 to 1440\n",
            "Columns: 367 entries, 시간대 to 2019-01-01 to 2019-12-31\n",
            "dtypes: float64(366), object(1)\n",
            "memory usage: 4.0+ MB\n",
            "None\n"
          ],
          "name": "stdout"
        },
        {
          "output_type": "execute_result",
          "data": {
            "text/html": [
              "<div>\n",
              "<style scoped>\n",
              "    .dataframe tbody tr th:only-of-type {\n",
              "        vertical-align: middle;\n",
              "    }\n",
              "\n",
              "    .dataframe tbody tr th {\n",
              "        vertical-align: top;\n",
              "    }\n",
              "\n",
              "    .dataframe thead th {\n",
              "        text-align: right;\n",
              "    }\n",
              "</style>\n",
              "<table border=\"1\" class=\"dataframe\">\n",
              "  <thead>\n",
              "    <tr style=\"text-align: right;\">\n",
              "      <th></th>\n",
              "      <th>시간대</th>\n",
              "      <th>2019-01-01</th>\n",
              "      <th>2019-01-02</th>\n",
              "      <th>2019-01-03</th>\n",
              "      <th>2019-01-04</th>\n",
              "      <th>2019-01-05</th>\n",
              "      <th>2019-01-06</th>\n",
              "      <th>2019-01-07</th>\n",
              "      <th>2019-01-08</th>\n",
              "      <th>2019-01-09</th>\n",
              "      <th>2019-01-10</th>\n",
              "      <th>2019-01-11</th>\n",
              "      <th>2019-01-12</th>\n",
              "      <th>2019-01-13</th>\n",
              "      <th>2019-01-14</th>\n",
              "      <th>2019-01-15</th>\n",
              "      <th>2019-01-16</th>\n",
              "      <th>2019-01-17</th>\n",
              "      <th>2019-01-18</th>\n",
              "      <th>2019-01-19</th>\n",
              "      <th>2019-01-20</th>\n",
              "      <th>2019-01-21</th>\n",
              "      <th>2019-01-22</th>\n",
              "      <th>2019-01-23</th>\n",
              "      <th>2019-01-24</th>\n",
              "      <th>2019-01-25</th>\n",
              "      <th>2019-01-26</th>\n",
              "      <th>2019-01-27</th>\n",
              "      <th>2019-01-28</th>\n",
              "      <th>2019-01-29</th>\n",
              "      <th>2019-01-30</th>\n",
              "      <th>2019-01-31</th>\n",
              "      <th>2019-02-01</th>\n",
              "      <th>2019-02-02</th>\n",
              "      <th>2019-02-03</th>\n",
              "      <th>2019-02-04</th>\n",
              "      <th>2019-02-05</th>\n",
              "      <th>2019-02-06</th>\n",
              "      <th>2019-02-07</th>\n",
              "      <th>2019-02-08</th>\n",
              "      <th>...</th>\n",
              "      <th>2019-11-23</th>\n",
              "      <th>2019-11-24</th>\n",
              "      <th>2019-11-25</th>\n",
              "      <th>2019-11-26</th>\n",
              "      <th>2019-11-27</th>\n",
              "      <th>2019-11-28</th>\n",
              "      <th>2019-11-29</th>\n",
              "      <th>2019-11-30</th>\n",
              "      <th>2019-12-01</th>\n",
              "      <th>2019-12-02</th>\n",
              "      <th>2019-12-03</th>\n",
              "      <th>2019-12-04</th>\n",
              "      <th>2019-12-05</th>\n",
              "      <th>2019-12-06</th>\n",
              "      <th>2019-12-07</th>\n",
              "      <th>2019-12-08</th>\n",
              "      <th>2019-12-09</th>\n",
              "      <th>2019-12-10</th>\n",
              "      <th>2019-12-11</th>\n",
              "      <th>2019-12-12</th>\n",
              "      <th>2019-12-13</th>\n",
              "      <th>2019-12-14</th>\n",
              "      <th>2019-12-15</th>\n",
              "      <th>2019-12-16</th>\n",
              "      <th>2019-12-17</th>\n",
              "      <th>2019-12-18</th>\n",
              "      <th>2019-12-19</th>\n",
              "      <th>2019-12-20</th>\n",
              "      <th>2019-12-21</th>\n",
              "      <th>2019-12-22</th>\n",
              "      <th>2019-12-23</th>\n",
              "      <th>2019-12-24</th>\n",
              "      <th>2019-12-25</th>\n",
              "      <th>2019-12-26</th>\n",
              "      <th>2019-12-27</th>\n",
              "      <th>2019-12-28</th>\n",
              "      <th>2019-12-29</th>\n",
              "      <th>2019-12-30</th>\n",
              "      <th>2019-12-31</th>\n",
              "      <th>2019-01-01 to 2019-12-31</th>\n",
              "    </tr>\n",
              "  </thead>\n",
              "  <tbody>\n",
              "    <tr>\n",
              "      <th>0</th>\n",
              "      <td>02:00</td>\n",
              "      <td>0.0</td>\n",
              "      <td>0.0</td>\n",
              "      <td>0.000</td>\n",
              "      <td>0.0</td>\n",
              "      <td>0.0</td>\n",
              "      <td>0.0</td>\n",
              "      <td>0.0</td>\n",
              "      <td>0.0</td>\n",
              "      <td>0.0</td>\n",
              "      <td>0.000</td>\n",
              "      <td>0.0</td>\n",
              "      <td>0.0</td>\n",
              "      <td>0.0</td>\n",
              "      <td>0.0</td>\n",
              "      <td>0.0</td>\n",
              "      <td>0.0</td>\n",
              "      <td>0.006</td>\n",
              "      <td>0.0</td>\n",
              "      <td>0.0</td>\n",
              "      <td>0.0</td>\n",
              "      <td>0.0</td>\n",
              "      <td>0.0</td>\n",
              "      <td>0.0</td>\n",
              "      <td>0.0</td>\n",
              "      <td>0.0</td>\n",
              "      <td>0.0</td>\n",
              "      <td>0.0</td>\n",
              "      <td>0.0</td>\n",
              "      <td>0.0</td>\n",
              "      <td>0.0</td>\n",
              "      <td>0.0</td>\n",
              "      <td>0.0</td>\n",
              "      <td>0.0</td>\n",
              "      <td>0.0</td>\n",
              "      <td>0.0</td>\n",
              "      <td>0.0</td>\n",
              "      <td>0.0</td>\n",
              "      <td>0.038</td>\n",
              "      <td>0.0</td>\n",
              "      <td>...</td>\n",
              "      <td>0.0</td>\n",
              "      <td>0.0</td>\n",
              "      <td>0.0</td>\n",
              "      <td>0.0</td>\n",
              "      <td>0.0</td>\n",
              "      <td>0.000</td>\n",
              "      <td>0.0</td>\n",
              "      <td>0.0</td>\n",
              "      <td>0.0</td>\n",
              "      <td>0.000</td>\n",
              "      <td>0.048</td>\n",
              "      <td>0.0</td>\n",
              "      <td>0.0</td>\n",
              "      <td>0.0</td>\n",
              "      <td>0.0</td>\n",
              "      <td>0.018</td>\n",
              "      <td>0.000</td>\n",
              "      <td>0.035</td>\n",
              "      <td>0.030</td>\n",
              "      <td>0.016</td>\n",
              "      <td>0.0</td>\n",
              "      <td>0.0</td>\n",
              "      <td>0.0</td>\n",
              "      <td>0.0</td>\n",
              "      <td>0.0</td>\n",
              "      <td>0.0</td>\n",
              "      <td>0.0</td>\n",
              "      <td>0.012</td>\n",
              "      <td>0.0</td>\n",
              "      <td>0.0</td>\n",
              "      <td>0.0</td>\n",
              "      <td>0.0</td>\n",
              "      <td>0.000</td>\n",
              "      <td>0.0</td>\n",
              "      <td>0.0</td>\n",
              "      <td>0.0</td>\n",
              "      <td>0.0</td>\n",
              "      <td>0.0</td>\n",
              "      <td>0.000</td>\n",
              "      <td>0.003</td>\n",
              "    </tr>\n",
              "    <tr>\n",
              "      <th>1</th>\n",
              "      <td>02:01</td>\n",
              "      <td>0.0</td>\n",
              "      <td>0.0</td>\n",
              "      <td>0.000</td>\n",
              "      <td>0.0</td>\n",
              "      <td>0.0</td>\n",
              "      <td>0.0</td>\n",
              "      <td>0.0</td>\n",
              "      <td>0.0</td>\n",
              "      <td>0.0</td>\n",
              "      <td>0.005</td>\n",
              "      <td>0.0</td>\n",
              "      <td>0.0</td>\n",
              "      <td>0.0</td>\n",
              "      <td>0.0</td>\n",
              "      <td>0.0</td>\n",
              "      <td>0.0</td>\n",
              "      <td>0.006</td>\n",
              "      <td>0.0</td>\n",
              "      <td>0.0</td>\n",
              "      <td>0.0</td>\n",
              "      <td>0.0</td>\n",
              "      <td>0.0</td>\n",
              "      <td>0.0</td>\n",
              "      <td>0.0</td>\n",
              "      <td>0.0</td>\n",
              "      <td>0.0</td>\n",
              "      <td>0.0</td>\n",
              "      <td>0.0</td>\n",
              "      <td>0.0</td>\n",
              "      <td>0.0</td>\n",
              "      <td>0.0</td>\n",
              "      <td>0.0</td>\n",
              "      <td>0.0</td>\n",
              "      <td>0.0</td>\n",
              "      <td>0.0</td>\n",
              "      <td>0.0</td>\n",
              "      <td>0.0</td>\n",
              "      <td>0.038</td>\n",
              "      <td>0.0</td>\n",
              "      <td>...</td>\n",
              "      <td>0.0</td>\n",
              "      <td>0.0</td>\n",
              "      <td>0.0</td>\n",
              "      <td>0.0</td>\n",
              "      <td>0.0</td>\n",
              "      <td>0.022</td>\n",
              "      <td>0.0</td>\n",
              "      <td>0.0</td>\n",
              "      <td>0.0</td>\n",
              "      <td>0.000</td>\n",
              "      <td>0.048</td>\n",
              "      <td>0.0</td>\n",
              "      <td>0.0</td>\n",
              "      <td>0.0</td>\n",
              "      <td>0.0</td>\n",
              "      <td>0.018</td>\n",
              "      <td>0.000</td>\n",
              "      <td>0.035</td>\n",
              "      <td>0.030</td>\n",
              "      <td>0.016</td>\n",
              "      <td>0.0</td>\n",
              "      <td>0.0</td>\n",
              "      <td>0.0</td>\n",
              "      <td>0.0</td>\n",
              "      <td>0.0</td>\n",
              "      <td>0.0</td>\n",
              "      <td>0.0</td>\n",
              "      <td>0.012</td>\n",
              "      <td>0.0</td>\n",
              "      <td>0.0</td>\n",
              "      <td>0.0</td>\n",
              "      <td>0.0</td>\n",
              "      <td>0.000</td>\n",
              "      <td>0.0</td>\n",
              "      <td>0.0</td>\n",
              "      <td>0.0</td>\n",
              "      <td>0.0</td>\n",
              "      <td>0.0</td>\n",
              "      <td>0.012</td>\n",
              "      <td>0.003</td>\n",
              "    </tr>\n",
              "    <tr>\n",
              "      <th>2</th>\n",
              "      <td>02:02</td>\n",
              "      <td>0.0</td>\n",
              "      <td>0.0</td>\n",
              "      <td>0.000</td>\n",
              "      <td>0.0</td>\n",
              "      <td>0.0</td>\n",
              "      <td>0.0</td>\n",
              "      <td>0.0</td>\n",
              "      <td>0.0</td>\n",
              "      <td>0.0</td>\n",
              "      <td>0.005</td>\n",
              "      <td>0.0</td>\n",
              "      <td>0.0</td>\n",
              "      <td>0.0</td>\n",
              "      <td>0.0</td>\n",
              "      <td>0.0</td>\n",
              "      <td>0.0</td>\n",
              "      <td>0.006</td>\n",
              "      <td>0.0</td>\n",
              "      <td>0.0</td>\n",
              "      <td>0.0</td>\n",
              "      <td>0.0</td>\n",
              "      <td>0.0</td>\n",
              "      <td>0.0</td>\n",
              "      <td>0.0</td>\n",
              "      <td>0.0</td>\n",
              "      <td>0.0</td>\n",
              "      <td>0.0</td>\n",
              "      <td>0.0</td>\n",
              "      <td>0.0</td>\n",
              "      <td>0.0</td>\n",
              "      <td>0.0</td>\n",
              "      <td>0.0</td>\n",
              "      <td>0.0</td>\n",
              "      <td>0.0</td>\n",
              "      <td>0.0</td>\n",
              "      <td>0.0</td>\n",
              "      <td>0.0</td>\n",
              "      <td>0.038</td>\n",
              "      <td>0.0</td>\n",
              "      <td>...</td>\n",
              "      <td>0.0</td>\n",
              "      <td>0.0</td>\n",
              "      <td>0.0</td>\n",
              "      <td>0.0</td>\n",
              "      <td>0.0</td>\n",
              "      <td>0.022</td>\n",
              "      <td>0.0</td>\n",
              "      <td>0.0</td>\n",
              "      <td>0.0</td>\n",
              "      <td>0.000</td>\n",
              "      <td>0.033</td>\n",
              "      <td>0.0</td>\n",
              "      <td>0.0</td>\n",
              "      <td>0.0</td>\n",
              "      <td>0.0</td>\n",
              "      <td>0.018</td>\n",
              "      <td>0.018</td>\n",
              "      <td>0.035</td>\n",
              "      <td>0.067</td>\n",
              "      <td>0.016</td>\n",
              "      <td>0.0</td>\n",
              "      <td>0.0</td>\n",
              "      <td>0.0</td>\n",
              "      <td>0.0</td>\n",
              "      <td>0.0</td>\n",
              "      <td>0.0</td>\n",
              "      <td>0.0</td>\n",
              "      <td>0.012</td>\n",
              "      <td>0.0</td>\n",
              "      <td>0.0</td>\n",
              "      <td>0.0</td>\n",
              "      <td>0.0</td>\n",
              "      <td>0.000</td>\n",
              "      <td>0.0</td>\n",
              "      <td>0.0</td>\n",
              "      <td>0.0</td>\n",
              "      <td>0.0</td>\n",
              "      <td>0.0</td>\n",
              "      <td>0.000</td>\n",
              "      <td>0.004</td>\n",
              "    </tr>\n",
              "    <tr>\n",
              "      <th>3</th>\n",
              "      <td>02:03</td>\n",
              "      <td>0.0</td>\n",
              "      <td>0.0</td>\n",
              "      <td>0.014</td>\n",
              "      <td>0.0</td>\n",
              "      <td>0.0</td>\n",
              "      <td>0.0</td>\n",
              "      <td>0.0</td>\n",
              "      <td>0.0</td>\n",
              "      <td>0.0</td>\n",
              "      <td>0.005</td>\n",
              "      <td>0.0</td>\n",
              "      <td>0.0</td>\n",
              "      <td>0.0</td>\n",
              "      <td>0.0</td>\n",
              "      <td>0.0</td>\n",
              "      <td>0.0</td>\n",
              "      <td>0.006</td>\n",
              "      <td>0.0</td>\n",
              "      <td>0.0</td>\n",
              "      <td>0.0</td>\n",
              "      <td>0.0</td>\n",
              "      <td>0.0</td>\n",
              "      <td>0.0</td>\n",
              "      <td>0.0</td>\n",
              "      <td>0.0</td>\n",
              "      <td>0.0</td>\n",
              "      <td>0.0</td>\n",
              "      <td>0.0</td>\n",
              "      <td>0.0</td>\n",
              "      <td>0.0</td>\n",
              "      <td>0.0</td>\n",
              "      <td>0.0</td>\n",
              "      <td>0.0</td>\n",
              "      <td>0.0</td>\n",
              "      <td>0.0</td>\n",
              "      <td>0.0</td>\n",
              "      <td>0.0</td>\n",
              "      <td>0.038</td>\n",
              "      <td>0.0</td>\n",
              "      <td>...</td>\n",
              "      <td>0.0</td>\n",
              "      <td>0.0</td>\n",
              "      <td>0.0</td>\n",
              "      <td>0.0</td>\n",
              "      <td>0.0</td>\n",
              "      <td>0.022</td>\n",
              "      <td>0.0</td>\n",
              "      <td>0.0</td>\n",
              "      <td>0.0</td>\n",
              "      <td>0.000</td>\n",
              "      <td>0.033</td>\n",
              "      <td>0.0</td>\n",
              "      <td>0.0</td>\n",
              "      <td>0.0</td>\n",
              "      <td>0.0</td>\n",
              "      <td>0.018</td>\n",
              "      <td>0.018</td>\n",
              "      <td>0.035</td>\n",
              "      <td>0.067</td>\n",
              "      <td>0.016</td>\n",
              "      <td>0.0</td>\n",
              "      <td>0.0</td>\n",
              "      <td>0.0</td>\n",
              "      <td>0.0</td>\n",
              "      <td>0.0</td>\n",
              "      <td>0.0</td>\n",
              "      <td>0.0</td>\n",
              "      <td>0.012</td>\n",
              "      <td>0.0</td>\n",
              "      <td>0.0</td>\n",
              "      <td>0.0</td>\n",
              "      <td>0.0</td>\n",
              "      <td>0.017</td>\n",
              "      <td>0.0</td>\n",
              "      <td>0.0</td>\n",
              "      <td>0.0</td>\n",
              "      <td>0.0</td>\n",
              "      <td>0.0</td>\n",
              "      <td>0.000</td>\n",
              "      <td>0.004</td>\n",
              "    </tr>\n",
              "    <tr>\n",
              "      <th>4</th>\n",
              "      <td>02:04</td>\n",
              "      <td>0.0</td>\n",
              "      <td>0.0</td>\n",
              "      <td>0.000</td>\n",
              "      <td>0.0</td>\n",
              "      <td>0.0</td>\n",
              "      <td>0.0</td>\n",
              "      <td>0.0</td>\n",
              "      <td>0.0</td>\n",
              "      <td>0.0</td>\n",
              "      <td>0.005</td>\n",
              "      <td>0.0</td>\n",
              "      <td>0.0</td>\n",
              "      <td>0.0</td>\n",
              "      <td>0.0</td>\n",
              "      <td>0.0</td>\n",
              "      <td>0.0</td>\n",
              "      <td>0.006</td>\n",
              "      <td>0.0</td>\n",
              "      <td>0.0</td>\n",
              "      <td>0.0</td>\n",
              "      <td>0.0</td>\n",
              "      <td>0.0</td>\n",
              "      <td>0.0</td>\n",
              "      <td>0.0</td>\n",
              "      <td>0.0</td>\n",
              "      <td>0.0</td>\n",
              "      <td>0.0</td>\n",
              "      <td>0.0</td>\n",
              "      <td>0.0</td>\n",
              "      <td>0.0</td>\n",
              "      <td>0.0</td>\n",
              "      <td>0.0</td>\n",
              "      <td>0.0</td>\n",
              "      <td>0.0</td>\n",
              "      <td>0.0</td>\n",
              "      <td>0.0</td>\n",
              "      <td>0.0</td>\n",
              "      <td>0.038</td>\n",
              "      <td>0.0</td>\n",
              "      <td>...</td>\n",
              "      <td>0.0</td>\n",
              "      <td>0.0</td>\n",
              "      <td>0.0</td>\n",
              "      <td>0.0</td>\n",
              "      <td>0.0</td>\n",
              "      <td>0.000</td>\n",
              "      <td>0.0</td>\n",
              "      <td>0.0</td>\n",
              "      <td>0.0</td>\n",
              "      <td>0.012</td>\n",
              "      <td>0.033</td>\n",
              "      <td>0.0</td>\n",
              "      <td>0.0</td>\n",
              "      <td>0.0</td>\n",
              "      <td>0.0</td>\n",
              "      <td>0.018</td>\n",
              "      <td>0.000</td>\n",
              "      <td>0.035</td>\n",
              "      <td>0.067</td>\n",
              "      <td>0.016</td>\n",
              "      <td>0.0</td>\n",
              "      <td>0.0</td>\n",
              "      <td>0.0</td>\n",
              "      <td>0.0</td>\n",
              "      <td>0.0</td>\n",
              "      <td>0.0</td>\n",
              "      <td>0.0</td>\n",
              "      <td>0.012</td>\n",
              "      <td>0.0</td>\n",
              "      <td>0.0</td>\n",
              "      <td>0.0</td>\n",
              "      <td>0.0</td>\n",
              "      <td>0.017</td>\n",
              "      <td>0.0</td>\n",
              "      <td>0.0</td>\n",
              "      <td>0.0</td>\n",
              "      <td>0.0</td>\n",
              "      <td>0.0</td>\n",
              "      <td>0.000</td>\n",
              "      <td>0.004</td>\n",
              "    </tr>\n",
              "  </tbody>\n",
              "</table>\n",
              "<p>5 rows × 367 columns</p>\n",
              "</div>"
            ],
            "text/plain": [
              "     시간대  2019-01-01  ...  2019-12-31  2019-01-01 to 2019-12-31\n",
              "0  02:00         0.0  ...       0.000                     0.003\n",
              "1  02:01         0.0  ...       0.012                     0.003\n",
              "2  02:02         0.0  ...       0.000                     0.004\n",
              "3  02:03         0.0  ...       0.000                     0.004\n",
              "4  02:04         0.0  ...       0.000                     0.004\n",
              "\n",
              "[5 rows x 367 columns]"
            ]
          },
          "metadata": {
            "tags": []
          },
          "execution_count": 11
        }
      ]
    },
    {
      "cell_type": "markdown",
      "metadata": {
        "id": "wYCIhTrBBZE9",
        "colab_type": "text"
      },
      "source": [
        "# 불필요 Data제거 및 결측치 처리"
      ]
    },
    {
      "cell_type": "markdown",
      "metadata": {
        "id": "8rZNivj91U-o",
        "colab_type": "text"
      },
      "source": [
        "# 불필요 데이터(판매실적=0)\n",
        "\n",
        "\n",
        "\n",
        "\n",
        "\n"
      ]
    },
    {
      "cell_type": "code",
      "metadata": {
        "id": "F8F7Rrrf9Z5-",
        "colab_type": "code",
        "colab": {
          "base_uri": "https://localhost:8080/",
          "height": 34
        },
        "outputId": "436b400d-8b49-420e-8f41-ff8afaafd32e"
      },
      "source": [
        "sellData_re.columns"
      ],
      "execution_count": null,
      "outputs": [
        {
          "output_type": "execute_result",
          "data": {
            "text/plain": [
              "Index(['방송일시', '노출(분)', '마더코드', '상품코드', '상품명', '상품군', '판매단가', '취급액'], dtype='object')"
            ]
          },
          "metadata": {
            "tags": []
          },
          "execution_count": 5
        }
      ]
    },
    {
      "cell_type": "code",
      "metadata": {
        "id": "UVhH41x3A39s",
        "colab_type": "code",
        "colab": {
          "base_uri": "https://localhost:8080/",
          "height": 655
        },
        "outputId": "12d6fdc1-4dbc-4319-8b6e-d9345deb25f2"
      },
      "source": [
        "print(sellData_re[(sellData_re['상품군']=='무형')]) #937개가 무형제품.\n",
        "sellData_re[(sellData_re['판매단가']==0)] #상품군 무형인 Data들은 모두 판매단가도 0임 이것들을 지우겠다."
      ],
      "execution_count": null,
      "outputs": [
        {
          "output_type": "stream",
          "text": [
            "                     방송일시      노출(분)    마더코드  ...  상품군 판매단가 취급액\n",
            "2318  2019-01-25 19:00:00  60.000000  100507  ...   무형    0 NaN\n",
            "2845  2019-01-31 18:00:00  60.000000  100507  ...   무형    0 NaN\n",
            "3332  2019-02-05 18:00:00  60.000000  100507  ...   무형    0 NaN\n",
            "6570  2019-03-09 00:00:00  20.000000  100324  ...   무형    0 NaN\n",
            "6571  2019-03-09 00:20:00  20.000000  100324  ...   무형    0 NaN\n",
            "...                   ...        ...     ...  ...  ...  ...  ..\n",
            "38304 2020-01-01 00:20:00  20.000000  100073  ...   무형    0 NaN\n",
            "38305 2020-01-01 00:40:00  20.000000  100073  ...   무형    0 NaN\n",
            "38306 2020-01-01 01:00:00  20.000000  100073  ...   무형    0 NaN\n",
            "38307 2020-01-01 01:20:00  20.000000  100490  ...   무형    0 NaN\n",
            "38308 2020-01-01 01:40:00  17.166667  100490  ...   무형    0 NaN\n",
            "\n",
            "[937 rows x 8 columns]\n"
          ],
          "name": "stdout"
        },
        {
          "output_type": "execute_result",
          "data": {
            "text/html": [
              "<div>\n",
              "<style scoped>\n",
              "    .dataframe tbody tr th:only-of-type {\n",
              "        vertical-align: middle;\n",
              "    }\n",
              "\n",
              "    .dataframe tbody tr th {\n",
              "        vertical-align: top;\n",
              "    }\n",
              "\n",
              "    .dataframe thead th {\n",
              "        text-align: right;\n",
              "    }\n",
              "</style>\n",
              "<table border=\"1\" class=\"dataframe\">\n",
              "  <thead>\n",
              "    <tr style=\"text-align: right;\">\n",
              "      <th></th>\n",
              "      <th>방송일시</th>\n",
              "      <th>노출(분)</th>\n",
              "      <th>마더코드</th>\n",
              "      <th>상품코드</th>\n",
              "      <th>상품명</th>\n",
              "      <th>상품군</th>\n",
              "      <th>판매단가</th>\n",
              "      <th>취급액</th>\n",
              "    </tr>\n",
              "  </thead>\n",
              "  <tbody>\n",
              "    <tr>\n",
              "      <th>2318</th>\n",
              "      <td>2019-01-25 19:00:00</td>\n",
              "      <td>60.000000</td>\n",
              "      <td>100507</td>\n",
              "      <td>201567</td>\n",
              "      <td>TCOM_처브치아보험</td>\n",
              "      <td>무형</td>\n",
              "      <td>0</td>\n",
              "      <td>NaN</td>\n",
              "    </tr>\n",
              "    <tr>\n",
              "      <th>2845</th>\n",
              "      <td>2019-01-31 18:00:00</td>\n",
              "      <td>60.000000</td>\n",
              "      <td>100507</td>\n",
              "      <td>201567</td>\n",
              "      <td>TCOM_처브치아보험</td>\n",
              "      <td>무형</td>\n",
              "      <td>0</td>\n",
              "      <td>NaN</td>\n",
              "    </tr>\n",
              "    <tr>\n",
              "      <th>3332</th>\n",
              "      <td>2019-02-05 18:00:00</td>\n",
              "      <td>60.000000</td>\n",
              "      <td>100507</td>\n",
              "      <td>201567</td>\n",
              "      <td>TCOM_처브치아보험</td>\n",
              "      <td>무형</td>\n",
              "      <td>0</td>\n",
              "      <td>NaN</td>\n",
              "    </tr>\n",
              "    <tr>\n",
              "      <th>6570</th>\n",
              "      <td>2019-03-09 00:00:00</td>\n",
              "      <td>20.000000</td>\n",
              "      <td>100324</td>\n",
              "      <td>201095</td>\n",
              "      <td>온라인투어 동남아 나트랑/빈펄랜드 (190309)</td>\n",
              "      <td>무형</td>\n",
              "      <td>0</td>\n",
              "      <td>NaN</td>\n",
              "    </tr>\n",
              "    <tr>\n",
              "      <th>6571</th>\n",
              "      <td>2019-03-09 00:20:00</td>\n",
              "      <td>20.000000</td>\n",
              "      <td>100324</td>\n",
              "      <td>201095</td>\n",
              "      <td>온라인투어 동남아 나트랑/빈펄랜드 (190309)</td>\n",
              "      <td>무형</td>\n",
              "      <td>0</td>\n",
              "      <td>NaN</td>\n",
              "    </tr>\n",
              "    <tr>\n",
              "      <th>...</th>\n",
              "      <td>...</td>\n",
              "      <td>...</td>\n",
              "      <td>...</td>\n",
              "      <td>...</td>\n",
              "      <td>...</td>\n",
              "      <td>...</td>\n",
              "      <td>...</td>\n",
              "      <td>...</td>\n",
              "    </tr>\n",
              "    <tr>\n",
              "      <th>38304</th>\n",
              "      <td>2020-01-01 00:20:00</td>\n",
              "      <td>20.000000</td>\n",
              "      <td>100073</td>\n",
              "      <td>200196</td>\n",
              "      <td>삼성화재 행복한파트너 주택화재보험(1912)</td>\n",
              "      <td>무형</td>\n",
              "      <td>0</td>\n",
              "      <td>NaN</td>\n",
              "    </tr>\n",
              "    <tr>\n",
              "      <th>38305</th>\n",
              "      <td>2020-01-01 00:40:00</td>\n",
              "      <td>20.000000</td>\n",
              "      <td>100073</td>\n",
              "      <td>200196</td>\n",
              "      <td>삼성화재 행복한파트너 주택화재보험(1912)</td>\n",
              "      <td>무형</td>\n",
              "      <td>0</td>\n",
              "      <td>NaN</td>\n",
              "    </tr>\n",
              "    <tr>\n",
              "      <th>38306</th>\n",
              "      <td>2020-01-01 01:00:00</td>\n",
              "      <td>20.000000</td>\n",
              "      <td>100073</td>\n",
              "      <td>200196</td>\n",
              "      <td>삼성화재 행복한파트너 주택화재보험(1912)</td>\n",
              "      <td>무형</td>\n",
              "      <td>0</td>\n",
              "      <td>NaN</td>\n",
              "    </tr>\n",
              "    <tr>\n",
              "      <th>38307</th>\n",
              "      <td>2020-01-01 01:20:00</td>\n",
              "      <td>20.000000</td>\n",
              "      <td>100490</td>\n",
              "      <td>201478</td>\n",
              "      <td>더케이 예다함 상조서비스(티포트)</td>\n",
              "      <td>무형</td>\n",
              "      <td>0</td>\n",
              "      <td>NaN</td>\n",
              "    </tr>\n",
              "    <tr>\n",
              "      <th>38308</th>\n",
              "      <td>2020-01-01 01:40:00</td>\n",
              "      <td>17.166667</td>\n",
              "      <td>100490</td>\n",
              "      <td>201478</td>\n",
              "      <td>더케이 예다함 상조서비스(티포트)</td>\n",
              "      <td>무형</td>\n",
              "      <td>0</td>\n",
              "      <td>NaN</td>\n",
              "    </tr>\n",
              "  </tbody>\n",
              "</table>\n",
              "<p>937 rows × 8 columns</p>\n",
              "</div>"
            ],
            "text/plain": [
              "                     방송일시      노출(분)    마더코드  ...  상품군 판매단가 취급액\n",
              "2318  2019-01-25 19:00:00  60.000000  100507  ...   무형    0 NaN\n",
              "2845  2019-01-31 18:00:00  60.000000  100507  ...   무형    0 NaN\n",
              "3332  2019-02-05 18:00:00  60.000000  100507  ...   무형    0 NaN\n",
              "6570  2019-03-09 00:00:00  20.000000  100324  ...   무형    0 NaN\n",
              "6571  2019-03-09 00:20:00  20.000000  100324  ...   무형    0 NaN\n",
              "...                   ...        ...     ...  ...  ...  ...  ..\n",
              "38304 2020-01-01 00:20:00  20.000000  100073  ...   무형    0 NaN\n",
              "38305 2020-01-01 00:40:00  20.000000  100073  ...   무형    0 NaN\n",
              "38306 2020-01-01 01:00:00  20.000000  100073  ...   무형    0 NaN\n",
              "38307 2020-01-01 01:20:00  20.000000  100490  ...   무형    0 NaN\n",
              "38308 2020-01-01 01:40:00  17.166667  100490  ...   무형    0 NaN\n",
              "\n",
              "[937 rows x 8 columns]"
            ]
          },
          "metadata": {
            "tags": []
          },
          "execution_count": 6
        }
      ]
    },
    {
      "cell_type": "code",
      "metadata": {
        "id": "QtnlJG7qIqiJ",
        "colab_type": "code",
        "colab": {}
      },
      "source": [
        "Intangible_data = sellData_re[sellData_re['판매단가']!=0] \n",
        "Selling = sellData_re[sellData_re['판매단가']!=0]\n"
      ],
      "execution_count": 10,
      "outputs": []
    },
    {
      "cell_type": "code",
      "metadata": {
        "id": "XtCf81xOMqB9",
        "colab_type": "code",
        "colab": {}
      },
      "source": [
        "from datetime import datetime,timedelta"
      ],
      "execution_count": 11,
      "outputs": []
    },
    {
      "cell_type": "markdown",
      "metadata": {
        "id": "eI1iF-wI1qAH",
        "colab_type": "text"
      },
      "source": [
        "# 결측치( 노출('분) )"
      ]
    },
    {
      "cell_type": "code",
      "metadata": {
        "id": "3GFKg_66Iqpx",
        "colab_type": "code",
        "colab": {}
      },
      "source": [
        "testsell = Selling.copy() #testsell에서 노출(분) 채우는 실험을 해보겠음.\n",
        "Time_NaN_Index = testsell[testsell['노출(분)'].isnull()].index # 노출(분)이 채워지지 않은놈들의 인덱스"
      ],
      "execution_count": 12,
      "outputs": []
    },
    {
      "cell_type": "code",
      "metadata": {
        "id": "4BTtyTs1Laph",
        "colab_type": "code",
        "colab": {
          "base_uri": "https://localhost:8080/",
          "height": 494
        },
        "outputId": "92d0c291-59ea-4501-a55b-cb096665d490"
      },
      "source": [
        "#노출(분) 채우는규칙? (같은 마더코드의) 같은 시간대인 놈의 노출(분)으로 채우면 될 듯.\n",
        "#근데 한 시간대에 여러 마더코드가 있지 않으니.. 그냥 같은 시간대에 방송된 다른 notnull 노출(분)값을 넣자.\n",
        "groupmax = testsell[\"노출(분)\"].groupby(testsell['방송일시']).max()\n",
        "\n",
        "# groupmax.index는 방송일시가 들어있다.\n",
        "# Time_NaN_BroadTime에도 방송일시가 들어있다\n",
        "# Time_NaN_Index엔 노출(분) Null인 인덱스(주소)가 들어있다.\n",
        "# groupmax엔 방송일시별로 노출(분)이 들어있다.\n",
        "\n",
        "for i in Time_NaN_Index:\n",
        "  testsell['노출(분)'][i] = groupmax[testsell['방송일시'][i]]\n",
        "testsell[348:] # 성공적으로 결측치를 대체했다."
      ],
      "execution_count": 13,
      "outputs": [
        {
          "output_type": "stream",
          "text": [
            "/usr/local/lib/python3.6/dist-packages/ipykernel_launcher.py:11: SettingWithCopyWarning: \n",
            "A value is trying to be set on a copy of a slice from a DataFrame\n",
            "\n",
            "See the caveats in the documentation: https://pandas.pydata.org/pandas-docs/stable/user_guide/indexing.html#returning-a-view-versus-a-copy\n",
            "  # This is added back by InteractiveShellApp.init_path()\n"
          ],
          "name": "stderr"
        },
        {
          "output_type": "execute_result",
          "data": {
            "text/html": [
              "<div>\n",
              "<style scoped>\n",
              "    .dataframe tbody tr th:only-of-type {\n",
              "        vertical-align: middle;\n",
              "    }\n",
              "\n",
              "    .dataframe tbody tr th {\n",
              "        vertical-align: top;\n",
              "    }\n",
              "\n",
              "    .dataframe thead th {\n",
              "        text-align: right;\n",
              "    }\n",
              "</style>\n",
              "<table border=\"1\" class=\"dataframe\">\n",
              "  <thead>\n",
              "    <tr style=\"text-align: right;\">\n",
              "      <th></th>\n",
              "      <th>방송일시</th>\n",
              "      <th>노출(분)</th>\n",
              "      <th>마더코드</th>\n",
              "      <th>상품코드</th>\n",
              "      <th>상품명</th>\n",
              "      <th>상품군</th>\n",
              "      <th>판매단가</th>\n",
              "      <th>취급액</th>\n",
              "    </tr>\n",
              "  </thead>\n",
              "  <tbody>\n",
              "    <tr>\n",
              "      <th>348</th>\n",
              "      <td>2019-01-05 01:20:00</td>\n",
              "      <td>20.0</td>\n",
              "      <td>100293</td>\n",
              "      <td>200949</td>\n",
              "      <td>무이자[가이거] 제니스시계 주얼리세트</td>\n",
              "      <td>잡화</td>\n",
              "      <td>139000</td>\n",
              "      <td>15561000.0</td>\n",
              "    </tr>\n",
              "    <tr>\n",
              "      <th>349</th>\n",
              "      <td>2019-01-05 01:40:00</td>\n",
              "      <td>17.1</td>\n",
              "      <td>100293</td>\n",
              "      <td>200952</td>\n",
              "      <td>일시불[가이거] 제니스시계 주얼리세트</td>\n",
              "      <td>잡화</td>\n",
              "      <td>129000</td>\n",
              "      <td>20633000.0</td>\n",
              "    </tr>\n",
              "    <tr>\n",
              "      <th>350</th>\n",
              "      <td>2019-01-05 01:40:00</td>\n",
              "      <td>17.1</td>\n",
              "      <td>100293</td>\n",
              "      <td>200949</td>\n",
              "      <td>무이자[가이거] 제니스시계 주얼리세트</td>\n",
              "      <td>잡화</td>\n",
              "      <td>139000</td>\n",
              "      <td>8495000.0</td>\n",
              "    </tr>\n",
              "    <tr>\n",
              "      <th>351</th>\n",
              "      <td>2019-01-05 06:00:00</td>\n",
              "      <td>20.0</td>\n",
              "      <td>100267</td>\n",
              "      <td>200883</td>\n",
              "      <td>스칼프솔루션 트리트먼트 패키지</td>\n",
              "      <td>이미용</td>\n",
              "      <td>50900</td>\n",
              "      <td>4976000.0</td>\n",
              "    </tr>\n",
              "    <tr>\n",
              "      <th>352</th>\n",
              "      <td>2019-01-05 06:20:00</td>\n",
              "      <td>20.0</td>\n",
              "      <td>100267</td>\n",
              "      <td>200883</td>\n",
              "      <td>스칼프솔루션 트리트먼트 패키지</td>\n",
              "      <td>이미용</td>\n",
              "      <td>50900</td>\n",
              "      <td>11784000.0</td>\n",
              "    </tr>\n",
              "    <tr>\n",
              "      <th>...</th>\n",
              "      <td>...</td>\n",
              "      <td>...</td>\n",
              "      <td>...</td>\n",
              "      <td>...</td>\n",
              "      <td>...</td>\n",
              "      <td>...</td>\n",
              "      <td>...</td>\n",
              "      <td>...</td>\n",
              "    </tr>\n",
              "    <tr>\n",
              "      <th>38299</th>\n",
              "      <td>2019-12-31 23:40:00</td>\n",
              "      <td>20.0</td>\n",
              "      <td>100448</td>\n",
              "      <td>201391</td>\n",
              "      <td>일시불쿠첸압력밥솥 6인용</td>\n",
              "      <td>주방</td>\n",
              "      <td>148000</td>\n",
              "      <td>10157000.0</td>\n",
              "    </tr>\n",
              "    <tr>\n",
              "      <th>38300</th>\n",
              "      <td>2020-01-01 00:00:00</td>\n",
              "      <td>20.0</td>\n",
              "      <td>100448</td>\n",
              "      <td>201383</td>\n",
              "      <td>무이자쿠첸압력밥솥 10인용</td>\n",
              "      <td>주방</td>\n",
              "      <td>178000</td>\n",
              "      <td>50929000.0</td>\n",
              "    </tr>\n",
              "    <tr>\n",
              "      <th>38301</th>\n",
              "      <td>2020-01-01 00:00:00</td>\n",
              "      <td>20.0</td>\n",
              "      <td>100448</td>\n",
              "      <td>201390</td>\n",
              "      <td>일시불쿠첸압력밥솥 10인용</td>\n",
              "      <td>주방</td>\n",
              "      <td>168000</td>\n",
              "      <td>104392000.0</td>\n",
              "    </tr>\n",
              "    <tr>\n",
              "      <th>38302</th>\n",
              "      <td>2020-01-01 00:00:00</td>\n",
              "      <td>20.0</td>\n",
              "      <td>100448</td>\n",
              "      <td>201384</td>\n",
              "      <td>무이자쿠첸압력밥솥 6인용</td>\n",
              "      <td>주방</td>\n",
              "      <td>158000</td>\n",
              "      <td>13765000.0</td>\n",
              "    </tr>\n",
              "    <tr>\n",
              "      <th>38303</th>\n",
              "      <td>2020-01-01 00:00:00</td>\n",
              "      <td>20.0</td>\n",
              "      <td>100448</td>\n",
              "      <td>201391</td>\n",
              "      <td>일시불쿠첸압력밥솥 6인용</td>\n",
              "      <td>주방</td>\n",
              "      <td>148000</td>\n",
              "      <td>46608000.0</td>\n",
              "    </tr>\n",
              "  </tbody>\n",
              "</table>\n",
              "<p>37024 rows × 8 columns</p>\n",
              "</div>"
            ],
            "text/plain": [
              "                     방송일시  노출(분)    마더코드  ...  상품군    판매단가          취급액\n",
              "348   2019-01-05 01:20:00   20.0  100293  ...   잡화  139000   15561000.0\n",
              "349   2019-01-05 01:40:00   17.1  100293  ...   잡화  129000   20633000.0\n",
              "350   2019-01-05 01:40:00   17.1  100293  ...   잡화  139000    8495000.0\n",
              "351   2019-01-05 06:00:00   20.0  100267  ...  이미용   50900    4976000.0\n",
              "352   2019-01-05 06:20:00   20.0  100267  ...  이미용   50900   11784000.0\n",
              "...                   ...    ...     ...  ...  ...     ...          ...\n",
              "38299 2019-12-31 23:40:00   20.0  100448  ...   주방  148000   10157000.0\n",
              "38300 2020-01-01 00:00:00   20.0  100448  ...   주방  178000   50929000.0\n",
              "38301 2020-01-01 00:00:00   20.0  100448  ...   주방  168000  104392000.0\n",
              "38302 2020-01-01 00:00:00   20.0  100448  ...   주방  158000   13765000.0\n",
              "38303 2020-01-01 00:00:00   20.0  100448  ...   주방  148000   46608000.0\n",
              "\n",
              "[37024 rows x 8 columns]"
            ]
          },
          "metadata": {
            "tags": []
          },
          "execution_count": 13
        }
      ]
    },
    {
      "cell_type": "code",
      "metadata": {
        "id": "-IYnZFRe2Agm",
        "colab_type": "code",
        "colab": {
          "base_uri": "https://localhost:8080/",
          "height": 0
        },
        "outputId": "7b2984e7-a581-4953-c644-3d7af1571c26"
      },
      "source": [
        "Selling = testsell\n",
        "del(testsell)\n",
        "Selling.info()"
      ],
      "execution_count": 14,
      "outputs": [
        {
          "output_type": "stream",
          "text": [
            "<class 'pandas.core.frame.DataFrame'>\n",
            "Int64Index: 37372 entries, 0 to 38303\n",
            "Data columns (total 8 columns):\n",
            " #   Column  Non-Null Count  Dtype         \n",
            "---  ------  --------------  -----         \n",
            " 0   방송일시    37372 non-null  datetime64[ns]\n",
            " 1   노출(분)   37372 non-null  float64       \n",
            " 2   마더코드    37372 non-null  int64         \n",
            " 3   상품코드    37372 non-null  int64         \n",
            " 4   상품명     37372 non-null  object        \n",
            " 5   상품군     37372 non-null  object        \n",
            " 6   판매단가    37372 non-null  int64         \n",
            " 7   취급액     35379 non-null  float64       \n",
            "dtypes: datetime64[ns](1), float64(2), int64(3), object(2)\n",
            "memory usage: 3.8+ MB\n"
          ],
          "name": "stdout"
        }
      ]
    },
    {
      "cell_type": "markdown",
      "metadata": {
        "id": "mMs8LE_n2J60",
        "colab_type": "text"
      },
      "source": [
        "# 결측치( 취급액(기존에 5만원) )"
      ]
    },
    {
      "cell_type": "code",
      "metadata": {
        "id": "nFLXfUki2NPX",
        "colab_type": "code",
        "colab": {
          "base_uri": "https://localhost:8080/",
          "height": 0
        },
        "outputId": "5761b13e-dbe9-4633-918d-2afe74bbe1e4"
      },
      "source": [
        "Selling[Selling['취급액'].isnull()]"
      ],
      "execution_count": 15,
      "outputs": [
        {
          "output_type": "execute_result",
          "data": {
            "text/html": [
              "<div>\n",
              "<style scoped>\n",
              "    .dataframe tbody tr th:only-of-type {\n",
              "        vertical-align: middle;\n",
              "    }\n",
              "\n",
              "    .dataframe tbody tr th {\n",
              "        vertical-align: top;\n",
              "    }\n",
              "\n",
              "    .dataframe thead th {\n",
              "        text-align: right;\n",
              "    }\n",
              "</style>\n",
              "<table border=\"1\" class=\"dataframe\">\n",
              "  <thead>\n",
              "    <tr style=\"text-align: right;\">\n",
              "      <th></th>\n",
              "      <th>방송일시</th>\n",
              "      <th>노출(분)</th>\n",
              "      <th>마더코드</th>\n",
              "      <th>상품코드</th>\n",
              "      <th>상품명</th>\n",
              "      <th>상품군</th>\n",
              "      <th>판매단가</th>\n",
              "      <th>취급액</th>\n",
              "    </tr>\n",
              "  </thead>\n",
              "  <tbody>\n",
              "    <tr>\n",
              "      <th>144</th>\n",
              "      <td>2019-01-02 22:00:00</td>\n",
              "      <td>20.0</td>\n",
              "      <td>100148</td>\n",
              "      <td>200432</td>\n",
              "      <td>무이자 LG 울트라HD TV 55UK6800HNC</td>\n",
              "      <td>가전</td>\n",
              "      <td>1440000</td>\n",
              "      <td>NaN</td>\n",
              "    </tr>\n",
              "    <tr>\n",
              "      <th>147</th>\n",
              "      <td>2019-01-02 22:00:00</td>\n",
              "      <td>20.0</td>\n",
              "      <td>100148</td>\n",
              "      <td>200518</td>\n",
              "      <td>일시불 LG 울트라HD TV 70UK7400KNA</td>\n",
              "      <td>가전</td>\n",
              "      <td>2700000</td>\n",
              "      <td>NaN</td>\n",
              "    </tr>\n",
              "    <tr>\n",
              "      <th>148</th>\n",
              "      <td>2019-01-02 22:00:00</td>\n",
              "      <td>20.0</td>\n",
              "      <td>100148</td>\n",
              "      <td>200451</td>\n",
              "      <td>무이자 LG 울트라HD TV 70UK7400KNA</td>\n",
              "      <td>가전</td>\n",
              "      <td>2990000</td>\n",
              "      <td>NaN</td>\n",
              "    </tr>\n",
              "    <tr>\n",
              "      <th>153</th>\n",
              "      <td>2019-01-02 22:20:00</td>\n",
              "      <td>20.0</td>\n",
              "      <td>100148</td>\n",
              "      <td>200518</td>\n",
              "      <td>일시불 LG 울트라HD TV 70UK7400KNA</td>\n",
              "      <td>가전</td>\n",
              "      <td>2700000</td>\n",
              "      <td>NaN</td>\n",
              "    </tr>\n",
              "    <tr>\n",
              "      <th>154</th>\n",
              "      <td>2019-01-02 22:20:00</td>\n",
              "      <td>20.0</td>\n",
              "      <td>100148</td>\n",
              "      <td>200451</td>\n",
              "      <td>무이자 LG 울트라HD TV 70UK7400KNA</td>\n",
              "      <td>가전</td>\n",
              "      <td>2990000</td>\n",
              "      <td>NaN</td>\n",
              "    </tr>\n",
              "    <tr>\n",
              "      <th>...</th>\n",
              "      <td>...</td>\n",
              "      <td>...</td>\n",
              "      <td>...</td>\n",
              "      <td>...</td>\n",
              "      <td>...</td>\n",
              "      <td>...</td>\n",
              "      <td>...</td>\n",
              "      <td>...</td>\n",
              "    </tr>\n",
              "    <tr>\n",
              "      <th>37709</th>\n",
              "      <td>2019-12-25 10:20:00</td>\n",
              "      <td>30.1</td>\n",
              "      <td>100036</td>\n",
              "      <td>200070</td>\n",
              "      <td>구찌 인터로킹 GG 탑핸들 체인 숄더 스몰</td>\n",
              "      <td>잡화</td>\n",
              "      <td>2590000</td>\n",
              "      <td>NaN</td>\n",
              "    </tr>\n",
              "    <tr>\n",
              "      <th>37967</th>\n",
              "      <td>2019-12-28 10:20:00</td>\n",
              "      <td>30.1</td>\n",
              "      <td>100036</td>\n",
              "      <td>200070</td>\n",
              "      <td>구찌 인터로킹 GG 탑핸들 체인 숄더 스몰</td>\n",
              "      <td>잡화</td>\n",
              "      <td>2590000</td>\n",
              "      <td>NaN</td>\n",
              "    </tr>\n",
              "    <tr>\n",
              "      <th>37969</th>\n",
              "      <td>2019-12-28 10:20:00</td>\n",
              "      <td>30.1</td>\n",
              "      <td>100039</td>\n",
              "      <td>200073</td>\n",
              "      <td>버버리 홀스페리 페이톤 크로스백</td>\n",
              "      <td>잡화</td>\n",
              "      <td>880000</td>\n",
              "      <td>NaN</td>\n",
              "    </tr>\n",
              "    <tr>\n",
              "      <th>38025</th>\n",
              "      <td>2019-12-28 21:20:00</td>\n",
              "      <td>20.0</td>\n",
              "      <td>100372</td>\n",
              "      <td>201169</td>\n",
              "      <td>(싱글+싱글)일월 품안애 온수매트</td>\n",
              "      <td>생활용품</td>\n",
              "      <td>198000</td>\n",
              "      <td>NaN</td>\n",
              "    </tr>\n",
              "    <tr>\n",
              "      <th>38123</th>\n",
              "      <td>2019-12-29 23:20:00</td>\n",
              "      <td>20.0</td>\n",
              "      <td>100182</td>\n",
              "      <td>200612</td>\n",
              "      <td>무이자 선일금고 이볼브 시리즈 EV-020</td>\n",
              "      <td>생활용품</td>\n",
              "      <td>440000</td>\n",
              "      <td>NaN</td>\n",
              "    </tr>\n",
              "  </tbody>\n",
              "</table>\n",
              "<p>1993 rows × 8 columns</p>\n",
              "</div>"
            ],
            "text/plain": [
              "                     방송일시  노출(분)    마더코드  ...   상품군     판매단가 취급액\n",
              "144   2019-01-02 22:00:00   20.0  100148  ...    가전  1440000 NaN\n",
              "147   2019-01-02 22:00:00   20.0  100148  ...    가전  2700000 NaN\n",
              "148   2019-01-02 22:00:00   20.0  100148  ...    가전  2990000 NaN\n",
              "153   2019-01-02 22:20:00   20.0  100148  ...    가전  2700000 NaN\n",
              "154   2019-01-02 22:20:00   20.0  100148  ...    가전  2990000 NaN\n",
              "...                   ...    ...     ...  ...   ...      ...  ..\n",
              "37709 2019-12-25 10:20:00   30.1  100036  ...    잡화  2590000 NaN\n",
              "37967 2019-12-28 10:20:00   30.1  100036  ...    잡화  2590000 NaN\n",
              "37969 2019-12-28 10:20:00   30.1  100039  ...    잡화   880000 NaN\n",
              "38025 2019-12-28 21:20:00   20.0  100372  ...  생활용품   198000 NaN\n",
              "38123 2019-12-29 23:20:00   20.0  100182  ...  생활용품   440000 NaN\n",
              "\n",
              "[1993 rows x 8 columns]"
            ]
          },
          "metadata": {
            "tags": []
          },
          "execution_count": 15
        }
      ]
    },
    {
      "cell_type": "code",
      "metadata": {
        "id": "tDNn4keD2NR_",
        "colab_type": "code",
        "colab": {}
      },
      "source": [
        ""
      ],
      "execution_count": null,
      "outputs": []
    },
    {
      "cell_type": "code",
      "metadata": {
        "id": "pKU6c2up2NUP",
        "colab_type": "code",
        "colab": {}
      },
      "source": [
        ""
      ],
      "execution_count": null,
      "outputs": []
    },
    {
      "cell_type": "code",
      "metadata": {
        "id": "Z5F8ml6d2NXU",
        "colab_type": "code",
        "colab": {}
      },
      "source": [
        ""
      ],
      "execution_count": null,
      "outputs": []
    },
    {
      "cell_type": "code",
      "metadata": {
        "id": "-l9cQJNb2NZt",
        "colab_type": "code",
        "colab": {}
      },
      "source": [
        ""
      ],
      "execution_count": null,
      "outputs": []
    },
    {
      "cell_type": "markdown",
      "metadata": {
        "id": "bTnbarXi4Jo1",
        "colab_type": "text"
      },
      "source": [
        "# 실적데이터 전체 기본분석(EDA)"
      ]
    },
    {
      "cell_type": "code",
      "metadata": {
        "id": "wJZa4RvD4JMW",
        "colab_type": "code",
        "colab": {
          "base_uri": "https://localhost:8080/",
          "height": 0
        },
        "outputId": "4e7128f8-870f-4514-c925-bc91743a238b"
      },
      "source": [
        "#날짜데이터 분리\n",
        "Selling[\"방송일시_년도\"] = Selling[\"방송일시\"].dt.year\n",
        "Selling[\"방송일시_월\"] = Selling[\"방송일시\"].dt.month\n",
        "Selling[\"방송일시_일\"] = Selling[\"방송일시\"].dt.day\n",
        "Selling[\"방송일시_시\"] = Selling[\"방송일시\"].dt.hour\n",
        "Selling[\"방송일시_분\"] = Selling[\"방송일시\"].dt.minute\n",
        "Selling[\"방송일시_초\"] = Selling[\"방송일시\"].dt.second\n",
        "Selling[\"방송일시_요일\"] = Selling[\"방송일시\"].dt.dayofweek\n",
        "print(Selling.shape)\n",
        "Selling[[\"방송일시\", \"방송일시_년도\",\"방송일시_월\",\"방송일시_일\",\"방송일시_시\",\"방송일시_분\",\"방송일시_초\",\"방송일시_요일\"]].head() #0-월요일 ~ 6-일요일"
      ],
      "execution_count": 16,
      "outputs": [
        {
          "output_type": "stream",
          "text": [
            "(37372, 15)\n"
          ],
          "name": "stdout"
        },
        {
          "output_type": "execute_result",
          "data": {
            "text/html": [
              "<div>\n",
              "<style scoped>\n",
              "    .dataframe tbody tr th:only-of-type {\n",
              "        vertical-align: middle;\n",
              "    }\n",
              "\n",
              "    .dataframe tbody tr th {\n",
              "        vertical-align: top;\n",
              "    }\n",
              "\n",
              "    .dataframe thead th {\n",
              "        text-align: right;\n",
              "    }\n",
              "</style>\n",
              "<table border=\"1\" class=\"dataframe\">\n",
              "  <thead>\n",
              "    <tr style=\"text-align: right;\">\n",
              "      <th></th>\n",
              "      <th>방송일시</th>\n",
              "      <th>방송일시_년도</th>\n",
              "      <th>방송일시_월</th>\n",
              "      <th>방송일시_일</th>\n",
              "      <th>방송일시_시</th>\n",
              "      <th>방송일시_분</th>\n",
              "      <th>방송일시_초</th>\n",
              "      <th>방송일시_요일</th>\n",
              "    </tr>\n",
              "  </thead>\n",
              "  <tbody>\n",
              "    <tr>\n",
              "      <th>0</th>\n",
              "      <td>2019-01-01 06:00:00</td>\n",
              "      <td>2019</td>\n",
              "      <td>1</td>\n",
              "      <td>1</td>\n",
              "      <td>6</td>\n",
              "      <td>0</td>\n",
              "      <td>0</td>\n",
              "      <td>1</td>\n",
              "    </tr>\n",
              "    <tr>\n",
              "      <th>1</th>\n",
              "      <td>2019-01-01 06:00:00</td>\n",
              "      <td>2019</td>\n",
              "      <td>1</td>\n",
              "      <td>1</td>\n",
              "      <td>6</td>\n",
              "      <td>0</td>\n",
              "      <td>0</td>\n",
              "      <td>1</td>\n",
              "    </tr>\n",
              "    <tr>\n",
              "      <th>2</th>\n",
              "      <td>2019-01-01 06:20:00</td>\n",
              "      <td>2019</td>\n",
              "      <td>1</td>\n",
              "      <td>1</td>\n",
              "      <td>6</td>\n",
              "      <td>20</td>\n",
              "      <td>0</td>\n",
              "      <td>1</td>\n",
              "    </tr>\n",
              "    <tr>\n",
              "      <th>3</th>\n",
              "      <td>2019-01-01 06:20:00</td>\n",
              "      <td>2019</td>\n",
              "      <td>1</td>\n",
              "      <td>1</td>\n",
              "      <td>6</td>\n",
              "      <td>20</td>\n",
              "      <td>0</td>\n",
              "      <td>1</td>\n",
              "    </tr>\n",
              "    <tr>\n",
              "      <th>4</th>\n",
              "      <td>2019-01-01 06:40:00</td>\n",
              "      <td>2019</td>\n",
              "      <td>1</td>\n",
              "      <td>1</td>\n",
              "      <td>6</td>\n",
              "      <td>40</td>\n",
              "      <td>0</td>\n",
              "      <td>1</td>\n",
              "    </tr>\n",
              "  </tbody>\n",
              "</table>\n",
              "</div>"
            ],
            "text/plain": [
              "                 방송일시  방송일시_년도  방송일시_월  방송일시_일  방송일시_시  방송일시_분  방송일시_초  방송일시_요일\n",
              "0 2019-01-01 06:00:00     2019       1       1       6       0       0        1\n",
              "1 2019-01-01 06:00:00     2019       1       1       6       0       0        1\n",
              "2 2019-01-01 06:20:00     2019       1       1       6      20       0        1\n",
              "3 2019-01-01 06:20:00     2019       1       1       6      20       0        1\n",
              "4 2019-01-01 06:40:00     2019       1       1       6      40       0        1"
            ]
          },
          "metadata": {
            "tags": []
          },
          "execution_count": 16
        }
      ]
    },
    {
      "cell_type": "code",
      "metadata": {
        "id": "Ruzl4IyTBe7T",
        "colab_type": "code",
        "colab": {
          "base_uri": "https://localhost:8080/",
          "height": 0
        },
        "outputId": "75080df4-df99-4251-92d9-b3432c9e91ec"
      },
      "source": [
        "#파생변수 생성1 - 주문량\n",
        "Selling['주문량']= Selling['취급액']/Selling['판매단가']\n",
        "Selling['주문량'].head()"
      ],
      "execution_count": 17,
      "outputs": [
        {
          "output_type": "execute_result",
          "data": {
            "text/plain": [
              "0     52.606516\n",
              "1    109.548872\n",
              "2     81.754386\n",
              "3    174.310777\n",
              "4    167.218045\n",
              "Name: 주문량, dtype: float64"
            ]
          },
          "metadata": {
            "tags": []
          },
          "execution_count": 17
        }
      ]
    },
    {
      "cell_type": "code",
      "metadata": {
        "id": "laUBvt5aVE87",
        "colab_type": "code",
        "colab": {
          "base_uri": "https://localhost:8080/",
          "height": 0
        },
        "outputId": "593fbc89-356b-4bf8-ad50-f60e4f3eb6bc"
      },
      "source": [
        "#파생변수 생성2 - 계절\n",
        "# 계절 열 생성\n",
        "Selling[\"계절\"] = \"\"\n",
        "Selling.head()\n",
        "\n",
        "for i in Selling.index:\n",
        "  if 3 <= Selling['방송일시_월'][i] <= 5:\n",
        "    Selling['계절'][i] = 1\n",
        "  elif 6<= Selling['방송일시_월'][i] <= 8:\n",
        "    Selling['계절'][i] = 2\n",
        "  elif 9<= Selling['방송일시_월'][i] <= 11:\n",
        "    Selling['계절'][i] = 3\n",
        "  else:\n",
        "    Selling[\"계절\"][i] = 4 "
      ],
      "execution_count": 18,
      "outputs": [
        {
          "output_type": "stream",
          "text": [
            "/usr/local/lib/python3.6/dist-packages/ipykernel_launcher.py:14: SettingWithCopyWarning: \n",
            "A value is trying to be set on a copy of a slice from a DataFrame\n",
            "\n",
            "See the caveats in the documentation: https://pandas.pydata.org/pandas-docs/stable/user_guide/indexing.html#returning-a-view-versus-a-copy\n",
            "  \n",
            "/usr/local/lib/python3.6/dist-packages/ipykernel_launcher.py:8: SettingWithCopyWarning: \n",
            "A value is trying to be set on a copy of a slice from a DataFrame\n",
            "\n",
            "See the caveats in the documentation: https://pandas.pydata.org/pandas-docs/stable/user_guide/indexing.html#returning-a-view-versus-a-copy\n",
            "  \n",
            "/usr/local/lib/python3.6/dist-packages/ipykernel_launcher.py:10: SettingWithCopyWarning: \n",
            "A value is trying to be set on a copy of a slice from a DataFrame\n",
            "\n",
            "See the caveats in the documentation: https://pandas.pydata.org/pandas-docs/stable/user_guide/indexing.html#returning-a-view-versus-a-copy\n",
            "  # Remove the CWD from sys.path while we load stuff.\n",
            "/usr/local/lib/python3.6/dist-packages/ipykernel_launcher.py:12: SettingWithCopyWarning: \n",
            "A value is trying to be set on a copy of a slice from a DataFrame\n",
            "\n",
            "See the caveats in the documentation: https://pandas.pydata.org/pandas-docs/stable/user_guide/indexing.html#returning-a-view-versus-a-copy\n",
            "  if sys.path[0] == '':\n"
          ],
          "name": "stderr"
        }
      ]
    },
    {
      "cell_type": "markdown",
      "metadata": {
        "id": "fJXeb33DETNh",
        "colab_type": "text"
      },
      "source": [
        "# **시각화**"
      ]
    },
    {
      "cell_type": "code",
      "metadata": {
        "id": "391P5mrh6ET9",
        "colab_type": "code",
        "colab": {
          "base_uri": "https://localhost:8080/",
          "height": 0
        },
        "outputId": "07ec801c-9eb9-4938-866e-b665b8755ba8"
      },
      "source": [
        "import seaborn as sns"
      ],
      "execution_count": 19,
      "outputs": [
        {
          "output_type": "stream",
          "text": [
            "/usr/local/lib/python3.6/dist-packages/statsmodels/tools/_testing.py:19: FutureWarning: pandas.util.testing is deprecated. Use the functions in the public API at pandas.testing instead.\n",
            "  import pandas.util.testing as tm\n"
          ],
          "name": "stderr"
        }
      ]
    },
    {
      "cell_type": "code",
      "metadata": {
        "id": "W-wIYU356EYC",
        "colab_type": "code",
        "colab": {
          "base_uri": "https://localhost:8080/",
          "height": 0
        },
        "outputId": "0255a959-0e0a-4725-8bb1-596312f35c42"
      },
      "source": [
        "sns.pointplot(data=Selling,x=\"방송일시_월\",y=\"주문량\") #방송월별 주문량평균 그래프\n",
        "# Selling.groupby('주문량)['방송일시_월'].mean() 이 결과와 동일"
      ],
      "execution_count": 20,
      "outputs": [
        {
          "output_type": "execute_result",
          "data": {
            "text/plain": [
              "<matplotlib.axes._subplots.AxesSubplot at 0x7fc7b2d4f0f0>"
            ]
          },
          "metadata": {
            "tags": []
          },
          "execution_count": 20
        },
        {
          "output_type": "stream",
          "text": [
            "findfont: Font family ['NanumGothic'] not found. Falling back to DejaVu Sans.\n",
            "/usr/local/lib/python3.6/dist-packages/matplotlib/backends/backend_agg.py:214: RuntimeWarning: Glyph 48169 missing from current font.\n",
            "  font.set_text(s, 0.0, flags=flags)\n",
            "/usr/local/lib/python3.6/dist-packages/matplotlib/backends/backend_agg.py:214: RuntimeWarning: Glyph 49569 missing from current font.\n",
            "  font.set_text(s, 0.0, flags=flags)\n",
            "/usr/local/lib/python3.6/dist-packages/matplotlib/backends/backend_agg.py:214: RuntimeWarning: Glyph 51068 missing from current font.\n",
            "  font.set_text(s, 0.0, flags=flags)\n",
            "/usr/local/lib/python3.6/dist-packages/matplotlib/backends/backend_agg.py:214: RuntimeWarning: Glyph 49884 missing from current font.\n",
            "  font.set_text(s, 0.0, flags=flags)\n",
            "/usr/local/lib/python3.6/dist-packages/matplotlib/backends/backend_agg.py:214: RuntimeWarning: Glyph 50900 missing from current font.\n",
            "  font.set_text(s, 0.0, flags=flags)\n",
            "/usr/local/lib/python3.6/dist-packages/matplotlib/backends/backend_agg.py:183: RuntimeWarning: Glyph 48169 missing from current font.\n",
            "  font.set_text(s, 0, flags=flags)\n",
            "/usr/local/lib/python3.6/dist-packages/matplotlib/backends/backend_agg.py:183: RuntimeWarning: Glyph 49569 missing from current font.\n",
            "  font.set_text(s, 0, flags=flags)\n",
            "/usr/local/lib/python3.6/dist-packages/matplotlib/backends/backend_agg.py:183: RuntimeWarning: Glyph 51068 missing from current font.\n",
            "  font.set_text(s, 0, flags=flags)\n",
            "/usr/local/lib/python3.6/dist-packages/matplotlib/backends/backend_agg.py:183: RuntimeWarning: Glyph 49884 missing from current font.\n",
            "  font.set_text(s, 0, flags=flags)\n",
            "/usr/local/lib/python3.6/dist-packages/matplotlib/backends/backend_agg.py:183: RuntimeWarning: Glyph 50900 missing from current font.\n",
            "  font.set_text(s, 0, flags=flags)\n",
            "/usr/local/lib/python3.6/dist-packages/matplotlib/backends/backend_agg.py:214: RuntimeWarning: Glyph 51452 missing from current font.\n",
            "  font.set_text(s, 0.0, flags=flags)\n",
            "/usr/local/lib/python3.6/dist-packages/matplotlib/backends/backend_agg.py:214: RuntimeWarning: Glyph 47928 missing from current font.\n",
            "  font.set_text(s, 0.0, flags=flags)\n",
            "/usr/local/lib/python3.6/dist-packages/matplotlib/backends/backend_agg.py:214: RuntimeWarning: Glyph 47049 missing from current font.\n",
            "  font.set_text(s, 0.0, flags=flags)\n",
            "/usr/local/lib/python3.6/dist-packages/matplotlib/backends/backend_agg.py:183: RuntimeWarning: Glyph 51452 missing from current font.\n",
            "  font.set_text(s, 0, flags=flags)\n",
            "/usr/local/lib/python3.6/dist-packages/matplotlib/backends/backend_agg.py:183: RuntimeWarning: Glyph 47928 missing from current font.\n",
            "  font.set_text(s, 0, flags=flags)\n",
            "/usr/local/lib/python3.6/dist-packages/matplotlib/backends/backend_agg.py:183: RuntimeWarning: Glyph 47049 missing from current font.\n",
            "  font.set_text(s, 0, flags=flags)\n"
          ],
          "name": "stderr"
        },
        {
          "output_type": "display_data",
          "data": {
            "image/png": "[encoded data removed]",
            "text/plain": [
              "<Figure size 432x288 with 1 Axes>"
            ]
          },
          "metadata": {
            "tags": [],
            "needs_background": "light"
          }
        }
      ]
    },
    {
      "cell_type": "code",
      "metadata": {
        "id": "2eRH9g036Eed",
        "colab_type": "code",
        "colab": {
          "base_uri": "https://localhost:8080/",
          "height": 0
        },
        "outputId": "ac80e4ae-cd7b-4cbb-c90c-c01f523e5c2f"
      },
      "source": [
        "sns.pointplot(data=Selling,x=\"계절\",y=\"주문량\") #계절별 주문량 그래프 3(가을)에 제일 많고 1(봄)에 제일 적다.\n",
        "sns.barplot(data=Selling,x=\"계절\",y=\"주문량\")"
      ],
      "execution_count": 21,
      "outputs": [
        {
          "output_type": "execute_result",
          "data": {
            "text/plain": [
              "<matplotlib.axes._subplots.AxesSubplot at 0x7fc7b208e320>"
            ]
          },
          "metadata": {
            "tags": []
          },
          "execution_count": 21
        },
        {
          "output_type": "stream",
          "text": [
            "/usr/local/lib/python3.6/dist-packages/matplotlib/backends/backend_agg.py:214: RuntimeWarning: Glyph 44228 missing from current font.\n",
            "  font.set_text(s, 0.0, flags=flags)\n",
            "/usr/local/lib/python3.6/dist-packages/matplotlib/backends/backend_agg.py:214: RuntimeWarning: Glyph 51208 missing from current font.\n",
            "  font.set_text(s, 0.0, flags=flags)\n",
            "/usr/local/lib/python3.6/dist-packages/matplotlib/backends/backend_agg.py:183: RuntimeWarning: Glyph 44228 missing from current font.\n",
            "  font.set_text(s, 0, flags=flags)\n",
            "/usr/local/lib/python3.6/dist-packages/matplotlib/backends/backend_agg.py:183: RuntimeWarning: Glyph 51208 missing from current font.\n",
            "  font.set_text(s, 0, flags=flags)\n",
            "/usr/local/lib/python3.6/dist-packages/matplotlib/backends/backend_agg.py:214: RuntimeWarning: Glyph 51452 missing from current font.\n",
            "  font.set_text(s, 0.0, flags=flags)\n",
            "/usr/local/lib/python3.6/dist-packages/matplotlib/backends/backend_agg.py:214: RuntimeWarning: Glyph 47928 missing from current font.\n",
            "  font.set_text(s, 0.0, flags=flags)\n",
            "/usr/local/lib/python3.6/dist-packages/matplotlib/backends/backend_agg.py:214: RuntimeWarning: Glyph 47049 missing from current font.\n",
            "  font.set_text(s, 0.0, flags=flags)\n",
            "/usr/local/lib/python3.6/dist-packages/matplotlib/backends/backend_agg.py:183: RuntimeWarning: Glyph 51452 missing from current font.\n",
            "  font.set_text(s, 0, flags=flags)\n",
            "/usr/local/lib/python3.6/dist-packages/matplotlib/backends/backend_agg.py:183: RuntimeWarning: Glyph 47928 missing from current font.\n",
            "  font.set_text(s, 0, flags=flags)\n",
            "/usr/local/lib/python3.6/dist-packages/matplotlib/backends/backend_agg.py:183: RuntimeWarning: Glyph 47049 missing from current font.\n",
            "  font.set_text(s, 0, flags=flags)\n"
          ],
          "name": "stderr"
        },
        {
          "output_type": "display_data",
          "data": {
            "image/png": "[encoded data removed]",
            "text/plain": [
              "<Figure size 432x288 with 1 Axes>"
            ]
          },
          "metadata": {
            "tags": [],
            "needs_background": "light"
          }
        }
      ]
    },
    {
      "cell_type": "code",
      "metadata": {
        "id": "6uTcJ2_u6EcP",
        "colab_type": "code",
        "colab": {
          "base_uri": "https://localhost:8080/",
          "height": 0
        },
        "outputId": "6b160adb-6702-4d86-c438-9e93437581a2"
      },
      "source": [
        " # 요일별 취급액 합계 시각화\n",
        "plt.plot(Selling.groupby(\"방송일시_요일\")[\"주문량\"].sum()/Selling.groupby(\"방송일시_요일\")[\"주문량\"].count())"
      ],
      "execution_count": 22,
      "outputs": [
        {
          "output_type": "execute_result",
          "data": {
            "text/plain": [
              "[<matplotlib.lines.Line2D at 0x7fc7b2835ac8>]"
            ]
          },
          "metadata": {
            "tags": []
          },
          "execution_count": 22
        },
        {
          "output_type": "display_data",
          "data": {
            "image/png": "[encoded data removed]",
            "text/plain": [
              "<Figure size 432x288 with 1 Axes>"
            ]
          },
          "metadata": {
            "tags": [],
            "needs_background": "light"
          }
        }
      ]
    },
    {
      "cell_type": "code",
      "metadata": {
        "id": "mHOMNrZn6EQW",
        "colab_type": "code",
        "colab": {
          "base_uri": "https://localhost:8080/",
          "height": 0
        },
        "outputId": "8a36e5fc-6fbf-460c-83fd-60621303d6dc"
      },
      "source": [
        "(Selling.groupby(\"방송일시_요일\")[\"주문량\"].sum()/Selling.groupby(\"방송일시_요일\")[\"주문량\"].count()).describe()"
      ],
      "execution_count": 23,
      "outputs": [
        {
          "output_type": "execute_result",
          "data": {
            "text/plain": [
              "count      7.000000\n",
              "mean     314.872126\n",
              "std       19.152065\n",
              "min      292.212670\n",
              "25%      304.431469\n",
              "50%      310.817031\n",
              "75%      322.247601\n",
              "max      347.717041\n",
              "Name: 주문량, dtype: float64"
            ]
          },
          "metadata": {
            "tags": []
          },
          "execution_count": 23
        }
      ]
    },
    {
      "cell_type": "markdown",
      "metadata": {
        "id": "FSHSZrC77l1x",
        "colab_type": "text"
      },
      "source": [
        "# **시청률데이터 처리**"
      ]
    },
    {
      "cell_type": "markdown",
      "metadata": {
        "id": "NiKJhMQv3YAj",
        "colab_type": "text"
      },
      "source": [
        "실적에 대한 정의를 확실히 하고... 본질적으로 우리가 예측하는것이 어느시점에 발생하는 행위인지 정의해야 될듯.\n",
        "시청률 집계방식-> 8시2분에 10%라면, 그 이전에 시청하던 시청자수를 집계해서 얻은 수치임(내가 아는바에 의하면)\n",
        "실적이 발생하는 시점? 결제가 발생해서 실제로 수익이 난 시점! 시청률 발생시점, 집계시점, 실적시점이 다 서로 다를 수 있을거 같음.\n",
        "근데 우리가 예측할건 분당 실적이다... 어떤 시점의 어느 행위를 예측하는가? 어떻게 실적을 분별로 예측할까."
      ]
    },
    {
      "cell_type": "code",
      "metadata": {
        "id": "n8Hn2jy423-a",
        "colab_type": "code",
        "colab": {}
      },
      "source": [
        ""
      ],
      "execution_count": null,
      "outputs": []
    },
    {
      "cell_type": "markdown",
      "metadata": {
        "id": "UDY1cYB63r98",
        "colab_type": "text"
      },
      "source": [
        "# 상품군별 분리 및 분석\n",
        "\n",
        "---\n",
        "\n",
        "\n",
        "1.   주방\n",
        "2.   가전\n",
        "3.   의류\n",
        "4.   속옷\n",
        "5.   잡화\n",
        "6.   농수축\n",
        "7.   생활용품\n",
        "8.   가구\n",
        "9.   이미용\n",
        "10.  건강기능\n",
        "11.  침구\n",
        "\n",
        "\n"
      ]
    },
    {
      "cell_type": "code",
      "metadata": {
        "id": "2gRNXCtR3khg",
        "colab_type": "code",
        "colab": {
          "base_uri": "https://localhost:8080/",
          "height": 230
        },
        "outputId": "b983301b-e1f6-4773-eddc-456713871d15"
      },
      "source": [
        "Selling['상품군'].value_counts()"
      ],
      "execution_count": null,
      "outputs": [
        {
          "output_type": "execute_result",
          "data": {
            "text/plain": [
              "주방      6604\n",
              "가전      6479\n",
              "의류      4340\n",
              "속옷      3919\n",
              "잡화      3891\n",
              "농수축     3884\n",
              "생활용품    2877\n",
              "가구      2614\n",
              "이미용     1305\n",
              "건강기능     790\n",
              "침구       669\n",
              "Name: 상품군, dtype: int64"
            ]
          },
          "metadata": {
            "tags": []
          },
          "execution_count": 66
        }
      ]
    },
    {
      "cell_type": "code",
      "metadata": {
        "id": "NmO7SReTzIEy",
        "colab_type": "code",
        "colab": {}
      },
      "source": [
        "data = Selling.copy()\n",
        "# 세환님 코드\n",
        "funiture=[]#가구\n",
        "HomeAppliances=[]#가전\n",
        "Hearth=[]#건강기능\n",
        "Agriculture=[]#농수축\n",
        "Intangible=[]#무형\n",
        "Householdgood=[]#생활용품\n",
        "innerwear=[]#속옷\n",
        "cloths=[]#의류\n",
        "beauty=[]#미용\n",
        "stuff=[]#잡화\n",
        "kitchen=[]#주방\n",
        "bedding=[]#침구\n",
        "\n",
        "for i in range(len(data)):\n",
        "    if data['상품군'].iloc[i] == \"의류\" :\n",
        "        cloths.append(data['취급액'].iloc[i]/data['판매단가'].iloc[i])\n",
        "    elif data['상품군'].iloc[i] == \"가구\" :\n",
        "        funiture.append(data['취급액'].iloc[i]/data['판매단가'].iloc[i])\n",
        "    elif data['상품군'].iloc[i] == \"가전\" :\n",
        "        HomeAppliances.append(data['취급액'].iloc[i]/data['판매단가'].iloc[i])\n",
        "    elif data['상품군'].iloc[i] == \"건강기능\" :\n",
        "        Hearth.append(data['취급액'].iloc[i]/data['판매단가'].iloc[i])\n",
        "    elif data['상품군'].iloc[i] == \"농수축\" :\n",
        "        Agriculture.append(data['취급액'].iloc[i]/data['판매단가'].iloc[i])\n",
        "    elif data['상품군'].iloc[i] == \"무형\" :\n",
        "        Intangible.append(data['취급액'].iloc[i]/data['판매단가'].iloc[i])\n",
        "    elif data['상품군'].iloc[i] == \"생활용품\" :\n",
        "        Householdgood.append(data['취급액'].iloc[i]/data['판매단가'].iloc[i])\n",
        "    elif data['상품군'].iloc[i] == \"속옷\" :\n",
        "        innerwear.append(data['취급액'].iloc[i]/data['판매단가'].iloc[i])\n",
        "    elif data['상품군'].iloc[i] == \"이미용\" :\n",
        "        beauty.append(data['취급액'].iloc[i]/data['판매단가'].iloc[i])\n",
        "    elif data['상품군'].iloc[i] == \"잡화\" :\n",
        "        stuff.append(data['취급액'].iloc[i]/data['판매단가'].iloc[i])\n",
        "    elif data['상품군'].iloc[i] == \"주방\" :\n",
        "        kitchen.append(data['취급액'].iloc[i]/data['판매단가'].iloc[i])\n",
        "    elif data['상품군'].iloc[i] == \"침구\" :\n",
        "        bedding.append(data['취급액'].iloc[i]/data['판매단가'].iloc[i])"
      ],
      "execution_count": null,
      "outputs": []
    },
    {
      "cell_type": "code",
      "metadata": {
        "id": "_mOakXtFzgnP",
        "colab_type": "code",
        "colab": {}
      },
      "source": [
        "plt.plot(funiture) #가구"
      ],
      "execution_count": null,
      "outputs": []
    },
    {
      "cell_type": "code",
      "metadata": {
        "id": "fN7nSM_Logy_",
        "colab_type": "code",
        "colab": {}
      },
      "source": [
        "funiture"
      ],
      "execution_count": null,
      "outputs": []
    },
    {
      "cell_type": "code",
      "metadata": {
        "id": "eThF_GbT2dk-",
        "colab_type": "code",
        "colab": {}
      },
      "source": [
        "data_Mother_grouped = data.groupby('마더코드')\n",
        "MoMCodeGroup = data_Mother_grouped.sum()['주문량'] "
      ],
      "execution_count": null,
      "outputs": []
    },
    {
      "cell_type": "code",
      "metadata": {
        "id": "nGBHk7im2goH",
        "colab_type": "code",
        "colab": {
          "base_uri": "https://localhost:8080/",
          "height": 170
        },
        "outputId": "46b1071a-7faa-4890-b667-54f18a19ac37"
      },
      "source": [
        "plt.plot(MoMCodeGroup)"
      ],
      "execution_count": null,
      "outputs": [
        {
          "output_type": "error",
          "ename": "NameError",
          "evalue": "ignored",
          "traceback": [
            "\u001b[0;31m---------------------------------------------------------------------------\u001b[0m",
            "\u001b[0;31mNameError\u001b[0m                                 Traceback (most recent call last)",
            "\u001b[0;32m<ipython-input-35-bea667f26386>\u001b[0m in \u001b[0;36m<module>\u001b[0;34m()\u001b[0m\n\u001b[0;32m----> 1\u001b[0;31m \u001b[0mplt\u001b[0m\u001b[0;34m.\u001b[0m\u001b[0mplot\u001b[0m\u001b[0;34m(\u001b[0m\u001b[0mMoMCodeGroup\u001b[0m\u001b[0;34m)\u001b[0m\u001b[0;34m\u001b[0m\u001b[0;34m\u001b[0m\u001b[0m\n\u001b[0m",
            "\u001b[0;31mNameError\u001b[0m: name 'MoMCodeGroup' is not defined"
          ]
        }
      ]
    },
    {
      "cell_type": "code",
      "metadata": {
        "id": "UeE8_cF02jpS",
        "colab_type": "code",
        "colab": {
          "base_uri": "https://localhost:8080/",
          "height": 187
        },
        "outputId": "730a2b79-3879-45ef-d4d7-5c61c09f7b9f"
      },
      "source": [
        "data_Multi_grouped = data.groupby(['마더코드','상품군'])\n",
        "MultiGroup = data_Multi_grouped['주문량'].sum()"
      ],
      "execution_count": null,
      "outputs": [
        {
          "output_type": "error",
          "ename": "NameError",
          "evalue": "ignored",
          "traceback": [
            "\u001b[0;31m---------------------------------------------------------------------------\u001b[0m",
            "\u001b[0;31mNameError\u001b[0m                                 Traceback (most recent call last)",
            "\u001b[0;32m<ipython-input-36-4040fd41442f>\u001b[0m in \u001b[0;36m<module>\u001b[0;34m()\u001b[0m\n\u001b[0;32m----> 1\u001b[0;31m \u001b[0mdata_Multi_grouped\u001b[0m \u001b[0;34m=\u001b[0m \u001b[0mdata\u001b[0m\u001b[0;34m.\u001b[0m\u001b[0mgroupby\u001b[0m\u001b[0;34m(\u001b[0m\u001b[0;34m[\u001b[0m\u001b[0;34m'마더코드'\u001b[0m\u001b[0;34m,\u001b[0m\u001b[0;34m'상품군'\u001b[0m\u001b[0;34m]\u001b[0m\u001b[0;34m)\u001b[0m\u001b[0;34m\u001b[0m\u001b[0;34m\u001b[0m\u001b[0m\n\u001b[0m\u001b[1;32m      2\u001b[0m \u001b[0mMultiGroup\u001b[0m \u001b[0;34m=\u001b[0m \u001b[0mdata_Multi_grouped\u001b[0m\u001b[0;34m[\u001b[0m\u001b[0;34m'주문량'\u001b[0m\u001b[0;34m]\u001b[0m\u001b[0;34m.\u001b[0m\u001b[0msum\u001b[0m\u001b[0;34m(\u001b[0m\u001b[0;34m)\u001b[0m\u001b[0;34m\u001b[0m\u001b[0;34m\u001b[0m\u001b[0m\n",
            "\u001b[0;31mNameError\u001b[0m: name 'data' is not defined"
          ]
        }
      ]
    },
    {
      "cell_type": "code",
      "metadata": {
        "id": "mMnDy2QO21X3",
        "colab_type": "code",
        "colab": {}
      },
      "source": [
        "Furni_by_MoM = MultiGroup[:,'가구']\n",
        "cloths_by_MoM = MultiGroup[:,'의류']\n",
        "HomeAppliances_by_MoM = MultiGroup[:,'가전']\n",
        "Hearth_by_MoM = MultiGroup[:,'건강기능']\n",
        "Agriculture_by_MoM = MultiGroup[:,'농수축']\n",
        "Intangible_by_MoM = MultiGroup[:,'가전']\n",
        "Householdgood_by_MoM = MultiGroup[:,'생활용품']\n",
        "innerwear_by_MoM = MultiGroup[:,'속옷']\n",
        "beauty_by_MoM = MultiGroup[:,'이미용']\n",
        "stuff_by_MoM = MultiGroup[:,'잡화']\n",
        "kitchen_by_MoM = MultiGroup[:,'주방']\n",
        "bedding_by_MoM = MultiGroup[:,'침구']"
      ],
      "execution_count": null,
      "outputs": []
    },
    {
      "cell_type": "code",
      "metadata": {
        "id": "Jwb7265e_Lg7",
        "colab_type": "code",
        "colab": {
          "base_uri": "https://localhost:8080/",
          "height": 882
        },
        "outputId": "56902068-3512-4c15-9618-4fca03711f5f"
      },
      "source": [
        "%matplotlib inline\n",
        "plt.rcParams['figure.figsize'] = (20,15)\n",
        "\n",
        "\n",
        "plt.subplot2grid((4,3),(0,0)); plt.plot(Furni_by_MoM)\n",
        "plt.subplot2grid((4,3),(0,1)); plt.plot(cloths_by_MoM)\n",
        "plt.subplot2grid((4,3),(0,2)); plt.plot(HomeAppliances_by_MoM)\n",
        "plt.subplot2grid((4,3),(1,0)); plt.plot(Hearth_by_MoM)\n",
        "plt.subplot2grid((4,3),(1,1)); plt.plot(Agriculture_by_MoM)\n",
        "plt.subplot2grid((4,3),(1,2)); plt.plot(Intangible_by_MoM)\n",
        "plt.subplot2grid((4,3),(2,0)); plt.plot(Householdgood_by_MoM)\n",
        "plt.subplot2grid((4,3),(2,1)); plt.plot(innerwear_by_MoM)\n",
        "plt.subplot2grid((4,3),(2,2)); plt.plot(beauty_by_MoM)\n",
        "plt.subplot2grid((4,3),(3,0)); plt.plot(stuff_by_MoM)\n",
        "plt.subplot2grid((4,3),(3,1)); plt.plot(kitchen_by_MoM)\n",
        "plt.subplot2grid((4,3),(3,2)); plt.plot(bedding_by_MoM)"
      ],
      "execution_count": null,
      "outputs": [
        {
          "output_type": "execute_result",
          "data": {
            "text/plain": [
              "[<matplotlib.lines.Line2D at 0x7fb8df7b1828>]"
            ]
          },
          "metadata": {
            "tags": []
          },
          "execution_count": 71
        },
        {
          "output_type": "display_data",
          "data": {
            "image/png": "[encoded data removed]",
            "text/plain": [
              "<Figure size 1440x1080 with 12 Axes>"
            ]
          },
          "metadata": {
            "tags": [],
            "needs_background": "light"
          }
        }
      ]
    },
    {
      "cell_type": "markdown",
      "metadata": {
        "id": "nN8jz01cNCh6",
        "colab_type": "text"
      },
      "source": [
        "# 미세먼지 데이터 추가 및 분석"
      ]
    },
    {
      "cell_type": "code",
      "metadata": {
        "id": "kE9nMSSVAbLv",
        "colab_type": "code",
        "colab": {}
      },
      "source": [
        "from scipy import stats"
      ],
      "execution_count": 101,
      "outputs": []
    },
    {
      "cell_type": "code",
      "metadata": {
        "id": "JhmB8o0wNC6r",
        "colab_type": "code",
        "colab": {}
      },
      "source": [
        "#munji = pd.read_excel('2019미세먼지.xlsx')\n",
        "munji = pd.read_excel('/content/drive/My Drive/빅콘폴더/인구 미세먼지관련/2019미세먼지.xlsx')"
      ],
      "execution_count": 27,
      "outputs": []
    },
    {
      "cell_type": "code",
      "metadata": {
        "id": "I-Qx_Wy0Oj3P",
        "colab_type": "code",
        "colab": {}
      },
      "source": [
        "#population_only_total = pd.read_excel('2019총인구비율(수정).xlsx') # 지역별 인구수 ()\n",
        "#population_only_woman = pd.read_excel('2019여성인구비율.xlsx')\n",
        "population_only_total = pd.read_excel('/content/drive/My Drive/빅콘폴더/인구 미세먼지관련/2019총인구비율(수정).xlsx')\n",
        "population_only_woman = pd.read_excel('/content/drive/My Drive/빅콘폴더/인구 미세먼지관련/2019여성인구비율.xlsx')\n",
        "population_only_man = pd.read_excel('/content/drive/My Drive/빅콘폴더/인구 미세먼지관련/2019남자인구비율.xlsx')"
      ],
      "execution_count": 29,
      "outputs": []
    },
    {
      "cell_type": "code",
      "metadata": {
        "id": "G21F1BtJNSvr",
        "colab_type": "code",
        "colab": {
          "base_uri": "https://localhost:8080/",
          "height": 227
        },
        "outputId": "d3b3ee4c-0806-41c8-b85b-fc83dab2910d"
      },
      "source": [
        "print(munji) # 각 지역별 평균 미세먼지 양 수원=경기남 파주=경기북"
      ],
      "execution_count": 33,
      "outputs": [
        {
          "output_type": "stream",
          "text": [
            "     지역날짜  2019. 01  2019. 02  2019. 03  ...  2019. 09  2019. 10  2019. 11  2019. 12\n",
            "0      서울        38        35        45  ...        12        15        20        28\n",
            "1      부산        29        29        30  ...        13        13        17        23\n",
            "2      울산        26        26        29  ...        13        11        15        20\n",
            "3  수원(경기)        40        36        46  ...        13        16        21        29\n",
            "4  파주(경기)        47        39        49  ...        15        20        27        35\n",
            "5  강릉(강원)        23        25        32  ...        10        13        15        17\n",
            "6      광주        33        34        39  ...        15        18        21        22\n",
            "7      대구        33        32        33  ...        13        14        21        29\n",
            "8      대전        35        36        39  ...        12        15        21        25\n",
            "\n",
            "[9 rows x 13 columns]\n"
          ],
          "name": "stdout"
        }
      ]
    },
    {
      "cell_type": "code",
      "metadata": {
        "id": "yrf5bBVBXIOA",
        "colab_type": "code",
        "colab": {}
      },
      "source": [
        "munji_df = munji.set_index(\"지역날짜\")\n",
        "population_total_df = population_only_total.set_index('행정구역(시군구)별')"
      ],
      "execution_count": 34,
      "outputs": []
    },
    {
      "cell_type": "code",
      "metadata": {
        "id": "8Bm8XDUBVF94",
        "colab_type": "code",
        "colab": {
          "base_uri": "https://localhost:8080/",
          "height": 472
        },
        "outputId": "e24ae226-7668-4ad1-99fd-c09ddf0c9449"
      },
      "source": [
        "population_total_df,munji_df"
      ],
      "execution_count": 35,
      "outputs": [
        {
          "output_type": "execute_result",
          "data": {
            "text/plain": [
              "(              1월총인구수    2월총인구수    3월총인구수  ...   10월총인구수   11월총인구수   12월총인구수\n",
              " 행정구역(시군구)별                                ...                              \n",
              " 서울특별시       0.188443  0.188527  0.188519  ...  0.187864  0.187792  0.187725\n",
              " 부산광역시       0.066342  0.066303  0.066262  ...  0.065968  0.065926  0.065871\n",
              " 울산광역시       0.022282  0.022262  0.022244  ...  0.022178  0.022169  0.022151\n",
              " 경기남         0.126294  0.126429  0.126544  ...  0.127531  0.127620  0.127731\n",
              " 경기북         0.126294  0.126429  0.126544  ...  0.127531  0.127620  0.127731\n",
              " 강원도         0.029747  0.029723  0.029724  ...  0.029732  0.029742  0.029744\n",
              " 광주광역시       0.028168  0.028156  0.028150  ...  0.028159  0.028150  0.028103\n",
              " 대구광역시       0.047474  0.047430  0.047386  ...  0.047148  0.047111  0.047042\n",
              " 대전광역시       0.028725  0.028704  0.028685  ...  0.028527  0.028498  0.028458\n",
              " \n",
              " [9 rows x 12 columns],\n",
              "         2019. 01  2019. 02  2019. 03  ...  2019. 10  2019. 11  2019. 12\n",
              " 지역날짜                                  ...                              \n",
              " 서울            38        35        45  ...        15        20        28\n",
              " 부산            29        29        30  ...        13        17        23\n",
              " 울산            26        26        29  ...        11        15        20\n",
              " 수원(경기)        40        36        46  ...        16        21        29\n",
              " 파주(경기)        47        39        49  ...        20        27        35\n",
              " 강릉(강원)        23        25        32  ...        13        15        17\n",
              " 광주            33        34        39  ...        18        21        22\n",
              " 대구            33        32        33  ...        14        21        29\n",
              " 대전            35        36        39  ...        15        21        25\n",
              " \n",
              " [9 rows x 12 columns])"
            ]
          },
          "metadata": {
            "tags": []
          },
          "execution_count": 35
        }
      ]
    },
    {
      "cell_type": "markdown",
      "metadata": {
        "id": "YoNECP3zZUmP",
        "colab_type": "text"
      },
      "source": [
        "총 인구수만 고려, 위 두 행렬값들을 각각 곱한 결과"
      ]
    },
    {
      "cell_type": "code",
      "metadata": {
        "id": "YTdMHqniBg5h",
        "colab_type": "code",
        "colab": {
          "base_uri": "https://localhost:8080/",
          "height": 347
        },
        "outputId": "72b769f8-f37b-40b0-8123-32a0381a17c3"
      },
      "source": [
        "total_weighted_munji = pd.DataFrame(total_weighted_munji).reindex_like(munji_df)\n",
        "total_weighted_munji"
      ],
      "execution_count": 118,
      "outputs": [
        {
          "output_type": "execute_result",
          "data": {
            "text/html": [
              "<div>\n",
              "<style scoped>\n",
              "    .dataframe tbody tr th:only-of-type {\n",
              "        vertical-align: middle;\n",
              "    }\n",
              "\n",
              "    .dataframe tbody tr th {\n",
              "        vertical-align: top;\n",
              "    }\n",
              "\n",
              "    .dataframe thead th {\n",
              "        text-align: right;\n",
              "    }\n",
              "</style>\n",
              "<table border=\"1\" class=\"dataframe\">\n",
              "  <thead>\n",
              "    <tr style=\"text-align: right;\">\n",
              "      <th></th>\n",
              "      <th>2019. 01</th>\n",
              "      <th>2019. 02</th>\n",
              "      <th>2019. 03</th>\n",
              "      <th>2019. 04</th>\n",
              "      <th>2019. 05</th>\n",
              "      <th>2019. 06</th>\n",
              "      <th>2019. 07</th>\n",
              "      <th>2019. 08</th>\n",
              "      <th>2019. 09</th>\n",
              "      <th>2019. 10</th>\n",
              "      <th>2019. 11</th>\n",
              "      <th>2019. 12</th>\n",
              "    </tr>\n",
              "    <tr>\n",
              "      <th>지역날짜</th>\n",
              "      <th></th>\n",
              "      <th></th>\n",
              "      <th></th>\n",
              "      <th></th>\n",
              "      <th></th>\n",
              "      <th></th>\n",
              "      <th></th>\n",
              "      <th></th>\n",
              "      <th></th>\n",
              "      <th></th>\n",
              "      <th></th>\n",
              "      <th></th>\n",
              "    </tr>\n",
              "  </thead>\n",
              "  <tbody>\n",
              "    <tr>\n",
              "      <th>서울</th>\n",
              "      <td>NaN</td>\n",
              "      <td>NaN</td>\n",
              "      <td>NaN</td>\n",
              "      <td>NaN</td>\n",
              "      <td>NaN</td>\n",
              "      <td>NaN</td>\n",
              "      <td>NaN</td>\n",
              "      <td>NaN</td>\n",
              "      <td>NaN</td>\n",
              "      <td>NaN</td>\n",
              "      <td>NaN</td>\n",
              "      <td>NaN</td>\n",
              "    </tr>\n",
              "    <tr>\n",
              "      <th>부산</th>\n",
              "      <td>NaN</td>\n",
              "      <td>NaN</td>\n",
              "      <td>NaN</td>\n",
              "      <td>NaN</td>\n",
              "      <td>NaN</td>\n",
              "      <td>NaN</td>\n",
              "      <td>NaN</td>\n",
              "      <td>NaN</td>\n",
              "      <td>NaN</td>\n",
              "      <td>NaN</td>\n",
              "      <td>NaN</td>\n",
              "      <td>NaN</td>\n",
              "    </tr>\n",
              "    <tr>\n",
              "      <th>울산</th>\n",
              "      <td>NaN</td>\n",
              "      <td>NaN</td>\n",
              "      <td>NaN</td>\n",
              "      <td>NaN</td>\n",
              "      <td>NaN</td>\n",
              "      <td>NaN</td>\n",
              "      <td>NaN</td>\n",
              "      <td>NaN</td>\n",
              "      <td>NaN</td>\n",
              "      <td>NaN</td>\n",
              "      <td>NaN</td>\n",
              "      <td>NaN</td>\n",
              "    </tr>\n",
              "    <tr>\n",
              "      <th>수원(경기)</th>\n",
              "      <td>NaN</td>\n",
              "      <td>NaN</td>\n",
              "      <td>NaN</td>\n",
              "      <td>NaN</td>\n",
              "      <td>NaN</td>\n",
              "      <td>NaN</td>\n",
              "      <td>NaN</td>\n",
              "      <td>NaN</td>\n",
              "      <td>NaN</td>\n",
              "      <td>NaN</td>\n",
              "      <td>NaN</td>\n",
              "      <td>NaN</td>\n",
              "    </tr>\n",
              "    <tr>\n",
              "      <th>파주(경기)</th>\n",
              "      <td>NaN</td>\n",
              "      <td>NaN</td>\n",
              "      <td>NaN</td>\n",
              "      <td>NaN</td>\n",
              "      <td>NaN</td>\n",
              "      <td>NaN</td>\n",
              "      <td>NaN</td>\n",
              "      <td>NaN</td>\n",
              "      <td>NaN</td>\n",
              "      <td>NaN</td>\n",
              "      <td>NaN</td>\n",
              "      <td>NaN</td>\n",
              "    </tr>\n",
              "    <tr>\n",
              "      <th>강릉(강원)</th>\n",
              "      <td>NaN</td>\n",
              "      <td>NaN</td>\n",
              "      <td>NaN</td>\n",
              "      <td>NaN</td>\n",
              "      <td>NaN</td>\n",
              "      <td>NaN</td>\n",
              "      <td>NaN</td>\n",
              "      <td>NaN</td>\n",
              "      <td>NaN</td>\n",
              "      <td>NaN</td>\n",
              "      <td>NaN</td>\n",
              "      <td>NaN</td>\n",
              "    </tr>\n",
              "    <tr>\n",
              "      <th>광주</th>\n",
              "      <td>NaN</td>\n",
              "      <td>NaN</td>\n",
              "      <td>NaN</td>\n",
              "      <td>NaN</td>\n",
              "      <td>NaN</td>\n",
              "      <td>NaN</td>\n",
              "      <td>NaN</td>\n",
              "      <td>NaN</td>\n",
              "      <td>NaN</td>\n",
              "      <td>NaN</td>\n",
              "      <td>NaN</td>\n",
              "      <td>NaN</td>\n",
              "    </tr>\n",
              "    <tr>\n",
              "      <th>대구</th>\n",
              "      <td>NaN</td>\n",
              "      <td>NaN</td>\n",
              "      <td>NaN</td>\n",
              "      <td>NaN</td>\n",
              "      <td>NaN</td>\n",
              "      <td>NaN</td>\n",
              "      <td>NaN</td>\n",
              "      <td>NaN</td>\n",
              "      <td>NaN</td>\n",
              "      <td>NaN</td>\n",
              "      <td>NaN</td>\n",
              "      <td>NaN</td>\n",
              "    </tr>\n",
              "    <tr>\n",
              "      <th>대전</th>\n",
              "      <td>NaN</td>\n",
              "      <td>NaN</td>\n",
              "      <td>NaN</td>\n",
              "      <td>NaN</td>\n",
              "      <td>NaN</td>\n",
              "      <td>NaN</td>\n",
              "      <td>NaN</td>\n",
              "      <td>NaN</td>\n",
              "      <td>NaN</td>\n",
              "      <td>NaN</td>\n",
              "      <td>NaN</td>\n",
              "      <td>NaN</td>\n",
              "    </tr>\n",
              "  </tbody>\n",
              "</table>\n",
              "</div>"
            ],
            "text/plain": [
              "        2019. 01  2019. 02  2019. 03  ...  2019. 10  2019. 11  2019. 12\n",
              "지역날짜                                  ...                              \n",
              "서울           NaN       NaN       NaN  ...       NaN       NaN       NaN\n",
              "부산           NaN       NaN       NaN  ...       NaN       NaN       NaN\n",
              "울산           NaN       NaN       NaN  ...       NaN       NaN       NaN\n",
              "수원(경기)       NaN       NaN       NaN  ...       NaN       NaN       NaN\n",
              "파주(경기)       NaN       NaN       NaN  ...       NaN       NaN       NaN\n",
              "강릉(강원)       NaN       NaN       NaN  ...       NaN       NaN       NaN\n",
              "광주           NaN       NaN       NaN  ...       NaN       NaN       NaN\n",
              "대구           NaN       NaN       NaN  ...       NaN       NaN       NaN\n",
              "대전           NaN       NaN       NaN  ...       NaN       NaN       NaN\n",
              "\n",
              "[9 rows x 12 columns]"
            ]
          },
          "metadata": {
            "tags": []
          },
          "execution_count": 118
        }
      ]
    },
    {
      "cell_type": "code",
      "metadata": {
        "id": "vv-EavVtXx19",
        "colab_type": "code",
        "colab": {
          "base_uri": "https://localhost:8080/",
          "height": 347
        },
        "outputId": "1b38e6f1-1efd-4a8f-ca51-ce14c66ec755"
      },
      "source": [
        "for i in range(9):\n",
        "  for j in range(12):\n",
        "    total_weighted_munji.iloc[i][j] = munji_df.iloc[i][j]*population_total_df.iloc[i][j]\n",
        "total_weighted_munji"
      ],
      "execution_count": 119,
      "outputs": [
        {
          "output_type": "execute_result",
          "data": {
            "text/html": [
              "<div>\n",
              "<style scoped>\n",
              "    .dataframe tbody tr th:only-of-type {\n",
              "        vertical-align: middle;\n",
              "    }\n",
              "\n",
              "    .dataframe tbody tr th {\n",
              "        vertical-align: top;\n",
              "    }\n",
              "\n",
              "    .dataframe thead th {\n",
              "        text-align: right;\n",
              "    }\n",
              "</style>\n",
              "<table border=\"1\" class=\"dataframe\">\n",
              "  <thead>\n",
              "    <tr style=\"text-align: right;\">\n",
              "      <th></th>\n",
              "      <th>2019. 01</th>\n",
              "      <th>2019. 02</th>\n",
              "      <th>2019. 03</th>\n",
              "      <th>2019. 04</th>\n",
              "      <th>2019. 05</th>\n",
              "      <th>2019. 06</th>\n",
              "      <th>2019. 07</th>\n",
              "      <th>2019. 08</th>\n",
              "      <th>2019. 09</th>\n",
              "      <th>2019. 10</th>\n",
              "      <th>2019. 11</th>\n",
              "      <th>2019. 12</th>\n",
              "    </tr>\n",
              "    <tr>\n",
              "      <th>지역날짜</th>\n",
              "      <th></th>\n",
              "      <th></th>\n",
              "      <th></th>\n",
              "      <th></th>\n",
              "      <th></th>\n",
              "      <th></th>\n",
              "      <th></th>\n",
              "      <th></th>\n",
              "      <th></th>\n",
              "      <th></th>\n",
              "      <th></th>\n",
              "      <th></th>\n",
              "    </tr>\n",
              "  </thead>\n",
              "  <tbody>\n",
              "    <tr>\n",
              "      <th>서울</th>\n",
              "      <td>7.160824</td>\n",
              "      <td>6.598434</td>\n",
              "      <td>8.483334</td>\n",
              "      <td>3.957540</td>\n",
              "      <td>5.462475</td>\n",
              "      <td>3.765326</td>\n",
              "      <td>3.574960</td>\n",
              "      <td>3.008477</td>\n",
              "      <td>2.255318</td>\n",
              "      <td>2.817959</td>\n",
              "      <td>3.755846</td>\n",
              "      <td>5.256309</td>\n",
              "    </tr>\n",
              "    <tr>\n",
              "      <th>부산</th>\n",
              "      <td>1.923918</td>\n",
              "      <td>1.922782</td>\n",
              "      <td>1.987847</td>\n",
              "      <td>1.324328</td>\n",
              "      <td>1.654370</td>\n",
              "      <td>1.388876</td>\n",
              "      <td>1.189661</td>\n",
              "      <td>1.254980</td>\n",
              "      <td>0.858243</td>\n",
              "      <td>0.857583</td>\n",
              "      <td>1.120749</td>\n",
              "      <td>1.515029</td>\n",
              "    </tr>\n",
              "    <tr>\n",
              "      <th>울산</th>\n",
              "      <td>0.579328</td>\n",
              "      <td>0.578801</td>\n",
              "      <td>0.645063</td>\n",
              "      <td>0.422441</td>\n",
              "      <td>0.577773</td>\n",
              "      <td>0.488722</td>\n",
              "      <td>0.421927</td>\n",
              "      <td>0.399513</td>\n",
              "      <td>0.288432</td>\n",
              "      <td>0.243959</td>\n",
              "      <td>0.332531</td>\n",
              "      <td>0.443026</td>\n",
              "    </tr>\n",
              "    <tr>\n",
              "      <th>수원(경기)</th>\n",
              "      <td>5.051741</td>\n",
              "      <td>4.551446</td>\n",
              "      <td>5.821010</td>\n",
              "      <td>2.533368</td>\n",
              "      <td>3.677853</td>\n",
              "      <td>2.412139</td>\n",
              "      <td>2.288107</td>\n",
              "      <td>2.291221</td>\n",
              "      <td>1.656436</td>\n",
              "      <td>2.040495</td>\n",
              "      <td>2.680027</td>\n",
              "      <td>3.704204</td>\n",
              "    </tr>\n",
              "    <tr>\n",
              "      <th>파주(경기)</th>\n",
              "      <td>5.935795</td>\n",
              "      <td>4.930733</td>\n",
              "      <td>6.200641</td>\n",
              "      <td>2.786705</td>\n",
              "      <td>3.677853</td>\n",
              "      <td>2.285184</td>\n",
              "      <td>2.415224</td>\n",
              "      <td>2.291221</td>\n",
              "      <td>1.911272</td>\n",
              "      <td>2.550619</td>\n",
              "      <td>3.445749</td>\n",
              "      <td>4.470591</td>\n",
              "    </tr>\n",
              "    <tr>\n",
              "      <th>강릉(강원)</th>\n",
              "      <td>0.684188</td>\n",
              "      <td>0.743081</td>\n",
              "      <td>0.951170</td>\n",
              "      <td>0.475680</td>\n",
              "      <td>0.624322</td>\n",
              "      <td>0.475698</td>\n",
              "      <td>0.416198</td>\n",
              "      <td>0.356756</td>\n",
              "      <td>0.297286</td>\n",
              "      <td>0.386515</td>\n",
              "      <td>0.446125</td>\n",
              "      <td>0.505642</td>\n",
              "    </tr>\n",
              "    <tr>\n",
              "      <th>광주</th>\n",
              "      <td>0.929537</td>\n",
              "      <td>0.957296</td>\n",
              "      <td>1.097865</td>\n",
              "      <td>0.563012</td>\n",
              "      <td>0.619339</td>\n",
              "      <td>0.703805</td>\n",
              "      <td>0.478739</td>\n",
              "      <td>0.478723</td>\n",
              "      <td>0.422459</td>\n",
              "      <td>0.506856</td>\n",
              "      <td>0.591152</td>\n",
              "      <td>0.618263</td>\n",
              "    </tr>\n",
              "    <tr>\n",
              "      <th>대구</th>\n",
              "      <td>1.566630</td>\n",
              "      <td>1.517771</td>\n",
              "      <td>1.563731</td>\n",
              "      <td>0.899716</td>\n",
              "      <td>1.088303</td>\n",
              "      <td>0.945651</td>\n",
              "      <td>0.755961</td>\n",
              "      <td>0.755368</td>\n",
              "      <td>0.613367</td>\n",
              "      <td>0.660078</td>\n",
              "      <td>0.989328</td>\n",
              "      <td>1.364229</td>\n",
              "    </tr>\n",
              "    <tr>\n",
              "      <th>대전</th>\n",
              "      <td>1.005385</td>\n",
              "      <td>1.033332</td>\n",
              "      <td>1.118722</td>\n",
              "      <td>0.487275</td>\n",
              "      <td>0.630120</td>\n",
              "      <td>0.515045</td>\n",
              "      <td>0.400257</td>\n",
              "      <td>0.428505</td>\n",
              "      <td>0.342600</td>\n",
              "      <td>0.427901</td>\n",
              "      <td>0.598462</td>\n",
              "      <td>0.711449</td>\n",
              "    </tr>\n",
              "  </tbody>\n",
              "</table>\n",
              "</div>"
            ],
            "text/plain": [
              "        2019. 01  2019. 02  2019. 03  ...  2019. 10  2019. 11  2019. 12\n",
              "지역날짜                                  ...                              \n",
              "서울      7.160824  6.598434  8.483334  ...  2.817959  3.755846  5.256309\n",
              "부산      1.923918  1.922782  1.987847  ...  0.857583  1.120749  1.515029\n",
              "울산      0.579328  0.578801  0.645063  ...  0.243959  0.332531  0.443026\n",
              "수원(경기)  5.051741  4.551446  5.821010  ...  2.040495  2.680027  3.704204\n",
              "파주(경기)  5.935795  4.930733  6.200641  ...  2.550619  3.445749  4.470591\n",
              "강릉(강원)  0.684188  0.743081  0.951170  ...  0.386515  0.446125  0.505642\n",
              "광주      0.929537  0.957296  1.097865  ...  0.506856  0.591152  0.618263\n",
              "대구      1.566630  1.517771  1.563731  ...  0.660078  0.989328  1.364229\n",
              "대전      1.005385  1.033332  1.118722  ...  0.427901  0.598462  0.711449\n",
              "\n",
              "[9 rows x 12 columns]"
            ]
          },
          "metadata": {
            "tags": []
          },
          "execution_count": 119
        }
      ]
    },
    {
      "cell_type": "code",
      "metadata": {
        "id": "Z39H2WZf_4l3",
        "colab_type": "code",
        "colab": {
          "base_uri": "https://localhost:8080/",
          "height": 279
        },
        "outputId": "5c105aad-61a0-4acc-c418-45239302b5a0"
      },
      "source": [
        "print(len(total_weighted_munji))"
      ],
      "execution_count": 108,
      "outputs": [
        {
          "output_type": "stream",
          "text": [
            "108\n"
          ],
          "name": "stdout"
        },
        {
          "output_type": "execute_result",
          "data": {
            "text/plain": [
              "방송일시_월\n",
              "1     158.744350\n",
              "2     177.516535\n",
              "3     160.940525\n",
              "4     180.625917\n",
              "5     193.959307\n",
              "6     197.926321\n",
              "7     206.867241\n",
              "8     185.926513\n",
              "9     178.280312\n",
              "10    180.734125\n",
              "11    222.261799\n",
              "12    272.388709\n",
              "Name: 주문량, dtype: float64"
            ]
          },
          "metadata": {
            "tags": []
          },
          "execution_count": 108
        }
      ]
    },
    {
      "cell_type": "code",
      "metadata": {
        "id": "K3gJA0GxBDHJ",
        "colab_type": "code",
        "colab": {}
      },
      "source": [
        "total_weighted_munji"
      ],
      "execution_count": null,
      "outputs": []
    },
    {
      "cell_type": "code",
      "metadata": {
        "id": "Ci1vSybPV-0d",
        "colab_type": "code",
        "colab": {}
      },
      "source": [
        "result_munji_df = result_munji.set_index('행정구역(시군구)별')\n",
        "result_munji_df"
      ],
      "execution_count": null,
      "outputs": []
    },
    {
      "cell_type": "code",
      "metadata": {
        "id": "PUGfj4KCZ3ok",
        "colab_type": "code",
        "colab": {}
      },
      "source": [
        "total_weighted_munji = result_munji_df.sum()\n",
        "total_weighted_munji"
      ],
      "execution_count": null,
      "outputs": []
    },
    {
      "cell_type": "code",
      "metadata": {
        "id": "NnwGg_5R1oWJ",
        "colab_type": "code",
        "colab": {}
      },
      "source": [
        "result_munji = pd.read_excel('2019여성가중치미세먼지.xlsx')"
      ],
      "execution_count": null,
      "outputs": []
    },
    {
      "cell_type": "code",
      "metadata": {
        "id": "yallnWGx0SGU",
        "colab_type": "code",
        "colab": {
          "base_uri": "https://localhost:8080/",
          "height": 317
        },
        "outputId": "fc8d14df-de7a-4c6e-cb33-90be0fcbe49b"
      },
      "source": [
        "population_only_woman"
      ],
      "execution_count": null,
      "outputs": [
        {
          "output_type": "execute_result",
          "data": {
            "text/html": [
              "<div>\n",
              "<style scoped>\n",
              "    .dataframe tbody tr th:only-of-type {\n",
              "        vertical-align: middle;\n",
              "    }\n",
              "\n",
              "    .dataframe tbody tr th {\n",
              "        vertical-align: top;\n",
              "    }\n",
              "\n",
              "    .dataframe thead th {\n",
              "        text-align: right;\n",
              "    }\n",
              "</style>\n",
              "<table border=\"1\" class=\"dataframe\">\n",
              "  <thead>\n",
              "    <tr style=\"text-align: right;\">\n",
              "      <th></th>\n",
              "      <th>행정구역(시군구)별</th>\n",
              "      <th>1월여자인구수</th>\n",
              "      <th>2월여자인구수</th>\n",
              "      <th>3월여자인구수</th>\n",
              "      <th>4월여자인구수</th>\n",
              "      <th>5월여자인구수</th>\n",
              "      <th>6월여자인구수</th>\n",
              "      <th>7월여자인구수</th>\n",
              "      <th>8월여자인구수</th>\n",
              "      <th>9월여자인구수</th>\n",
              "      <th>10월여자인구수</th>\n",
              "      <th>11월여자인구수</th>\n",
              "      <th>12월여자인구수</th>\n",
              "    </tr>\n",
              "  </thead>\n",
              "  <tbody>\n",
              "    <tr>\n",
              "      <th>0</th>\n",
              "      <td>서울특별시</td>\n",
              "      <td>0.096350</td>\n",
              "      <td>0.096419</td>\n",
              "      <td>0.096439</td>\n",
              "      <td>0.096426</td>\n",
              "      <td>0.096399</td>\n",
              "      <td>0.096369</td>\n",
              "      <td>0.096328</td>\n",
              "      <td>0.096281</td>\n",
              "      <td>0.096258</td>\n",
              "      <td>0.096230</td>\n",
              "      <td>0.096205</td>\n",
              "      <td>0.096188</td>\n",
              "    </tr>\n",
              "    <tr>\n",
              "      <th>1</th>\n",
              "      <td>부산광역시</td>\n",
              "      <td>0.033723</td>\n",
              "      <td>0.033708</td>\n",
              "      <td>0.033695</td>\n",
              "      <td>0.033680</td>\n",
              "      <td>0.033666</td>\n",
              "      <td>0.033652</td>\n",
              "      <td>0.033634</td>\n",
              "      <td>0.033616</td>\n",
              "      <td>0.033605</td>\n",
              "      <td>0.033583</td>\n",
              "      <td>0.033565</td>\n",
              "      <td>0.033543</td>\n",
              "    </tr>\n",
              "    <tr>\n",
              "      <th>2</th>\n",
              "      <td>울산광역시</td>\n",
              "      <td>0.010831</td>\n",
              "      <td>0.010822</td>\n",
              "      <td>0.010814</td>\n",
              "      <td>0.010810</td>\n",
              "      <td>0.010805</td>\n",
              "      <td>0.010802</td>\n",
              "      <td>0.010800</td>\n",
              "      <td>0.010794</td>\n",
              "      <td>0.010791</td>\n",
              "      <td>0.010788</td>\n",
              "      <td>0.010783</td>\n",
              "      <td>0.010773</td>\n",
              "    </tr>\n",
              "    <tr>\n",
              "      <th>3</th>\n",
              "      <td>경기남</td>\n",
              "      <td>0.062767</td>\n",
              "      <td>0.062831</td>\n",
              "      <td>0.062885</td>\n",
              "      <td>0.062945</td>\n",
              "      <td>0.063018</td>\n",
              "      <td>0.063083</td>\n",
              "      <td>0.063162</td>\n",
              "      <td>0.063248</td>\n",
              "      <td>0.063311</td>\n",
              "      <td>0.063370</td>\n",
              "      <td>0.063420</td>\n",
              "      <td>0.063478</td>\n",
              "    </tr>\n",
              "    <tr>\n",
              "      <th>4</th>\n",
              "      <td>경기북</td>\n",
              "      <td>0.062767</td>\n",
              "      <td>0.062831</td>\n",
              "      <td>0.062885</td>\n",
              "      <td>0.062945</td>\n",
              "      <td>0.063018</td>\n",
              "      <td>0.063083</td>\n",
              "      <td>0.063162</td>\n",
              "      <td>0.063248</td>\n",
              "      <td>0.063311</td>\n",
              "      <td>0.063370</td>\n",
              "      <td>0.063420</td>\n",
              "      <td>0.063478</td>\n",
              "    </tr>\n",
              "    <tr>\n",
              "      <th>5</th>\n",
              "      <td>강원도</td>\n",
              "      <td>0.014780</td>\n",
              "      <td>0.014770</td>\n",
              "      <td>0.014770</td>\n",
              "      <td>0.014776</td>\n",
              "      <td>0.014777</td>\n",
              "      <td>0.014779</td>\n",
              "      <td>0.014779</td>\n",
              "      <td>0.014780</td>\n",
              "      <td>0.014780</td>\n",
              "      <td>0.014781</td>\n",
              "      <td>0.014783</td>\n",
              "      <td>0.014782</td>\n",
              "    </tr>\n",
              "    <tr>\n",
              "      <th>6</th>\n",
              "      <td>광주광역시</td>\n",
              "      <td>0.014219</td>\n",
              "      <td>0.014211</td>\n",
              "      <td>0.014209</td>\n",
              "      <td>0.014210</td>\n",
              "      <td>0.014210</td>\n",
              "      <td>0.014210</td>\n",
              "      <td>0.014215</td>\n",
              "      <td>0.014217</td>\n",
              "      <td>0.014221</td>\n",
              "      <td>0.014219</td>\n",
              "      <td>0.014216</td>\n",
              "      <td>0.014196</td>\n",
              "    </tr>\n",
              "    <tr>\n",
              "      <th>7</th>\n",
              "      <td>대구광역시</td>\n",
              "      <td>0.023963</td>\n",
              "      <td>0.023944</td>\n",
              "      <td>0.023928</td>\n",
              "      <td>0.023917</td>\n",
              "      <td>0.023903</td>\n",
              "      <td>0.023888</td>\n",
              "      <td>0.023873</td>\n",
              "      <td>0.023854</td>\n",
              "      <td>0.023843</td>\n",
              "      <td>0.023832</td>\n",
              "      <td>0.023815</td>\n",
              "      <td>0.023786</td>\n",
              "    </tr>\n",
              "    <tr>\n",
              "      <th>8</th>\n",
              "      <td>대전광역시</td>\n",
              "      <td>0.014373</td>\n",
              "      <td>0.014365</td>\n",
              "      <td>0.014356</td>\n",
              "      <td>0.014344</td>\n",
              "      <td>0.014334</td>\n",
              "      <td>0.014319</td>\n",
              "      <td>0.014307</td>\n",
              "      <td>0.014296</td>\n",
              "      <td>0.014289</td>\n",
              "      <td>0.014279</td>\n",
              "      <td>0.014266</td>\n",
              "      <td>0.014245</td>\n",
              "    </tr>\n",
              "  </tbody>\n",
              "</table>\n",
              "</div>"
            ],
            "text/plain": [
              "  행정구역(시군구)별   1월여자인구수   2월여자인구수  ...  10월여자인구수  11월여자인구수  12월여자인구수\n",
              "0      서울특별시  0.096350  0.096419  ...  0.096230  0.096205  0.096188\n",
              "1      부산광역시  0.033723  0.033708  ...  0.033583  0.033565  0.033543\n",
              "2      울산광역시  0.010831  0.010822  ...  0.010788  0.010783  0.010773\n",
              "3        경기남  0.062767  0.062831  ...  0.063370  0.063420  0.063478\n",
              "4        경기북  0.062767  0.062831  ...  0.063370  0.063420  0.063478\n",
              "5        강원도  0.014780  0.014770  ...  0.014781  0.014783  0.014782\n",
              "6      광주광역시  0.014219  0.014211  ...  0.014219  0.014216  0.014196\n",
              "7      대구광역시  0.023963  0.023944  ...  0.023832  0.023815  0.023786\n",
              "8      대전광역시  0.014373  0.014365  ...  0.014279  0.014266  0.014245\n",
              "\n",
              "[9 rows x 13 columns]"
            ]
          },
          "metadata": {
            "tags": []
          },
          "execution_count": 419
        }
      ]
    },
    {
      "cell_type": "code",
      "metadata": {
        "id": "JlztCu8E0Skn",
        "colab_type": "code",
        "colab": {
          "base_uri": "https://localhost:8080/",
          "height": 347
        },
        "outputId": "ce7a21bc-6dfb-46c6-d3c1-d9f35360e249"
      },
      "source": [
        "population_df = population_only_woman.set_index('행정구역(시군구)별')\n",
        "population_df"
      ],
      "execution_count": null,
      "outputs": [
        {
          "output_type": "execute_result",
          "data": {
            "text/html": [
              "<div>\n",
              "<style scoped>\n",
              "    .dataframe tbody tr th:only-of-type {\n",
              "        vertical-align: middle;\n",
              "    }\n",
              "\n",
              "    .dataframe tbody tr th {\n",
              "        vertical-align: top;\n",
              "    }\n",
              "\n",
              "    .dataframe thead th {\n",
              "        text-align: right;\n",
              "    }\n",
              "</style>\n",
              "<table border=\"1\" class=\"dataframe\">\n",
              "  <thead>\n",
              "    <tr style=\"text-align: right;\">\n",
              "      <th></th>\n",
              "      <th>1월여자인구수</th>\n",
              "      <th>2월여자인구수</th>\n",
              "      <th>3월여자인구수</th>\n",
              "      <th>4월여자인구수</th>\n",
              "      <th>5월여자인구수</th>\n",
              "      <th>6월여자인구수</th>\n",
              "      <th>7월여자인구수</th>\n",
              "      <th>8월여자인구수</th>\n",
              "      <th>9월여자인구수</th>\n",
              "      <th>10월여자인구수</th>\n",
              "      <th>11월여자인구수</th>\n",
              "      <th>12월여자인구수</th>\n",
              "    </tr>\n",
              "    <tr>\n",
              "      <th>행정구역(시군구)별</th>\n",
              "      <th></th>\n",
              "      <th></th>\n",
              "      <th></th>\n",
              "      <th></th>\n",
              "      <th></th>\n",
              "      <th></th>\n",
              "      <th></th>\n",
              "      <th></th>\n",
              "      <th></th>\n",
              "      <th></th>\n",
              "      <th></th>\n",
              "      <th></th>\n",
              "    </tr>\n",
              "  </thead>\n",
              "  <tbody>\n",
              "    <tr>\n",
              "      <th>서울특별시</th>\n",
              "      <td>0.096350</td>\n",
              "      <td>0.096419</td>\n",
              "      <td>0.096439</td>\n",
              "      <td>0.096426</td>\n",
              "      <td>0.096399</td>\n",
              "      <td>0.096369</td>\n",
              "      <td>0.096328</td>\n",
              "      <td>0.096281</td>\n",
              "      <td>0.096258</td>\n",
              "      <td>0.096230</td>\n",
              "      <td>0.096205</td>\n",
              "      <td>0.096188</td>\n",
              "    </tr>\n",
              "    <tr>\n",
              "      <th>부산광역시</th>\n",
              "      <td>0.033723</td>\n",
              "      <td>0.033708</td>\n",
              "      <td>0.033695</td>\n",
              "      <td>0.033680</td>\n",
              "      <td>0.033666</td>\n",
              "      <td>0.033652</td>\n",
              "      <td>0.033634</td>\n",
              "      <td>0.033616</td>\n",
              "      <td>0.033605</td>\n",
              "      <td>0.033583</td>\n",
              "      <td>0.033565</td>\n",
              "      <td>0.033543</td>\n",
              "    </tr>\n",
              "    <tr>\n",
              "      <th>울산광역시</th>\n",
              "      <td>0.010831</td>\n",
              "      <td>0.010822</td>\n",
              "      <td>0.010814</td>\n",
              "      <td>0.010810</td>\n",
              "      <td>0.010805</td>\n",
              "      <td>0.010802</td>\n",
              "      <td>0.010800</td>\n",
              "      <td>0.010794</td>\n",
              "      <td>0.010791</td>\n",
              "      <td>0.010788</td>\n",
              "      <td>0.010783</td>\n",
              "      <td>0.010773</td>\n",
              "    </tr>\n",
              "    <tr>\n",
              "      <th>경기남</th>\n",
              "      <td>0.062767</td>\n",
              "      <td>0.062831</td>\n",
              "      <td>0.062885</td>\n",
              "      <td>0.062945</td>\n",
              "      <td>0.063018</td>\n",
              "      <td>0.063083</td>\n",
              "      <td>0.063162</td>\n",
              "      <td>0.063248</td>\n",
              "      <td>0.063311</td>\n",
              "      <td>0.063370</td>\n",
              "      <td>0.063420</td>\n",
              "      <td>0.063478</td>\n",
              "    </tr>\n",
              "    <tr>\n",
              "      <th>경기북</th>\n",
              "      <td>0.062767</td>\n",
              "      <td>0.062831</td>\n",
              "      <td>0.062885</td>\n",
              "      <td>0.062945</td>\n",
              "      <td>0.063018</td>\n",
              "      <td>0.063083</td>\n",
              "      <td>0.063162</td>\n",
              "      <td>0.063248</td>\n",
              "      <td>0.063311</td>\n",
              "      <td>0.063370</td>\n",
              "      <td>0.063420</td>\n",
              "      <td>0.063478</td>\n",
              "    </tr>\n",
              "    <tr>\n",
              "      <th>강원도</th>\n",
              "      <td>0.014780</td>\n",
              "      <td>0.014770</td>\n",
              "      <td>0.014770</td>\n",
              "      <td>0.014776</td>\n",
              "      <td>0.014777</td>\n",
              "      <td>0.014779</td>\n",
              "      <td>0.014779</td>\n",
              "      <td>0.014780</td>\n",
              "      <td>0.014780</td>\n",
              "      <td>0.014781</td>\n",
              "      <td>0.014783</td>\n",
              "      <td>0.014782</td>\n",
              "    </tr>\n",
              "    <tr>\n",
              "      <th>광주광역시</th>\n",
              "      <td>0.014219</td>\n",
              "      <td>0.014211</td>\n",
              "      <td>0.014209</td>\n",
              "      <td>0.014210</td>\n",
              "      <td>0.014210</td>\n",
              "      <td>0.014210</td>\n",
              "      <td>0.014215</td>\n",
              "      <td>0.014217</td>\n",
              "      <td>0.014221</td>\n",
              "      <td>0.014219</td>\n",
              "      <td>0.014216</td>\n",
              "      <td>0.014196</td>\n",
              "    </tr>\n",
              "    <tr>\n",
              "      <th>대구광역시</th>\n",
              "      <td>0.023963</td>\n",
              "      <td>0.023944</td>\n",
              "      <td>0.023928</td>\n",
              "      <td>0.023917</td>\n",
              "      <td>0.023903</td>\n",
              "      <td>0.023888</td>\n",
              "      <td>0.023873</td>\n",
              "      <td>0.023854</td>\n",
              "      <td>0.023843</td>\n",
              "      <td>0.023832</td>\n",
              "      <td>0.023815</td>\n",
              "      <td>0.023786</td>\n",
              "    </tr>\n",
              "    <tr>\n",
              "      <th>대전광역시</th>\n",
              "      <td>0.014373</td>\n",
              "      <td>0.014365</td>\n",
              "      <td>0.014356</td>\n",
              "      <td>0.014344</td>\n",
              "      <td>0.014334</td>\n",
              "      <td>0.014319</td>\n",
              "      <td>0.014307</td>\n",
              "      <td>0.014296</td>\n",
              "      <td>0.014289</td>\n",
              "      <td>0.014279</td>\n",
              "      <td>0.014266</td>\n",
              "      <td>0.014245</td>\n",
              "    </tr>\n",
              "  </tbody>\n",
              "</table>\n",
              "</div>"
            ],
            "text/plain": [
              "             1월여자인구수   2월여자인구수   3월여자인구수  ...  10월여자인구수  11월여자인구수  12월여자인구수\n",
              "행정구역(시군구)별                                ...                              \n",
              "서울특별시       0.096350  0.096419  0.096439  ...  0.096230  0.096205  0.096188\n",
              "부산광역시       0.033723  0.033708  0.033695  ...  0.033583  0.033565  0.033543\n",
              "울산광역시       0.010831  0.010822  0.010814  ...  0.010788  0.010783  0.010773\n",
              "경기남         0.062767  0.062831  0.062885  ...  0.063370  0.063420  0.063478\n",
              "경기북         0.062767  0.062831  0.062885  ...  0.063370  0.063420  0.063478\n",
              "강원도         0.014780  0.014770  0.014770  ...  0.014781  0.014783  0.014782\n",
              "광주광역시       0.014219  0.014211  0.014209  ...  0.014219  0.014216  0.014196\n",
              "대구광역시       0.023963  0.023944  0.023928  ...  0.023832  0.023815  0.023786\n",
              "대전광역시       0.014373  0.014365  0.014356  ...  0.014279  0.014266  0.014245\n",
              "\n",
              "[9 rows x 12 columns]"
            ]
          },
          "metadata": {
            "tags": []
          },
          "execution_count": 421
        }
      ]
    },
    {
      "cell_type": "code",
      "metadata": {
        "id": "osl_rM4yd3DR",
        "colab_type": "code",
        "colab": {
          "base_uri": "https://localhost:8080/",
          "height": 347
        },
        "outputId": "7960769c-e60d-45eb-dd38-69de86477d55"
      },
      "source": [
        "result_munji_df = result_munji.set_index('행정구역(시군구)별')\n",
        "result_munji_df"
      ],
      "execution_count": null,
      "outputs": [
        {
          "output_type": "execute_result",
          "data": {
            "text/html": [
              "<div>\n",
              "<style scoped>\n",
              "    .dataframe tbody tr th:only-of-type {\n",
              "        vertical-align: middle;\n",
              "    }\n",
              "\n",
              "    .dataframe tbody tr th {\n",
              "        vertical-align: top;\n",
              "    }\n",
              "\n",
              "    .dataframe thead th {\n",
              "        text-align: right;\n",
              "    }\n",
              "</style>\n",
              "<table border=\"1\" class=\"dataframe\">\n",
              "  <thead>\n",
              "    <tr style=\"text-align: right;\">\n",
              "      <th></th>\n",
              "      <th>1월먼지</th>\n",
              "      <th>2월먼지</th>\n",
              "      <th>3월먼지</th>\n",
              "      <th>4월먼지</th>\n",
              "      <th>5월먼지</th>\n",
              "      <th>6월먼지</th>\n",
              "      <th>7월먼지</th>\n",
              "      <th>8월먼지</th>\n",
              "      <th>9월먼지</th>\n",
              "      <th>10월먼지</th>\n",
              "      <th>11월먼지</th>\n",
              "      <th>12월먼지</th>\n",
              "    </tr>\n",
              "    <tr>\n",
              "      <th>행정구역(시군구)별</th>\n",
              "      <th></th>\n",
              "      <th></th>\n",
              "      <th></th>\n",
              "      <th></th>\n",
              "      <th></th>\n",
              "      <th></th>\n",
              "      <th></th>\n",
              "      <th></th>\n",
              "      <th></th>\n",
              "      <th></th>\n",
              "      <th></th>\n",
              "      <th></th>\n",
              "    </tr>\n",
              "  </thead>\n",
              "  <tbody>\n",
              "    <tr>\n",
              "      <th>서울특별시</th>\n",
              "      <td>3.628946</td>\n",
              "      <td>3.344483</td>\n",
              "      <td>4.300523</td>\n",
              "      <td>2.006478</td>\n",
              "      <td>2.769829</td>\n",
              "      <td>1.909490</td>\n",
              "      <td>1.813128</td>\n",
              "      <td>1.525994</td>\n",
              "      <td>1.144122</td>\n",
              "      <td>1.429660</td>\n",
              "      <td>1.905628</td>\n",
              "      <td>2.667214</td>\n",
              "    </tr>\n",
              "    <tr>\n",
              "      <th>부산광역시</th>\n",
              "      <td>0.971562</td>\n",
              "      <td>0.971081</td>\n",
              "      <td>1.004084</td>\n",
              "      <td>0.669027</td>\n",
              "      <td>0.835870</td>\n",
              "      <td>0.701785</td>\n",
              "      <td>0.601176</td>\n",
              "      <td>0.634219</td>\n",
              "      <td>0.433765</td>\n",
              "      <td>0.433468</td>\n",
              "      <td>0.566514</td>\n",
              "      <td>0.765903</td>\n",
              "    </tr>\n",
              "    <tr>\n",
              "      <th>울산광역시</th>\n",
              "      <td>0.284835</td>\n",
              "      <td>0.284589</td>\n",
              "      <td>0.317172</td>\n",
              "      <td>0.207725</td>\n",
              "      <td>0.284116</td>\n",
              "      <td>0.240337</td>\n",
              "      <td>0.207507</td>\n",
              "      <td>0.196476</td>\n",
              "      <td>0.141856</td>\n",
              "      <td>0.119989</td>\n",
              "      <td>0.163550</td>\n",
              "      <td>0.217877</td>\n",
              "    </tr>\n",
              "    <tr>\n",
              "      <th>경기남</th>\n",
              "      <td>2.516746</td>\n",
              "      <td>2.267440</td>\n",
              "      <td>2.899827</td>\n",
              "      <td>1.262008</td>\n",
              "      <td>1.832089</td>\n",
              "      <td>1.201568</td>\n",
              "      <td>1.139771</td>\n",
              "      <td>1.141328</td>\n",
              "      <td>0.825111</td>\n",
              "      <td>1.016450</td>\n",
              "      <td>1.335093</td>\n",
              "      <td>1.845360</td>\n",
              "    </tr>\n",
              "    <tr>\n",
              "      <th>경기북</th>\n",
              "      <td>2.957177</td>\n",
              "      <td>2.456393</td>\n",
              "      <td>3.088946</td>\n",
              "      <td>1.388209</td>\n",
              "      <td>1.832089</td>\n",
              "      <td>1.138328</td>\n",
              "      <td>1.203092</td>\n",
              "      <td>1.141328</td>\n",
              "      <td>0.952051</td>\n",
              "      <td>1.270563</td>\n",
              "      <td>1.716548</td>\n",
              "      <td>2.227159</td>\n",
              "    </tr>\n",
              "    <tr>\n",
              "      <th>강원도</th>\n",
              "      <td>0.340806</td>\n",
              "      <td>0.370161</td>\n",
              "      <td>0.473818</td>\n",
              "      <td>0.236987</td>\n",
              "      <td>0.311059</td>\n",
              "      <td>0.237016</td>\n",
              "      <td>0.207382</td>\n",
              "      <td>0.177767</td>\n",
              "      <td>0.148140</td>\n",
              "      <td>0.192596</td>\n",
              "      <td>0.222272</td>\n",
              "      <td>0.251909</td>\n",
              "    </tr>\n",
              "    <tr>\n",
              "      <th>광주광역시</th>\n",
              "      <td>0.467448</td>\n",
              "      <td>0.481370</td>\n",
              "      <td>0.552072</td>\n",
              "      <td>0.283121</td>\n",
              "      <td>0.311445</td>\n",
              "      <td>0.353915</td>\n",
              "      <td>0.240736</td>\n",
              "      <td>0.240761</td>\n",
              "      <td>0.212483</td>\n",
              "      <td>0.254935</td>\n",
              "      <td>0.297348</td>\n",
              "      <td>0.311040</td>\n",
              "    </tr>\n",
              "    <tr>\n",
              "      <th>대구광역시</th>\n",
              "      <td>0.787790</td>\n",
              "      <td>0.763279</td>\n",
              "      <td>0.786513</td>\n",
              "      <td>0.452594</td>\n",
              "      <td>0.547520</td>\n",
              "      <td>0.475787</td>\n",
              "      <td>0.380370</td>\n",
              "      <td>0.380073</td>\n",
              "      <td>0.308650</td>\n",
              "      <td>0.332200</td>\n",
              "      <td>0.497939</td>\n",
              "      <td>0.686724</td>\n",
              "    </tr>\n",
              "    <tr>\n",
              "      <th>대전광역시</th>\n",
              "      <td>0.502900</td>\n",
              "      <td>0.516944</td>\n",
              "      <td>0.559667</td>\n",
              "      <td>0.243767</td>\n",
              "      <td>0.315237</td>\n",
              "      <td>0.257655</td>\n",
              "      <td>0.200229</td>\n",
              "      <td>0.214368</td>\n",
              "      <td>0.171399</td>\n",
              "      <td>0.214093</td>\n",
              "      <td>0.299443</td>\n",
              "      <td>0.355964</td>\n",
              "    </tr>\n",
              "  </tbody>\n",
              "</table>\n",
              "</div>"
            ],
            "text/plain": [
              "                1월먼지      2월먼지      3월먼지  ...     10월먼지     11월먼지     12월먼지\n",
              "행정구역(시군구)별                                ...                              \n",
              "서울특별시       3.628946  3.344483  4.300523  ...  1.429660  1.905628  2.667214\n",
              "부산광역시       0.971562  0.971081  1.004084  ...  0.433468  0.566514  0.765903\n",
              "울산광역시       0.284835  0.284589  0.317172  ...  0.119989  0.163550  0.217877\n",
              "경기남         2.516746  2.267440  2.899827  ...  1.016450  1.335093  1.845360\n",
              "경기북         2.957177  2.456393  3.088946  ...  1.270563  1.716548  2.227159\n",
              "강원도         0.340806  0.370161  0.473818  ...  0.192596  0.222272  0.251909\n",
              "광주광역시       0.467448  0.481370  0.552072  ...  0.254935  0.297348  0.311040\n",
              "대구광역시       0.787790  0.763279  0.786513  ...  0.332200  0.497939  0.686724\n",
              "대전광역시       0.502900  0.516944  0.559667  ...  0.214093  0.299443  0.355964\n",
              "\n",
              "[9 rows x 12 columns]"
            ]
          },
          "metadata": {
            "tags": []
          },
          "execution_count": 68
        }
      ]
    },
    {
      "cell_type": "code",
      "metadata": {
        "id": "M00F1L0q0Sn2",
        "colab_type": "code",
        "colab": {
          "base_uri": "https://localhost:8080/",
          "height": 247
        },
        "outputId": "c498319d-afa2-4d41-ddcf-7f1a4caa4462"
      },
      "source": [
        "woman_weighted_munji = result_munji_df.sum()\n",
        "woman_weighted_munji"
      ],
      "execution_count": null,
      "outputs": [
        {
          "output_type": "execute_result",
          "data": {
            "text/plain": [
              "1월먼지     12.458211\n",
              "2월먼지     11.455741\n",
              "3월먼지     13.982621\n",
              "4월먼지      6.749916\n",
              "5월먼지      9.039254\n",
              "6월먼지      6.515881\n",
              "7월먼지      5.993392\n",
              "8월먼지      5.652313\n",
              "9월먼지      4.337577\n",
              "10월먼지     5.263954\n",
              "11월먼지     7.004334\n",
              "12월먼지     9.329150\n",
              "dtype: float64"
            ]
          },
          "metadata": {
            "tags": []
          },
          "execution_count": 70
        }
      ]
    },
    {
      "cell_type": "code",
      "metadata": {
        "id": "LErqyUv3Nfx5",
        "colab_type": "code",
        "colab": {
          "base_uri": "https://localhost:8080/",
          "height": 603
        },
        "outputId": "66c35488-5bed-418d-a24e-67a72f4b8b38"
      },
      "source": [
        "grouped_month_item = New_data.groupby(['상품군','방송일시_월']).mean()\n",
        "grouped_month_item\n",
        "#grouped_day_item = New_data.groupby(['상품군','DATE']).sum()"
      ],
      "execution_count": 107,
      "outputs": [
        {
          "output_type": "execute_result",
          "data": {
            "text/html": [
              "<div>\n",
              "<style scoped>\n",
              "    .dataframe tbody tr th:only-of-type {\n",
              "        vertical-align: middle;\n",
              "    }\n",
              "\n",
              "    .dataframe tbody tr th {\n",
              "        vertical-align: top;\n",
              "    }\n",
              "\n",
              "    .dataframe thead th {\n",
              "        text-align: right;\n",
              "    }\n",
              "</style>\n",
              "<table border=\"1\" class=\"dataframe\">\n",
              "  <thead>\n",
              "    <tr style=\"text-align: right;\">\n",
              "      <th></th>\n",
              "      <th></th>\n",
              "      <th>노출(분)</th>\n",
              "      <th>마더코드</th>\n",
              "      <th>상품코드</th>\n",
              "      <th>판매단가</th>\n",
              "      <th>취급액</th>\n",
              "      <th>방송일시_년도</th>\n",
              "      <th>방송일시_일</th>\n",
              "      <th>방송일시_시</th>\n",
              "      <th>방송일시_분</th>\n",
              "      <th>방송일시_초</th>\n",
              "      <th>방송일시_요일</th>\n",
              "      <th>주문량</th>\n",
              "      <th>DATE</th>\n",
              "    </tr>\n",
              "    <tr>\n",
              "      <th>상품군</th>\n",
              "      <th>방송일시_월</th>\n",
              "      <th></th>\n",
              "      <th></th>\n",
              "      <th></th>\n",
              "      <th></th>\n",
              "      <th></th>\n",
              "      <th></th>\n",
              "      <th></th>\n",
              "      <th></th>\n",
              "      <th></th>\n",
              "      <th></th>\n",
              "      <th></th>\n",
              "      <th></th>\n",
              "      <th></th>\n",
              "    </tr>\n",
              "  </thead>\n",
              "  <tbody>\n",
              "    <tr>\n",
              "      <th rowspan=\"5\" valign=\"top\">가구</th>\n",
              "      <th>2</th>\n",
              "      <td>20.000000</td>\n",
              "      <td>100359.347826</td>\n",
              "      <td>201138.565217</td>\n",
              "      <td>631130.434783</td>\n",
              "      <td>1.367100e+07</td>\n",
              "      <td>2019.0</td>\n",
              "      <td>16.869565</td>\n",
              "      <td>21.739130</td>\n",
              "      <td>20.000000</td>\n",
              "      <td>0.0</td>\n",
              "      <td>2.826087</td>\n",
              "      <td>23.161003</td>\n",
              "      <td>2.019022e+07</td>\n",
              "    </tr>\n",
              "    <tr>\n",
              "      <th>3</th>\n",
              "      <td>20.521173</td>\n",
              "      <td>100423.013029</td>\n",
              "      <td>201309.478827</td>\n",
              "      <td>831617.589577</td>\n",
              "      <td>1.165512e+07</td>\n",
              "      <td>2019.0</td>\n",
              "      <td>12.840391</td>\n",
              "      <td>20.205212</td>\n",
              "      <td>20.781759</td>\n",
              "      <td>0.0</td>\n",
              "      <td>3.185668</td>\n",
              "      <td>19.138944</td>\n",
              "      <td>2.019031e+07</td>\n",
              "    </tr>\n",
              "    <tr>\n",
              "      <th>4</th>\n",
              "      <td>20.990712</td>\n",
              "      <td>100372.182663</td>\n",
              "      <td>201172.922601</td>\n",
              "      <td>909529.411765</td>\n",
              "      <td>1.124103e+07</td>\n",
              "      <td>2019.0</td>\n",
              "      <td>12.869969</td>\n",
              "      <td>19.352941</td>\n",
              "      <td>19.504644</td>\n",
              "      <td>0.0</td>\n",
              "      <td>2.486068</td>\n",
              "      <td>18.013451</td>\n",
              "      <td>2.019041e+07</td>\n",
              "    </tr>\n",
              "    <tr>\n",
              "      <th>5</th>\n",
              "      <td>20.000000</td>\n",
              "      <td>100304.290323</td>\n",
              "      <td>200982.311828</td>\n",
              "      <td>893562.365591</td>\n",
              "      <td>1.149007e+07</td>\n",
              "      <td>2019.0</td>\n",
              "      <td>11.849462</td>\n",
              "      <td>19.903226</td>\n",
              "      <td>20.000000</td>\n",
              "      <td>0.0</td>\n",
              "      <td>2.763441</td>\n",
              "      <td>16.559247</td>\n",
              "      <td>2.019051e+07</td>\n",
              "    </tr>\n",
              "    <tr>\n",
              "      <th>6</th>\n",
              "      <td>20.000000</td>\n",
              "      <td>100290.763441</td>\n",
              "      <td>200945.247312</td>\n",
              "      <td>882983.870968</td>\n",
              "      <td>1.175808e+07</td>\n",
              "      <td>2019.0</td>\n",
              "      <td>12.623656</td>\n",
              "      <td>19.455197</td>\n",
              "      <td>20.000000</td>\n",
              "      <td>0.0</td>\n",
              "      <td>2.924731</td>\n",
              "      <td>17.461582</td>\n",
              "      <td>2.019061e+07</td>\n",
              "    </tr>\n",
              "    <tr>\n",
              "      <th>...</th>\n",
              "      <th>...</th>\n",
              "      <td>...</td>\n",
              "      <td>...</td>\n",
              "      <td>...</td>\n",
              "      <td>...</td>\n",
              "      <td>...</td>\n",
              "      <td>...</td>\n",
              "      <td>...</td>\n",
              "      <td>...</td>\n",
              "      <td>...</td>\n",
              "      <td>...</td>\n",
              "      <td>...</td>\n",
              "      <td>...</td>\n",
              "      <td>...</td>\n",
              "    </tr>\n",
              "    <tr>\n",
              "      <th rowspan=\"5\" valign=\"top\">침구</th>\n",
              "      <th>7</th>\n",
              "      <td>19.921311</td>\n",
              "      <td>100152.098361</td>\n",
              "      <td>200430.704918</td>\n",
              "      <td>72347.540984</td>\n",
              "      <td>1.122410e+07</td>\n",
              "      <td>2019.0</td>\n",
              "      <td>12.245902</td>\n",
              "      <td>12.360656</td>\n",
              "      <td>20.000000</td>\n",
              "      <td>0.0</td>\n",
              "      <td>3.098361</td>\n",
              "      <td>169.893573</td>\n",
              "      <td>2.019071e+07</td>\n",
              "    </tr>\n",
              "    <tr>\n",
              "      <th>8</th>\n",
              "      <td>20.000000</td>\n",
              "      <td>100261.750000</td>\n",
              "      <td>200853.750000</td>\n",
              "      <td>109475.000000</td>\n",
              "      <td>1.154917e+07</td>\n",
              "      <td>2019.0</td>\n",
              "      <td>22.000000</td>\n",
              "      <td>13.250000</td>\n",
              "      <td>20.000000</td>\n",
              "      <td>0.0</td>\n",
              "      <td>1.250000</td>\n",
              "      <td>160.269365</td>\n",
              "      <td>2.019082e+07</td>\n",
              "    </tr>\n",
              "    <tr>\n",
              "      <th>9</th>\n",
              "      <td>19.511481</td>\n",
              "      <td>100154.666667</td>\n",
              "      <td>200450.600000</td>\n",
              "      <td>83720.000000</td>\n",
              "      <td>3.051556e+06</td>\n",
              "      <td>2019.0</td>\n",
              "      <td>13.666667</td>\n",
              "      <td>4.022222</td>\n",
              "      <td>20.000000</td>\n",
              "      <td>0.0</td>\n",
              "      <td>3.266667</td>\n",
              "      <td>43.529366</td>\n",
              "      <td>2.019091e+07</td>\n",
              "    </tr>\n",
              "    <tr>\n",
              "      <th>10</th>\n",
              "      <td>20.000000</td>\n",
              "      <td>100374.058824</td>\n",
              "      <td>201086.235294</td>\n",
              "      <td>72523.529412</td>\n",
              "      <td>8.678294e+06</td>\n",
              "      <td>2019.0</td>\n",
              "      <td>21.529412</td>\n",
              "      <td>18.529412</td>\n",
              "      <td>20.000000</td>\n",
              "      <td>0.0</td>\n",
              "      <td>0.941176</td>\n",
              "      <td>113.861109</td>\n",
              "      <td>2.019102e+07</td>\n",
              "    </tr>\n",
              "    <tr>\n",
              "      <th>11</th>\n",
              "      <td>19.841270</td>\n",
              "      <td>100143.571429</td>\n",
              "      <td>200397.785714</td>\n",
              "      <td>74900.000000</td>\n",
              "      <td>8.525940e+06</td>\n",
              "      <td>2019.0</td>\n",
              "      <td>13.857143</td>\n",
              "      <td>11.333333</td>\n",
              "      <td>20.000000</td>\n",
              "      <td>0.0</td>\n",
              "      <td>2.857143</td>\n",
              "      <td>116.723763</td>\n",
              "      <td>2.019111e+07</td>\n",
              "    </tr>\n",
              "  </tbody>\n",
              "</table>\n",
              "<p>127 rows × 13 columns</p>\n",
              "</div>"
            ],
            "text/plain": [
              "                노출(분)           마더코드  ...         주문량          DATE\n",
              "상품군 방송일시_월                            ...                          \n",
              "가구  2       20.000000  100359.347826  ...   23.161003  2.019022e+07\n",
              "    3       20.521173  100423.013029  ...   19.138944  2.019031e+07\n",
              "    4       20.990712  100372.182663  ...   18.013451  2.019041e+07\n",
              "    5       20.000000  100304.290323  ...   16.559247  2.019051e+07\n",
              "    6       20.000000  100290.763441  ...   17.461582  2.019061e+07\n",
              "...               ...            ...  ...         ...           ...\n",
              "침구  7       19.921311  100152.098361  ...  169.893573  2.019071e+07\n",
              "    8       20.000000  100261.750000  ...  160.269365  2.019082e+07\n",
              "    9       19.511481  100154.666667  ...   43.529366  2.019091e+07\n",
              "    10      20.000000  100374.058824  ...  113.861109  2.019102e+07\n",
              "    11      19.841270  100143.571429  ...  116.723763  2.019111e+07\n",
              "\n",
              "[127 rows x 13 columns]"
            ]
          },
          "metadata": {
            "tags": []
          },
          "execution_count": 107
        }
      ]
    },
    {
      "cell_type": "code",
      "metadata": {
        "id": "Kga4HSS1aHxQ",
        "colab_type": "code",
        "colab": {
          "base_uri": "https://localhost:8080/",
          "height": 443
        },
        "outputId": "2e9e6164-a3a3-4f50-9d85-9c3c6215d20a"
      },
      "source": [
        "population_only_woman, population_only_man"
      ],
      "execution_count": null,
      "outputs": [
        {
          "output_type": "execute_result",
          "data": {
            "text/plain": [
              "(  행정구역(시군구)별   1월여자인구수   2월여자인구수  ...  10월여자인구수  11월여자인구수  12월여자인구수\n",
              " 0      서울특별시  0.096350  0.096419  ...  0.096230  0.096205  0.096188\n",
              " 1      부산광역시  0.033723  0.033708  ...  0.033583  0.033565  0.033543\n",
              " 2      울산광역시  0.010831  0.010822  ...  0.010788  0.010783  0.010773\n",
              " 3        경기남  0.062767  0.062831  ...  0.063370  0.063420  0.063478\n",
              " 4        경기북  0.062767  0.062831  ...  0.063370  0.063420  0.063478\n",
              " 5        강원도  0.014780  0.014770  ...  0.014781  0.014783  0.014782\n",
              " 6      광주광역시  0.014219  0.014211  ...  0.014219  0.014216  0.014196\n",
              " 7      대구광역시  0.023963  0.023944  ...  0.023832  0.023815  0.023786\n",
              " 8      대전광역시  0.014373  0.014365  ...  0.014279  0.014266  0.014245\n",
              " \n",
              " [9 rows x 13 columns],\n",
              "     1월남자인구수   2월남자인구수   3월남자인구수  ...  10월남자인구수  11월남자인구수  12월남자인구수\n",
              " 0  0.092093  0.092108  0.092079  ...  0.091634  0.091587  0.091538\n",
              " 1  0.032619  0.032595  0.032566  ...  0.032384  0.032361  0.032328\n",
              " 2  0.011450  0.011439  0.011430  ...  0.011391  0.011386  0.011379\n",
              " 3  0.063527  0.063598  0.063659  ...  0.064161  0.064201  0.064253\n",
              " 4  0.063527  0.063598  0.063659  ...  0.064161  0.064201  0.064253\n",
              " 5  0.014967  0.014954  0.014954  ...  0.014951  0.014959  0.014961\n",
              " 6  0.013949  0.013944  0.013941  ...  0.013940  0.013934  0.013907\n",
              " 7  0.023511  0.023486  0.023458  ...  0.023317  0.023295  0.023256\n",
              " 8  0.014353  0.014339  0.014330  ...  0.014248  0.014232  0.014213\n",
              " \n",
              " [9 rows x 12 columns])"
            ]
          },
          "metadata": {
            "tags": []
          },
          "execution_count": 61
        }
      ]
    },
    {
      "cell_type": "code",
      "metadata": {
        "id": "IcRS_8DTaHuw",
        "colab_type": "code",
        "colab": {
          "base_uri": "https://localhost:8080/",
          "height": 330
        },
        "outputId": "17b417a7-5e1d-422b-f8ab-496a1455ebd0"
      },
      "source": [
        "population_woman_df = population_only_woman.set_index('행정구역(시군구)별')\n",
        "population_man_df = population_only_man.set_index('행정구역(시군구)별')\n",
        "population_woman_df,population_man_df"
      ],
      "execution_count": null,
      "outputs": [
        {
          "output_type": "error",
          "ename": "KeyError",
          "evalue": "ignored",
          "traceback": [
            "\u001b[0;31m---------------------------------------------------------------------------\u001b[0m",
            "\u001b[0;31mKeyError\u001b[0m                                  Traceback (most recent call last)",
            "\u001b[0;32m<ipython-input-62-538118a7d85e>\u001b[0m in \u001b[0;36m<module>\u001b[0;34m()\u001b[0m\n\u001b[1;32m      1\u001b[0m \u001b[0mpopulation_woman_df\u001b[0m \u001b[0;34m=\u001b[0m \u001b[0mpopulation_only_woman\u001b[0m\u001b[0;34m.\u001b[0m\u001b[0mset_index\u001b[0m\u001b[0;34m(\u001b[0m\u001b[0;34m'행정구역(시군구)별'\u001b[0m\u001b[0;34m)\u001b[0m\u001b[0;34m\u001b[0m\u001b[0;34m\u001b[0m\u001b[0m\n\u001b[0;32m----> 2\u001b[0;31m \u001b[0mpopulation_man_df\u001b[0m \u001b[0;34m=\u001b[0m \u001b[0mpopulation_only_man\u001b[0m\u001b[0;34m.\u001b[0m\u001b[0mset_index\u001b[0m\u001b[0;34m(\u001b[0m\u001b[0;34m'행정구역(시군구)별'\u001b[0m\u001b[0;34m)\u001b[0m\u001b[0;34m\u001b[0m\u001b[0;34m\u001b[0m\u001b[0m\n\u001b[0m\u001b[1;32m      3\u001b[0m \u001b[0mpopulation_woman_df\u001b[0m\u001b[0;34m,\u001b[0m\u001b[0mpopulation_man_df\u001b[0m\u001b[0;34m\u001b[0m\u001b[0;34m\u001b[0m\u001b[0m\n",
            "\u001b[0;32m/usr/local/lib/python3.6/dist-packages/pandas/core/frame.py\u001b[0m in \u001b[0;36mset_index\u001b[0;34m(self, keys, drop, append, inplace, verify_integrity)\u001b[0m\n\u001b[1;32m   4301\u001b[0m \u001b[0;34m\u001b[0m\u001b[0m\n\u001b[1;32m   4302\u001b[0m         \u001b[0;32mif\u001b[0m \u001b[0mmissing\u001b[0m\u001b[0;34m:\u001b[0m\u001b[0;34m\u001b[0m\u001b[0;34m\u001b[0m\u001b[0m\n\u001b[0;32m-> 4303\u001b[0;31m             \u001b[0;32mraise\u001b[0m \u001b[0mKeyError\u001b[0m\u001b[0;34m(\u001b[0m\u001b[0;34mf\"None of {missing} are in the columns\"\u001b[0m\u001b[0;34m)\u001b[0m\u001b[0;34m\u001b[0m\u001b[0;34m\u001b[0m\u001b[0m\n\u001b[0m\u001b[1;32m   4304\u001b[0m \u001b[0;34m\u001b[0m\u001b[0m\n\u001b[1;32m   4305\u001b[0m         \u001b[0;32mif\u001b[0m \u001b[0minplace\u001b[0m\u001b[0;34m:\u001b[0m\u001b[0;34m\u001b[0m\u001b[0;34m\u001b[0m\u001b[0m\n",
            "\u001b[0;31mKeyError\u001b[0m: \"None of ['행정구역(시군구)별'] are in the columns\""
          ]
        }
      ]
    },
    {
      "cell_type": "markdown",
      "metadata": {
        "id": "r_CltMHpaCDs",
        "colab_type": "text"
      },
      "source": [
        "#여성:남성 비율 조정해서 곱해보기(홈쇼핑 이용성비 8:2정도라면 반영해보기)"
      ]
    },
    {
      "cell_type": "markdown",
      "metadata": {
        "id": "m4ll34Zd0P-A",
        "colab_type": "text"
      },
      "source": [
        "#여성 인구수만 고려, 엑셀에서 곱한 결과"
      ]
    },
    {
      "cell_type": "code",
      "metadata": {
        "id": "jIbSM8sqOUJ6",
        "colab_type": "code",
        "colab": {
          "base_uri": "https://localhost:8080/",
          "height": 247
        },
        "outputId": "fd4146d2-870c-4a46-d368-e59b7b5980a5"
      },
      "source": [
        "#print(Final_munji)\n",
        "month_gagu = grouped_month_item.xs('가구')['주문량']\n",
        "month_gagu"
      ],
      "execution_count": null,
      "outputs": [
        {
          "output_type": "execute_result",
          "data": {
            "text/plain": [
              "방송일시_월\n",
              "2     23.161003\n",
              "3     19.138944\n",
              "4     18.013451\n",
              "5     16.559247\n",
              "6     17.461582\n",
              "7     20.095313\n",
              "8     21.301611\n",
              "9     24.749184\n",
              "10    24.068045\n",
              "11    20.949684\n",
              "12    10.723672\n",
              "Name: 주문량, dtype: float64"
            ]
          },
          "metadata": {
            "tags": []
          },
          "execution_count": 82
        }
      ]
    },
    {
      "cell_type": "code",
      "metadata": {
        "id": "CCALfqEFbCav",
        "colab_type": "code",
        "colab": {}
      },
      "source": [
        ""
      ],
      "execution_count": null,
      "outputs": []
    },
    {
      "cell_type": "code",
      "metadata": {
        "id": "Zc2TUSfSbCXu",
        "colab_type": "code",
        "colab": {
          "base_uri": "https://localhost:8080/",
          "height": 230
        },
        "outputId": "24d695d2-5d7a-4301-f3d5-28e73d4531fa"
      },
      "source": [
        "Final_munji_gagu = woman_weighted_munji[1:12]\n",
        "Final_munji_gagu"
      ],
      "execution_count": null,
      "outputs": [
        {
          "output_type": "execute_result",
          "data": {
            "text/plain": [
              "2월먼지     11.455741\n",
              "3월먼지     13.982621\n",
              "4월먼지      6.749916\n",
              "5월먼지      9.039254\n",
              "6월먼지      6.515881\n",
              "7월먼지      5.993392\n",
              "8월먼지      5.652313\n",
              "9월먼지      4.337577\n",
              "10월먼지     5.263954\n",
              "11월먼지     7.004334\n",
              "12월먼지     9.329150\n",
              "dtype: float64"
            ]
          },
          "metadata": {
            "tags": []
          },
          "execution_count": 71
        }
      ]
    },
    {
      "cell_type": "code",
      "metadata": {
        "id": "Eiah8KkccIOw",
        "colab_type": "code",
        "colab": {
          "base_uri": "https://localhost:8080/",
          "height": 34
        },
        "outputId": "d48277de-ea73-4329-d644-fdfb53a5ac0d"
      },
      "source": [
        "stats.linregress(Final_munji_gagu,month_gagu)"
      ],
      "execution_count": null,
      "outputs": [
        {
          "output_type": "execute_result",
          "data": {
            "text/plain": [
              "LinregressResult(slope=-0.44074819908640467, intercept=23.075290435594447, rvalue=-0.3220621474183821, pvalue=0.33410965514506213, stderr=0.43186746207678867)"
            ]
          },
          "metadata": {
            "tags": []
          },
          "execution_count": 83
        }
      ]
    },
    {
      "cell_type": "code",
      "metadata": {
        "id": "eSAyAIJmcXTm",
        "colab_type": "code",
        "colab": {
          "base_uri": "https://localhost:8080/",
          "height": 265
        },
        "outputId": "1207e35b-8ec2-4769-aa80-86648f6e99ea"
      },
      "source": [
        "month_health = grouped_month_item.xs('건강기능')['주문량']\n",
        "month_health"
      ],
      "execution_count": null,
      "outputs": [
        {
          "output_type": "execute_result",
          "data": {
            "text/plain": [
              "방송일시_월\n",
              "1     222.692689\n",
              "2     376.908970\n",
              "3     367.402775\n",
              "4     320.049258\n",
              "5     273.655106\n",
              "6     458.194428\n",
              "7     408.675981\n",
              "8     271.627928\n",
              "9     394.479894\n",
              "10    388.529158\n",
              "11    352.627425\n",
              "12    521.804674\n",
              "Name: 주문량, dtype: float64"
            ]
          },
          "metadata": {
            "tags": []
          },
          "execution_count": 84
        }
      ]
    },
    {
      "cell_type": "code",
      "metadata": {
        "id": "dfMMXra5dema",
        "colab_type": "code",
        "colab": {
          "base_uri": "https://localhost:8080/",
          "height": 72
        },
        "outputId": "f52b6fc4-f848-4ff4-d4af-836c990b5334"
      },
      "source": [
        "obj = pd.Series()"
      ],
      "execution_count": null,
      "outputs": [
        {
          "output_type": "stream",
          "text": [
            "/usr/local/lib/python3.6/dist-packages/ipykernel_launcher.py:1: DeprecationWarning: The default dtype for empty Series will be 'object' instead of 'float64' in a future version. Specify a dtype explicitly to silence this warning.\n",
            "  \"\"\"Entry point for launching an IPython kernel.\n"
          ],
          "name": "stderr"
        }
      ]
    },
    {
      "cell_type": "code",
      "metadata": {
        "id": "mHzl7huXcq6h",
        "colab_type": "code",
        "colab": {}
      },
      "source": [
        "stats.linregress(Final_munji,month_health)"
      ],
      "execution_count": null,
      "outputs": []
    },
    {
      "cell_type": "markdown",
      "metadata": {
        "id": "76FW1gDO3poc",
        "colab_type": "text"
      },
      "source": [
        "#상품군별로 월별 평균주문량 vs 월별 평균 미세먼지 비교(아래 제품군 공통사항)"
      ]
    },
    {
      "cell_type": "code",
      "metadata": {
        "id": "REE5IiwW3uTb",
        "colab_type": "code",
        "colab": {}
      },
      "source": [
        "#gun_list = ['주방','가전','의류','속옷','잡화','농수축','생활용품','이미용','침구']\n",
        "month_jubang = grouped_month_item.xs('주방')['주문량']\n",
        "month_jubang"
      ],
      "execution_count": null,
      "outputs": []
    },
    {
      "cell_type": "markdown",
      "metadata": {
        "id": "kJVtYYh_5_FD",
        "colab_type": "text"
      },
      "source": [
        "# 1.주방용품"
      ]
    },
    {
      "cell_type": "markdown",
      "metadata": {
        "id": "3YGjfrru7tv2",
        "colab_type": "text"
      },
      "source": [
        "1년간 일별 주문량 합계 (DATE변수추가)"
      ]
    },
    {
      "cell_type": "code",
      "metadata": {
        "id": "VxizpiV37qxi",
        "colab_type": "code",
        "colab": {}
      },
      "source": [
        "New_data = Selling.copy()\n",
        "New_data['DATE'] = New_data['방송일시'].map(lambda x: 10000*x.to_pydatetime().year + 100*x.to_pydatetime().month + x.to_pydatetime().day)"
      ],
      "execution_count": 103,
      "outputs": []
    },
    {
      "cell_type": "code",
      "metadata": {
        "id": "9imL2PWB71V-",
        "colab_type": "code",
        "colab": {
          "base_uri": "https://localhost:8080/",
          "height": 470
        },
        "outputId": "757a915e-8d26-4794-f6ce-f9bbb24fb9aa"
      },
      "source": [
        "grouped_day_item = New_data.groupby(['상품군','DATE']).sum()\n",
        "grouped_day_item"
      ],
      "execution_count": 104,
      "outputs": [
        {
          "output_type": "execute_result",
          "data": {
            "text/html": [
              "<div>\n",
              "<style scoped>\n",
              "    .dataframe tbody tr th:only-of-type {\n",
              "        vertical-align: middle;\n",
              "    }\n",
              "\n",
              "    .dataframe tbody tr th {\n",
              "        vertical-align: top;\n",
              "    }\n",
              "\n",
              "    .dataframe thead th {\n",
              "        text-align: right;\n",
              "    }\n",
              "</style>\n",
              "<table border=\"1\" class=\"dataframe\">\n",
              "  <thead>\n",
              "    <tr style=\"text-align: right;\">\n",
              "      <th></th>\n",
              "      <th></th>\n",
              "      <th>노출(분)</th>\n",
              "      <th>마더코드</th>\n",
              "      <th>상품코드</th>\n",
              "      <th>판매단가</th>\n",
              "      <th>취급액</th>\n",
              "      <th>방송일시_년도</th>\n",
              "      <th>방송일시_월</th>\n",
              "      <th>방송일시_일</th>\n",
              "      <th>방송일시_시</th>\n",
              "      <th>방송일시_분</th>\n",
              "      <th>방송일시_초</th>\n",
              "      <th>방송일시_요일</th>\n",
              "      <th>주문량</th>\n",
              "    </tr>\n",
              "    <tr>\n",
              "      <th>상품군</th>\n",
              "      <th>DATE</th>\n",
              "      <th></th>\n",
              "      <th></th>\n",
              "      <th></th>\n",
              "      <th></th>\n",
              "      <th></th>\n",
              "      <th></th>\n",
              "      <th></th>\n",
              "      <th></th>\n",
              "      <th></th>\n",
              "      <th></th>\n",
              "      <th></th>\n",
              "      <th></th>\n",
              "      <th></th>\n",
              "    </tr>\n",
              "  </thead>\n",
              "  <tbody>\n",
              "    <tr>\n",
              "      <th rowspan=\"5\" valign=\"top\">가구</th>\n",
              "      <th>20190201</th>\n",
              "      <td>180.0</td>\n",
              "      <td>901845</td>\n",
              "      <td>1806588</td>\n",
              "      <td>5382000</td>\n",
              "      <td>169247000.0</td>\n",
              "      <td>18171</td>\n",
              "      <td>18</td>\n",
              "      <td>9</td>\n",
              "      <td>198</td>\n",
              "      <td>180</td>\n",
              "      <td>0</td>\n",
              "      <td>36</td>\n",
              "      <td>285.268734</td>\n",
              "    </tr>\n",
              "    <tr>\n",
              "      <th>20190204</th>\n",
              "      <td>180.0</td>\n",
              "      <td>901845</td>\n",
              "      <td>1806588</td>\n",
              "      <td>5382000</td>\n",
              "      <td>150677000.0</td>\n",
              "      <td>18171</td>\n",
              "      <td>18</td>\n",
              "      <td>36</td>\n",
              "      <td>180</td>\n",
              "      <td>180</td>\n",
              "      <td>0</td>\n",
              "      <td>0</td>\n",
              "      <td>253.090929</td>\n",
              "    </tr>\n",
              "    <tr>\n",
              "      <th>20190206</th>\n",
              "      <td>180.0</td>\n",
              "      <td>901845</td>\n",
              "      <td>1806588</td>\n",
              "      <td>5382000</td>\n",
              "      <td>178832000.0</td>\n",
              "      <td>18171</td>\n",
              "      <td>18</td>\n",
              "      <td>54</td>\n",
              "      <td>207</td>\n",
              "      <td>180</td>\n",
              "      <td>0</td>\n",
              "      <td>18</td>\n",
              "      <td>303.985646</td>\n",
              "    </tr>\n",
              "    <tr>\n",
              "      <th>20190208</th>\n",
              "      <td>180.0</td>\n",
              "      <td>901845</td>\n",
              "      <td>1806588</td>\n",
              "      <td>5382000</td>\n",
              "      <td>217876000.0</td>\n",
              "      <td>18171</td>\n",
              "      <td>18</td>\n",
              "      <td>72</td>\n",
              "      <td>189</td>\n",
              "      <td>180</td>\n",
              "      <td>0</td>\n",
              "      <td>36</td>\n",
              "      <td>373.762817</td>\n",
              "    </tr>\n",
              "    <tr>\n",
              "      <th>20190212</th>\n",
              "      <td>360.0</td>\n",
              "      <td>1809000</td>\n",
              "      <td>3627108</td>\n",
              "      <td>10332000</td>\n",
              "      <td>164505000.0</td>\n",
              "      <td>36342</td>\n",
              "      <td>36</td>\n",
              "      <td>216</td>\n",
              "      <td>414</td>\n",
              "      <td>360</td>\n",
              "      <td>0</td>\n",
              "      <td>18</td>\n",
              "      <td>295.627299</td>\n",
              "    </tr>\n",
              "    <tr>\n",
              "      <th>...</th>\n",
              "      <th>...</th>\n",
              "      <td>...</td>\n",
              "      <td>...</td>\n",
              "      <td>...</td>\n",
              "      <td>...</td>\n",
              "      <td>...</td>\n",
              "      <td>...</td>\n",
              "      <td>...</td>\n",
              "      <td>...</td>\n",
              "      <td>...</td>\n",
              "      <td>...</td>\n",
              "      <td>...</td>\n",
              "      <td>...</td>\n",
              "      <td>...</td>\n",
              "    </tr>\n",
              "    <tr>\n",
              "      <th rowspan=\"5\" valign=\"top\">침구</th>\n",
              "      <th>20191111</th>\n",
              "      <td>240.0</td>\n",
              "      <td>1201716</td>\n",
              "      <td>2404746</td>\n",
              "      <td>898800</td>\n",
              "      <td>96350000.0</td>\n",
              "      <td>24228</td>\n",
              "      <td>132</td>\n",
              "      <td>132</td>\n",
              "      <td>172</td>\n",
              "      <td>240</td>\n",
              "      <td>0</td>\n",
              "      <td>0</td>\n",
              "      <td>1324.517211</td>\n",
              "    </tr>\n",
              "    <tr>\n",
              "      <th>20191113</th>\n",
              "      <td>240.0</td>\n",
              "      <td>1201716</td>\n",
              "      <td>2404746</td>\n",
              "      <td>898800</td>\n",
              "      <td>108818000.0</td>\n",
              "      <td>24228</td>\n",
              "      <td>132</td>\n",
              "      <td>156</td>\n",
              "      <td>160</td>\n",
              "      <td>240</td>\n",
              "      <td>0</td>\n",
              "      <td>24</td>\n",
              "      <td>1512.708542</td>\n",
              "    </tr>\n",
              "    <tr>\n",
              "      <th>20191119</th>\n",
              "      <td>240.0</td>\n",
              "      <td>1201716</td>\n",
              "      <td>2404746</td>\n",
              "      <td>898800</td>\n",
              "      <td>110848000.0</td>\n",
              "      <td>24228</td>\n",
              "      <td>132</td>\n",
              "      <td>228</td>\n",
              "      <td>160</td>\n",
              "      <td>240</td>\n",
              "      <td>0</td>\n",
              "      <td>12</td>\n",
              "      <td>1525.351548</td>\n",
              "    </tr>\n",
              "    <tr>\n",
              "      <th>20191121</th>\n",
              "      <td>240.0</td>\n",
              "      <td>1201716</td>\n",
              "      <td>2404746</td>\n",
              "      <td>898800</td>\n",
              "      <td>122006000.0</td>\n",
              "      <td>24228</td>\n",
              "      <td>132</td>\n",
              "      <td>252</td>\n",
              "      <td>148</td>\n",
              "      <td>240</td>\n",
              "      <td>0</td>\n",
              "      <td>36</td>\n",
              "      <td>1637.059339</td>\n",
              "    </tr>\n",
              "    <tr>\n",
              "      <th>20191124</th>\n",
              "      <td>240.0</td>\n",
              "      <td>1201716</td>\n",
              "      <td>2404746</td>\n",
              "      <td>898800</td>\n",
              "      <td>108289000.0</td>\n",
              "      <td>24228</td>\n",
              "      <td>132</td>\n",
              "      <td>288</td>\n",
              "      <td>148</td>\n",
              "      <td>240</td>\n",
              "      <td>0</td>\n",
              "      <td>72</td>\n",
              "      <td>1500.644634</td>\n",
              "    </tr>\n",
              "  </tbody>\n",
              "</table>\n",
              "<p>2984 rows × 13 columns</p>\n",
              "</div>"
            ],
            "text/plain": [
              "              노출(분)     마더코드     상품코드  ...  방송일시_초  방송일시_요일          주문량\n",
              "상품군 DATE                               ...                              \n",
              "가구  20190201  180.0   901845  1806588  ...       0       36   285.268734\n",
              "    20190204  180.0   901845  1806588  ...       0        0   253.090929\n",
              "    20190206  180.0   901845  1806588  ...       0       18   303.985646\n",
              "    20190208  180.0   901845  1806588  ...       0       36   373.762817\n",
              "    20190212  360.0  1809000  3627108  ...       0       18   295.627299\n",
              "...             ...      ...      ...  ...     ...      ...          ...\n",
              "침구  20191111  240.0  1201716  2404746  ...       0        0  1324.517211\n",
              "    20191113  240.0  1201716  2404746  ...       0       24  1512.708542\n",
              "    20191119  240.0  1201716  2404746  ...       0       12  1525.351548\n",
              "    20191121  240.0  1201716  2404746  ...       0       36  1637.059339\n",
              "    20191124  240.0  1201716  2404746  ...       0       72  1500.644634\n",
              "\n",
              "[2984 rows x 13 columns]"
            ]
          },
          "metadata": {
            "tags": []
          },
          "execution_count": 104
        }
      ]
    },
    {
      "cell_type": "code",
      "metadata": {
        "id": "a0cWYcNB71R_",
        "colab_type": "code",
        "colab": {}
      },
      "source": [
        "grouped_day_item = grouped_day_item['취급액']/grouped_day_item['판매단가']\n",
        "grouped_day_item = pd.DataFrame(grouped_day_item)"
      ],
      "execution_count": 105,
      "outputs": []
    },
    {
      "cell_type": "code",
      "metadata": {
        "id": "r1AcLlvG5-fH",
        "colab_type": "code",
        "colab": {
          "base_uri": "https://localhost:8080/",
          "height": 742
        },
        "outputId": "95abcda2-9d02-4649-b0ba-23d23d62531a"
      },
      "source": [
        "Selling_Kitchen = Selling[Selling['상품군']=='주방']\n",
        "print(Selling_Kitchen.info())\n",
        "Selling_Kitchen.head()"
      ],
      "execution_count": null,
      "outputs": [
        {
          "output_type": "stream",
          "text": [
            "<class 'pandas.core.frame.DataFrame'>\n",
            "Int64Index: 6604 entries, 20 to 38303\n",
            "Data columns (total 17 columns):\n",
            " #   Column   Non-Null Count  Dtype         \n",
            "---  ------   --------------  -----         \n",
            " 0   방송일시     6604 non-null   datetime64[ns]\n",
            " 1   노출(분)    6604 non-null   float64       \n",
            " 2   마더코드     6604 non-null   int64         \n",
            " 3   상품코드     6604 non-null   int64         \n",
            " 4   상품명      6604 non-null   object        \n",
            " 5   상품군      6604 non-null   object        \n",
            " 6   판매단가     6604 non-null   int64         \n",
            " 7   취급액      6571 non-null   float64       \n",
            " 8   방송일시_년도  6604 non-null   int64         \n",
            " 9   방송일시_월   6604 non-null   int64         \n",
            " 10  방송일시_일   6604 non-null   int64         \n",
            " 11  방송일시_시   6604 non-null   int64         \n",
            " 12  방송일시_분   6604 non-null   int64         \n",
            " 13  방송일시_초   6604 non-null   int64         \n",
            " 14  방송일시_요일  6604 non-null   int64         \n",
            " 15  주문량      6571 non-null   float64       \n",
            " 16  계절       6604 non-null   object        \n",
            "dtypes: datetime64[ns](1), float64(3), int64(10), object(3)\n",
            "memory usage: 928.7+ KB\n",
            "None\n"
          ],
          "name": "stdout"
        },
        {
          "output_type": "execute_result",
          "data": {
            "text/html": [
              "<div>\n",
              "<style scoped>\n",
              "    .dataframe tbody tr th:only-of-type {\n",
              "        vertical-align: middle;\n",
              "    }\n",
              "\n",
              "    .dataframe tbody tr th {\n",
              "        vertical-align: top;\n",
              "    }\n",
              "\n",
              "    .dataframe thead th {\n",
              "        text-align: right;\n",
              "    }\n",
              "</style>\n",
              "<table border=\"1\" class=\"dataframe\">\n",
              "  <thead>\n",
              "    <tr style=\"text-align: right;\">\n",
              "      <th></th>\n",
              "      <th>방송일시</th>\n",
              "      <th>노출(분)</th>\n",
              "      <th>마더코드</th>\n",
              "      <th>상품코드</th>\n",
              "      <th>상품명</th>\n",
              "      <th>상품군</th>\n",
              "      <th>판매단가</th>\n",
              "      <th>취급액</th>\n",
              "      <th>방송일시_년도</th>\n",
              "      <th>방송일시_월</th>\n",
              "      <th>방송일시_일</th>\n",
              "      <th>방송일시_시</th>\n",
              "      <th>방송일시_분</th>\n",
              "      <th>방송일시_초</th>\n",
              "      <th>방송일시_요일</th>\n",
              "      <th>주문량</th>\n",
              "      <th>계절</th>\n",
              "    </tr>\n",
              "  </thead>\n",
              "  <tbody>\n",
              "    <tr>\n",
              "      <th>20</th>\n",
              "      <td>2019-01-01 12:00:00</td>\n",
              "      <td>20.0</td>\n",
              "      <td>100088</td>\n",
              "      <td>200236</td>\n",
              "      <td>에코라믹 통주물 스톤 냄비세트</td>\n",
              "      <td>주방</td>\n",
              "      <td>60900</td>\n",
              "      <td>33823000.0</td>\n",
              "      <td>2019</td>\n",
              "      <td>1</td>\n",
              "      <td>1</td>\n",
              "      <td>12</td>\n",
              "      <td>0</td>\n",
              "      <td>0</td>\n",
              "      <td>1</td>\n",
              "      <td>555.385878</td>\n",
              "      <td>4</td>\n",
              "    </tr>\n",
              "    <tr>\n",
              "      <th>21</th>\n",
              "      <td>2019-01-01 12:20:00</td>\n",
              "      <td>20.0</td>\n",
              "      <td>100088</td>\n",
              "      <td>200236</td>\n",
              "      <td>에코라믹 통주물 스톤 냄비세트</td>\n",
              "      <td>주방</td>\n",
              "      <td>60900</td>\n",
              "      <td>59083000.0</td>\n",
              "      <td>2019</td>\n",
              "      <td>1</td>\n",
              "      <td>1</td>\n",
              "      <td>12</td>\n",
              "      <td>20</td>\n",
              "      <td>0</td>\n",
              "      <td>1</td>\n",
              "      <td>970.164204</td>\n",
              "      <td>4</td>\n",
              "    </tr>\n",
              "    <tr>\n",
              "      <th>22</th>\n",
              "      <td>2019-01-01 12:40:00</td>\n",
              "      <td>20.0</td>\n",
              "      <td>100088</td>\n",
              "      <td>200236</td>\n",
              "      <td>에코라믹 통주물 스톤 냄비세트</td>\n",
              "      <td>주방</td>\n",
              "      <td>60900</td>\n",
              "      <td>99235000.0</td>\n",
              "      <td>2019</td>\n",
              "      <td>1</td>\n",
              "      <td>1</td>\n",
              "      <td>12</td>\n",
              "      <td>40</td>\n",
              "      <td>0</td>\n",
              "      <td>1</td>\n",
              "      <td>1629.474548</td>\n",
              "      <td>4</td>\n",
              "    </tr>\n",
              "    <tr>\n",
              "      <th>79</th>\n",
              "      <td>2019-01-02 10:00:00</td>\n",
              "      <td>20.0</td>\n",
              "      <td>100448</td>\n",
              "      <td>202098</td>\n",
              "      <td>일시불 쿠첸 풀스텐 압력밥솥 10인용 (A1)</td>\n",
              "      <td>주방</td>\n",
              "      <td>158000</td>\n",
              "      <td>7239000.0</td>\n",
              "      <td>2019</td>\n",
              "      <td>1</td>\n",
              "      <td>2</td>\n",
              "      <td>10</td>\n",
              "      <td>0</td>\n",
              "      <td>0</td>\n",
              "      <td>2</td>\n",
              "      <td>45.816456</td>\n",
              "      <td>4</td>\n",
              "    </tr>\n",
              "    <tr>\n",
              "      <th>80</th>\n",
              "      <td>2019-01-02 10:00:00</td>\n",
              "      <td>20.0</td>\n",
              "      <td>100448</td>\n",
              "      <td>202093</td>\n",
              "      <td>무이자 쿠첸 풀스텐 압력밥솥 10인용(A1)</td>\n",
              "      <td>주방</td>\n",
              "      <td>168000</td>\n",
              "      <td>8951000.0</td>\n",
              "      <td>2019</td>\n",
              "      <td>1</td>\n",
              "      <td>2</td>\n",
              "      <td>10</td>\n",
              "      <td>0</td>\n",
              "      <td>0</td>\n",
              "      <td>2</td>\n",
              "      <td>53.279762</td>\n",
              "      <td>4</td>\n",
              "    </tr>\n",
              "  </tbody>\n",
              "</table>\n",
              "</div>"
            ],
            "text/plain": [
              "                  방송일시  노출(분)    마더코드    상품코드  ... 방송일시_초 방송일시_요일          주문량  계절\n",
              "20 2019-01-01 12:00:00   20.0  100088  200236  ...      0       1   555.385878   4\n",
              "21 2019-01-01 12:20:00   20.0  100088  200236  ...      0       1   970.164204   4\n",
              "22 2019-01-01 12:40:00   20.0  100088  200236  ...      0       1  1629.474548   4\n",
              "79 2019-01-02 10:00:00   20.0  100448  202098  ...      0       2    45.816456   4\n",
              "80 2019-01-02 10:00:00   20.0  100448  202093  ...      0       2    53.279762   4\n",
              "\n",
              "[5 rows x 17 columns]"
            ]
          },
          "metadata": {
            "tags": []
          },
          "execution_count": 40
        }
      ]
    },
    {
      "cell_type": "code",
      "metadata": {
        "id": "KFlntfDE3GXk",
        "colab_type": "code",
        "colab": {
          "base_uri": "https://localhost:8080/",
          "height": 622
        },
        "outputId": "0b6121e3-e253-476c-c86e-470a0b0c7c24"
      },
      "source": [
        "%matplotlib inline\n",
        "plt.rcParams['figure.figsize'] = (20,10)\n",
        "# 잘못된 그림 예시\n",
        "plt.plot(grouped_day_item.xs('주방')[0]) # 20200101의 날짜값때문에 오른쪽끝으로 쏠리는 현상이 발생!"
      ],
      "execution_count": null,
      "outputs": [
        {
          "output_type": "execute_result",
          "data": {
            "text/plain": [
              "[<matplotlib.lines.Line2D at 0x7fb8dfb69c18>]"
            ]
          },
          "metadata": {
            "tags": []
          },
          "execution_count": 76
        },
        {
          "output_type": "display_data",
          "data": {
            "image/png": "[encoded data removed]",
            "text/plain": [
              "<Figure size 1440x720 with 1 Axes>"
            ]
          },
          "metadata": {
            "tags": [],
            "needs_background": "light"
          }
        }
      ]
    },
    {
      "cell_type": "code",
      "metadata": {
        "id": "NivB4ht83GUN",
        "colab_type": "code",
        "colab": {}
      },
      "source": [
        "kitchen_date = grouped_day_item.xs('주방').index"
      ],
      "execution_count": null,
      "outputs": []
    },
    {
      "cell_type": "code",
      "metadata": {
        "id": "alF5pF8-zhSU",
        "colab_type": "code",
        "colab": {
          "base_uri": "https://localhost:8080/",
          "height": 372
        },
        "outputId": "579e2e78-ec05-4f3b-db8f-5b71704e326c"
      },
      "source": [
        "for i in range(len(kitchen_date)-1):\n",
        "  if kitchen_date[i+1] - kitchen_date[i]>1:\n",
        "    print(kitchen_date[i+1]) # 20191201 과 20200101사이의 숫자간 거리가 멀어서 그래프 플롯이 이상하다."
      ],
      "execution_count": null,
      "outputs": [
        {
          "output_type": "stream",
          "text": [
            "20190201\n",
            "20190301\n",
            "20190325\n",
            "20190401\n",
            "20190501\n",
            "20190520\n",
            "20190527\n",
            "20190601\n",
            "20190701\n",
            "20190801\n",
            "20190816\n",
            "20190901\n",
            "20190912\n",
            "20191001\n",
            "20191006\n",
            "20191012\n",
            "20191021\n",
            "20191101\n",
            "20191201\n",
            "20200101\n"
          ],
          "name": "stdout"
        }
      ]
    },
    {
      "cell_type": "code",
      "metadata": {
        "id": "EQ8nk0cw3l_q",
        "colab_type": "code",
        "colab": {
          "base_uri": "https://localhost:8080/",
          "height": 283
        },
        "outputId": "b457ec3a-9213-4907-b9a3-b6d9508b56e7"
      },
      "source": [
        "kitchen_sell_bydate = grouped_day_item.xs('주방')\n",
        "print(kitchen_sell_bydate)"
      ],
      "execution_count": null,
      "outputs": [
        {
          "output_type": "stream",
          "text": [
            "                    0\n",
            "DATE                 \n",
            "20190101  1051.674877\n",
            "20190102    78.591523\n",
            "20190103    94.933461\n",
            "20190104    74.369238\n",
            "20190105   217.122354\n",
            "...               ...\n",
            "20191228   254.800190\n",
            "20191229   274.747155\n",
            "20191230   363.341094\n",
            "20191231   118.530814\n",
            "20200101   330.819018\n",
            "\n",
            "[358 rows x 1 columns]\n"
          ],
          "name": "stdout"
        }
      ]
    },
    {
      "cell_type": "code",
      "metadata": {
        "id": "eEHOfOCv3mEE",
        "colab_type": "code",
        "colab": {}
      },
      "source": [
        "kitchen_sell_bydate = kitchen_sell_bydate.rename(index={20200101:20191232}) #20201231 -> 20201232로 바꿔서 그래프를 다시 그리겠다."
      ],
      "execution_count": null,
      "outputs": []
    },
    {
      "cell_type": "code",
      "metadata": {
        "id": "aS_bdjRM4-Nt",
        "colab_type": "code",
        "colab": {
          "base_uri": "https://localhost:8080/",
          "height": 436
        },
        "outputId": "d3b399ef-c08e-4cec-b587-d086de63c25a"
      },
      "source": [
        "kitchen_sell_bydate"
      ],
      "execution_count": null,
      "outputs": [
        {
          "output_type": "execute_result",
          "data": {
            "text/html": [
              "<div>\n",
              "<style scoped>\n",
              "    .dataframe tbody tr th:only-of-type {\n",
              "        vertical-align: middle;\n",
              "    }\n",
              "\n",
              "    .dataframe tbody tr th {\n",
              "        vertical-align: top;\n",
              "    }\n",
              "\n",
              "    .dataframe thead th {\n",
              "        text-align: right;\n",
              "    }\n",
              "</style>\n",
              "<table border=\"1\" class=\"dataframe\">\n",
              "  <thead>\n",
              "    <tr style=\"text-align: right;\">\n",
              "      <th></th>\n",
              "      <th>0</th>\n",
              "    </tr>\n",
              "    <tr>\n",
              "      <th>DATE</th>\n",
              "      <th></th>\n",
              "    </tr>\n",
              "  </thead>\n",
              "  <tbody>\n",
              "    <tr>\n",
              "      <th>20190101</th>\n",
              "      <td>1051.674877</td>\n",
              "    </tr>\n",
              "    <tr>\n",
              "      <th>20190102</th>\n",
              "      <td>78.591523</td>\n",
              "    </tr>\n",
              "    <tr>\n",
              "      <th>20190103</th>\n",
              "      <td>94.933461</td>\n",
              "    </tr>\n",
              "    <tr>\n",
              "      <th>20190104</th>\n",
              "      <td>74.369238</td>\n",
              "    </tr>\n",
              "    <tr>\n",
              "      <th>20190105</th>\n",
              "      <td>217.122354</td>\n",
              "    </tr>\n",
              "    <tr>\n",
              "      <th>...</th>\n",
              "      <td>...</td>\n",
              "    </tr>\n",
              "    <tr>\n",
              "      <th>20191228</th>\n",
              "      <td>254.800190</td>\n",
              "    </tr>\n",
              "    <tr>\n",
              "      <th>20191229</th>\n",
              "      <td>274.747155</td>\n",
              "    </tr>\n",
              "    <tr>\n",
              "      <th>20191230</th>\n",
              "      <td>363.341094</td>\n",
              "    </tr>\n",
              "    <tr>\n",
              "      <th>20191231</th>\n",
              "      <td>118.530814</td>\n",
              "    </tr>\n",
              "    <tr>\n",
              "      <th>20191232</th>\n",
              "      <td>330.819018</td>\n",
              "    </tr>\n",
              "  </tbody>\n",
              "</table>\n",
              "<p>358 rows × 1 columns</p>\n",
              "</div>"
            ],
            "text/plain": [
              "                    0\n",
              "DATE                 \n",
              "20190101  1051.674877\n",
              "20190102    78.591523\n",
              "20190103    94.933461\n",
              "20190104    74.369238\n",
              "20190105   217.122354\n",
              "...               ...\n",
              "20191228   254.800190\n",
              "20191229   274.747155\n",
              "20191230   363.341094\n",
              "20191231   118.530814\n",
              "20191232   330.819018\n",
              "\n",
              "[358 rows x 1 columns]"
            ]
          },
          "metadata": {
            "tags": []
          },
          "execution_count": 46
        }
      ]
    },
    {
      "cell_type": "code",
      "metadata": {
        "id": "WQGZXN6i4ogN",
        "colab_type": "code",
        "colab": {
          "base_uri": "https://localhost:8080/",
          "height": 622
        },
        "outputId": "f8b1c6cd-0dc8-4c06-86bb-32e15944f224"
      },
      "source": [
        "%matplotlib inline\n",
        "plt.rcParams['figure.figsize'] = (20,10)\n",
        "\n",
        "plt.plot(kitchen_sell_bydate)\n",
        "# ※plt.bar(kitchen_sell_bydate.index, kitchen_sell_bydate[0])으로 확인(막대그래프)시 중간중간 선값이 없음. 즉, 이 그림에서 중간연결선은 허구(없는데이터)"
      ],
      "execution_count": null,
      "outputs": [
        {
          "output_type": "execute_result",
          "data": {
            "text/plain": [
              "[<matplotlib.lines.Line2D at 0x7fb8df8a4588>]"
            ]
          },
          "metadata": {
            "tags": []
          },
          "execution_count": 82
        },
        {
          "output_type": "display_data",
          "data": {
            "image/png": "[encoded data removed]",
            "text/plain": [
              "<Figure size 1440x720 with 1 Axes>"
            ]
          },
          "metadata": {
            "tags": [],
            "needs_background": "light"
          }
        }
      ]
    },
    {
      "cell_type": "code",
      "metadata": {
        "id": "8ke7YowT6Y4x",
        "colab_type": "code",
        "colab": {}
      },
      "source": [
        "bigsell = kitchen_sell_bydate[0][kitchen_sell_bydate[0]>600]\n",
        "smallsell = kitchen_sell_bydate[0][kitchen_sell_bydate[0]<=600]  #각각에 대해 plot을 그려 봤다.(큰차인 없음. small의 경우)"
      ],
      "execution_count": null,
      "outputs": []
    },
    {
      "cell_type": "code",
      "metadata": {
        "id": "tnuBTK1gc6dB",
        "colab_type": "code",
        "colab": {}
      },
      "source": [
        ""
      ],
      "execution_count": null,
      "outputs": []
    },
    {
      "cell_type": "markdown",
      "metadata": {
        "id": "PMEl5Dbu79n5",
        "colab_type": "text"
      },
      "source": [
        "# 2.의류"
      ]
    },
    {
      "cell_type": "code",
      "metadata": {
        "id": "S2TWDuOfp0AN",
        "colab_type": "code",
        "colab": {
          "base_uri": "https://localhost:8080/",
          "height": 295
        },
        "outputId": "dace7d8a-3036-46fa-b77a-11baf18cee33"
      },
      "source": [
        "plt.plot(grouped_day_item.xs('의류')[0]) # 근데이거 주문량이 아니라 주문량*단가해서 Naver랩자료랑 비교해야할듯 (카드소비는 주문량이아닌, 실적이랑 가까운 의미니까)"
      ],
      "execution_count": null,
      "outputs": [
        {
          "output_type": "execute_result",
          "data": {
            "text/plain": [
              "[<matplotlib.lines.Line2D at 0x7f327bb69cc0>]"
            ]
          },
          "metadata": {
            "tags": []
          },
          "execution_count": 47
        },
        {
          "output_type": "stream",
          "text": [
            "findfont: Font family ['NanumGothic'] not found. Falling back to DejaVu Sans.\n"
          ],
          "name": "stderr"
        },
        {
          "output_type": "display_data",
          "data": {
            "image/png": "[encoded data removed]",
            "text/plain": [
              "<Figure size 432x288 with 1 Axes>"
            ]
          },
          "metadata": {
            "tags": [],
            "needs_background": "light"
          }
        }
      ]
    },
    {
      "cell_type": "markdown",
      "metadata": {
        "id": "Q7465gO4_uIg",
        "colab_type": "text"
      },
      "source": [
        "# Naver쇼핑랩 vs NS쇼핑 실적비교 => 관련없음"
      ]
    },
    {
      "cell_type": "code",
      "metadata": {
        "id": "hLmYd-Wip9gM",
        "colab_type": "code",
        "colab": {
          "base_uri": "https://localhost:8080/",
          "height": 52
        },
        "outputId": "7bd3555d-3dac-45bf-ce85-de973a6732c2"
      },
      "source": [
        "X2 = grouped_day_item.xs('의류').values\n",
        "print(len(X2))\n",
        "len(naver)"
      ],
      "execution_count": null,
      "outputs": [
        {
          "output_type": "stream",
          "text": [
            "355\n"
          ],
          "name": "stdout"
        },
        {
          "output_type": "execute_result",
          "data": {
            "text/plain": [
              "365"
            ]
          },
          "metadata": {
            "tags": []
          },
          "execution_count": 345
        }
      ]
    },
    {
      "cell_type": "code",
      "metadata": {
        "id": "5ciMUs-AqLt4",
        "colab_type": "code",
        "colab": {
          "base_uri": "https://localhost:8080/",
          "height": 123
        },
        "outputId": "cd68e5d7-23c6-44b5-cb7a-d3c646197e7f"
      },
      "source": [
        "grouped_day_item.xs('의류').index"
      ],
      "execution_count": null,
      "outputs": [
        {
          "output_type": "execute_result",
          "data": {
            "text/plain": [
              "Int64Index([20190101, 20190102, 20190103, 20190104, 20190105, 20190106,\n",
              "            20190107, 20190108, 20190109, 20190110,\n",
              "            ...\n",
              "            20191222, 20191223, 20191224, 20191225, 20191226, 20191227,\n",
              "            20191228, 20191229, 20191230, 20191231],\n",
              "           dtype='int64', name='DATE', length=355)"
            ]
          },
          "metadata": {
            "tags": []
          },
          "execution_count": 346
        }
      ]
    },
    {
      "cell_type": "code",
      "metadata": {
        "id": "wy9N-Zz4tWt0",
        "colab_type": "code",
        "colab": {}
      },
      "source": [
        "Missing=['2019-01-31','2019-02-23','2019-06-27','2019-09-03','2019-09-06',\n",
        "         '2019-09-09','2019-09-10','2019-10-21','2019-10-30','2019-11-15']"
      ],
      "execution_count": null,
      "outputs": []
    },
    {
      "cell_type": "code",
      "metadata": {
        "id": "hLlVC7ELtim6",
        "colab_type": "code",
        "colab": {}
      },
      "source": [
        "for i in grouped_day_item.xs('의류').index: #의류측 판매결측자료 찾기\n",
        "  print(i)"
      ],
      "execution_count": null,
      "outputs": []
    },
    {
      "cell_type": "code",
      "metadata": {
        "id": "aYpAfyGH9hZS",
        "colab_type": "code",
        "colab": {
          "base_uri": "https://localhost:8080/",
          "height": 436
        },
        "outputId": "03ef7a37-7c5c-4f62-8de4-165a97551dbc"
      },
      "source": [
        "naver"
      ],
      "execution_count": null,
      "outputs": [
        {
          "output_type": "execute_result",
          "data": {
            "text/html": [
              "<div>\n",
              "<style scoped>\n",
              "    .dataframe tbody tr th:only-of-type {\n",
              "        vertical-align: middle;\n",
              "    }\n",
              "\n",
              "    .dataframe tbody tr th {\n",
              "        vertical-align: top;\n",
              "    }\n",
              "\n",
              "    .dataframe thead th {\n",
              "        text-align: right;\n",
              "    }\n",
              "</style>\n",
              "<table border=\"1\" class=\"dataframe\">\n",
              "  <thead>\n",
              "    <tr style=\"text-align: right;\">\n",
              "      <th></th>\n",
              "      <th>sellratio</th>\n",
              "    </tr>\n",
              "    <tr>\n",
              "      <th>date</th>\n",
              "      <th></th>\n",
              "    </tr>\n",
              "  </thead>\n",
              "  <tbody>\n",
              "    <tr>\n",
              "      <th>2019-01-01</th>\n",
              "      <td>60</td>\n",
              "    </tr>\n",
              "    <tr>\n",
              "      <th>2019-01-02</th>\n",
              "      <td>58</td>\n",
              "    </tr>\n",
              "    <tr>\n",
              "      <th>2019-01-03</th>\n",
              "      <td>55</td>\n",
              "    </tr>\n",
              "    <tr>\n",
              "      <th>2019-01-04</th>\n",
              "      <td>51</td>\n",
              "    </tr>\n",
              "    <tr>\n",
              "      <th>2019-01-05</th>\n",
              "      <td>57</td>\n",
              "    </tr>\n",
              "    <tr>\n",
              "      <th>...</th>\n",
              "      <td>...</td>\n",
              "    </tr>\n",
              "    <tr>\n",
              "      <th>2019-12-27</th>\n",
              "      <td>47</td>\n",
              "    </tr>\n",
              "    <tr>\n",
              "      <th>2019-12-28</th>\n",
              "      <td>53</td>\n",
              "    </tr>\n",
              "    <tr>\n",
              "      <th>2019-12-29</th>\n",
              "      <td>61</td>\n",
              "    </tr>\n",
              "    <tr>\n",
              "      <th>2019-12-30</th>\n",
              "      <td>51</td>\n",
              "    </tr>\n",
              "    <tr>\n",
              "      <th>2019-12-31</th>\n",
              "      <td>43</td>\n",
              "    </tr>\n",
              "  </tbody>\n",
              "</table>\n",
              "<p>355 rows × 1 columns</p>\n",
              "</div>"
            ],
            "text/plain": [
              "            sellratio\n",
              "date                 \n",
              "2019-01-01         60\n",
              "2019-01-02         58\n",
              "2019-01-03         55\n",
              "2019-01-04         51\n",
              "2019-01-05         57\n",
              "...               ...\n",
              "2019-12-27         47\n",
              "2019-12-28         53\n",
              "2019-12-29         61\n",
              "2019-12-30         51\n",
              "2019-12-31         43\n",
              "\n",
              "[355 rows x 1 columns]"
            ]
          },
          "metadata": {
            "tags": []
          },
          "execution_count": 408
        }
      ]
    },
    {
      "cell_type": "code",
      "metadata": {
        "id": "cBAkiv_H3FK9",
        "colab_type": "code",
        "colab": {}
      },
      "source": [
        "s1 = naver['date']\n",
        "s2 = pd.Series(Missing)\n",
        "real_sell_date = np.setdiff1d(s1,s2) #naver카드사날짜중, Ns결측날짜만 제거해서 다시 저장"
      ],
      "execution_count": null,
      "outputs": []
    },
    {
      "cell_type": "code",
      "metadata": {
        "id": "vNevDknE4-fd",
        "colab_type": "code",
        "colab": {
          "base_uri": "https://localhost:8080/",
          "height": 34
        },
        "outputId": "50a02e7c-04be-4539-e1b0-944d21a6d370"
      },
      "source": [
        "len(real_sell_date)"
      ],
      "execution_count": null,
      "outputs": [
        {
          "output_type": "execute_result",
          "data": {
            "text/plain": [
              "355"
            ]
          },
          "metadata": {
            "tags": []
          },
          "execution_count": 350
        }
      ]
    },
    {
      "cell_type": "code",
      "metadata": {
        "id": "pcNLMO7U5FjK",
        "colab_type": "code",
        "colab": {
          "base_uri": "https://localhost:8080/",
          "height": 230
        },
        "outputId": "0dc92f65-2159-4979-eff5-c9063e3fc56d"
      },
      "source": [
        "naver['date'].isin(real_sell_date) # real_sell_date에 해당되는 날짜만 boolean으로 뽑아보겠음."
      ],
      "execution_count": null,
      "outputs": [
        {
          "output_type": "execute_result",
          "data": {
            "text/plain": [
              "0      True\n",
              "1      True\n",
              "2      True\n",
              "3      True\n",
              "4      True\n",
              "       ... \n",
              "360    True\n",
              "361    True\n",
              "362    True\n",
              "363    True\n",
              "364    True\n",
              "Name: date, Length: 365, dtype: bool"
            ]
          },
          "metadata": {
            "tags": []
          },
          "execution_count": 351
        }
      ]
    },
    {
      "cell_type": "code",
      "metadata": {
        "id": "DqAf4Mgy6FTV",
        "colab_type": "code",
        "colab": {}
      },
      "source": [
        "naver = naver[naver['date'].isin(real_sell_date)] #naver데이터 수정(의류쪽과 비교 위함)"
      ],
      "execution_count": null,
      "outputs": []
    },
    {
      "cell_type": "code",
      "metadata": {
        "id": "NdgQnB3C8xK0",
        "colab_type": "code",
        "colab": {
          "base_uri": "https://localhost:8080/",
          "height": 436
        },
        "outputId": "6ff95631-0158-4f75-92a8-c26ab9cb98e9"
      },
      "source": [
        "New_grouped_day_item = New_data.groupby(['상품군','DATE']).sum()\n",
        "New_grouped_day_item = pd.DataFrame(New_grouped_day_item.xs('의류')['취급액'])\n",
        "New_grouped_day_item"
      ],
      "execution_count": null,
      "outputs": [
        {
          "output_type": "execute_result",
          "data": {
            "text/html": [
              "<div>\n",
              "<style scoped>\n",
              "    .dataframe tbody tr th:only-of-type {\n",
              "        vertical-align: middle;\n",
              "    }\n",
              "\n",
              "    .dataframe tbody tr th {\n",
              "        vertical-align: top;\n",
              "    }\n",
              "\n",
              "    .dataframe thead th {\n",
              "        text-align: right;\n",
              "    }\n",
              "</style>\n",
              "<table border=\"1\" class=\"dataframe\">\n",
              "  <thead>\n",
              "    <tr style=\"text-align: right;\">\n",
              "      <th></th>\n",
              "      <th>취급액</th>\n",
              "    </tr>\n",
              "    <tr>\n",
              "      <th>DATE</th>\n",
              "      <th></th>\n",
              "    </tr>\n",
              "  </thead>\n",
              "  <tbody>\n",
              "    <tr>\n",
              "      <th>20190101</th>\n",
              "      <td>873559000.0</td>\n",
              "    </tr>\n",
              "    <tr>\n",
              "      <th>20190102</th>\n",
              "      <td>230358000.0</td>\n",
              "    </tr>\n",
              "    <tr>\n",
              "      <th>20190103</th>\n",
              "      <td>216831000.0</td>\n",
              "    </tr>\n",
              "    <tr>\n",
              "      <th>20190104</th>\n",
              "      <td>239274000.0</td>\n",
              "    </tr>\n",
              "    <tr>\n",
              "      <th>20190105</th>\n",
              "      <td>496405000.0</td>\n",
              "    </tr>\n",
              "    <tr>\n",
              "      <th>...</th>\n",
              "      <td>...</td>\n",
              "    </tr>\n",
              "    <tr>\n",
              "      <th>20191227</th>\n",
              "      <td>268513000.0</td>\n",
              "    </tr>\n",
              "    <tr>\n",
              "      <th>20191228</th>\n",
              "      <td>280987000.0</td>\n",
              "    </tr>\n",
              "    <tr>\n",
              "      <th>20191229</th>\n",
              "      <td>153446000.0</td>\n",
              "    </tr>\n",
              "    <tr>\n",
              "      <th>20191230</th>\n",
              "      <td>291634000.0</td>\n",
              "    </tr>\n",
              "    <tr>\n",
              "      <th>20191231</th>\n",
              "      <td>462429000.0</td>\n",
              "    </tr>\n",
              "  </tbody>\n",
              "</table>\n",
              "<p>355 rows × 1 columns</p>\n",
              "</div>"
            ],
            "text/plain": [
              "                  취급액\n",
              "DATE                 \n",
              "20190101  873559000.0\n",
              "20190102  230358000.0\n",
              "20190103  216831000.0\n",
              "20190104  239274000.0\n",
              "20190105  496405000.0\n",
              "...               ...\n",
              "20191227  268513000.0\n",
              "20191228  280987000.0\n",
              "20191229  153446000.0\n",
              "20191230  291634000.0\n",
              "20191231  462429000.0\n",
              "\n",
              "[355 rows x 1 columns]"
            ]
          },
          "metadata": {
            "tags": []
          },
          "execution_count": 403
        }
      ]
    },
    {
      "cell_type": "code",
      "metadata": {
        "id": "jzh-recG_4K4",
        "colab_type": "code",
        "colab": {}
      },
      "source": [
        "#아래의 과정을 위한 naver자료 전처리\n",
        "naver.index = naver['date']\n",
        "del naver['date']"
      ],
      "execution_count": null,
      "outputs": []
    },
    {
      "cell_type": "code",
      "metadata": {
        "id": "InHQgRHN7__w",
        "colab_type": "code",
        "colab": {}
      },
      "source": [
        "from sklearn.preprocessing import MinMaxScaler\n",
        "minmax_scaler = MinMaxScaler()\n",
        "compare_shop = minmax_scaler.fit_transform(New_grouped_day_item)\n",
        "compare_naver = minmax_scaler.fit_transform(naver)\n",
        "compare_naver,compare_shop "
      ],
      "execution_count": null,
      "outputs": []
    },
    {
      "cell_type": "code",
      "metadata": {
        "id": "R3-mNKYcuHg1",
        "colab_type": "code",
        "colab": {
          "base_uri": "https://localhost:8080/",
          "height": 507
        },
        "outputId": "d122bc0f-b078-4542-ac27-56bbedf240e2"
      },
      "source": [
        "plt.rcParams['figure.figsize'] = (20,15)\n",
        "plt.subplot(221);plt.hist(compare_naver, bins=10)\n",
        "plt.subplot(222);plt.hist(compare_shop,bins=10)"
      ],
      "execution_count": null,
      "outputs": [
        {
          "output_type": "execute_result",
          "data": {
            "text/plain": [
              "(array([40., 79., 76., 52., 41., 32., 16.,  6.,  6.,  7.]),\n",
              " array([0.03025554, 0.12722999, 0.22420443, 0.32117888, 0.41815332,\n",
              "        0.51512777, 0.61210222, 0.70907666, 0.80605111, 0.90302555,\n",
              "        1.        ]),\n",
              " <a list of 10 Patch objects>)"
            ]
          },
          "metadata": {
            "tags": []
          },
          "execution_count": 410
        },
        {
          "output_type": "display_data",
          "data": {
            "image/png": "[encoded data removed]",
            "text/plain": [
              "<Figure size 1440x1080 with 2 Axes>"
            ]
          },
          "metadata": {
            "tags": [],
            "needs_background": "light"
          }
        }
      ]
    },
    {
      "cell_type": "code",
      "metadata": {
        "id": "zp-IFMY48kED",
        "colab_type": "code",
        "colab": {}
      },
      "source": [
        "import seaborn as sns"
      ],
      "execution_count": null,
      "outputs": []
    },
    {
      "cell_type": "code",
      "metadata": {
        "id": "cmeoSOML6a49",
        "colab_type": "code",
        "colab": {
          "base_uri": "https://localhost:8080/",
          "height": 1000
        },
        "outputId": "2bd21f6f-6aa6-40ad-834d-adc7dde16c9d"
      },
      "source": [
        "plt.rcParams['figure.figsize'] = (20,15)\n",
        "plt.subplot2grid((2,2),(0,0)); plt.plot(compare_naver)\n",
        "plt.subplot2grid((2,2),(0,1)); plt.plot(compare_shop)\n",
        "plt.subplot2grid((2,2),(1,0)); plt.boxplot(compare_naver)\n",
        "plt.subplot2grid((2,2),(1,1)); plt.boxplot(compare_shop)"
      ],
      "execution_count": null,
      "outputs": [
        {
          "output_type": "execute_result",
          "data": {
            "text/plain": [
              "{'boxes': [<matplotlib.lines.Line2D at 0x7f32607b9c18>],\n",
              " 'caps': [<matplotlib.lines.Line2D at 0x7f32607c7668>,\n",
              "  <matplotlib.lines.Line2D at 0x7f32607c79e8>],\n",
              " 'fliers': [<matplotlib.lines.Line2D at 0x7f3260752128>],\n",
              " 'means': [],\n",
              " 'medians': [<matplotlib.lines.Line2D at 0x7f32607c7d68>],\n",
              " 'whiskers': [<matplotlib.lines.Line2D at 0x7f32607b9f28>,\n",
              "  <matplotlib.lines.Line2D at 0x7f32607c72e8>]}"
            ]
          },
          "metadata": {
            "tags": []
          },
          "execution_count": 411
        },
        {
          "output_type": "display_data",
          "data": {
            "image/png": "[encoded data removed]",
            "text/plain": [
              "<Figure size 1440x1080 with 4 Axes>"
            ]
          },
          "metadata": {
            "tags": [],
            "needs_background": "light"
          }
        }
      ]
    },
    {
      "cell_type": "code",
      "metadata": {
        "id": "6729ZgmPH5JD",
        "colab_type": "code",
        "colab": {}
      },
      "source": [
        "# 상관관계도 봐보자!!!\n",
        "from pandas import Series"
      ],
      "execution_count": null,
      "outputs": []
    },
    {
      "cell_type": "code",
      "metadata": {
        "id": "pGEQZ2s4e4Yp",
        "colab_type": "code",
        "colab": {}
      },
      "source": [
        "a = compare_naver.ravel()\n",
        "b = compare_shop.ravel()"
      ],
      "execution_count": null,
      "outputs": []
    },
    {
      "cell_type": "code",
      "metadata": {
        "id": "gbxUUVTvDL_8",
        "colab_type": "code",
        "colab": {
          "base_uri": "https://localhost:8080/",
          "height": 34
        },
        "outputId": "80faabd9-0139-4696-d17c-92fb844a70b9"
      },
      "source": [
        "stats.linregress(a,b)"
      ],
      "execution_count": null,
      "outputs": [
        {
          "output_type": "execute_result",
          "data": {
            "text/plain": [
              "LinregressResult(slope=0.08088828957480988, intercept=0.29879706278828855, rvalue=0.057325405510231076, pvalue=0.2814042874281631, stderr=0.074978439800097)"
            ]
          },
          "metadata": {
            "tags": []
          },
          "execution_count": 413
        }
      ]
    },
    {
      "cell_type": "code",
      "metadata": {
        "id": "_no_D8A_D074",
        "colab_type": "code",
        "colab": {}
      },
      "source": [
        "#corr = lambda compare: compare['a'].corr(compare['d'])"
      ],
      "execution_count": null,
      "outputs": []
    },
    {
      "cell_type": "markdown",
      "metadata": {
        "id": "vDZGfgIxOlOn",
        "colab_type": "text"
      },
      "source": [
        "#**Validation Set 찾기**"
      ]
    },
    {
      "cell_type": "markdown",
      "metadata": {
        "id": "V2g4pDZ50ngd",
        "colab_type": "text"
      },
      "source": [
        "Validation"
      ]
    },
    {
      "cell_type": "code",
      "metadata": {
        "id": "NjshIq0AzFMQ",
        "colab_type": "code",
        "colab": {}
      },
      "source": [
        "# 2019-6-15 ~ 2019-8-31\n",
        "Validation_set = New_data[(New_data['DATE']<=20190831)&(New_data['DATE']>=20190615)]"
      ],
      "execution_count": null,
      "outputs": []
    },
    {
      "cell_type": "markdown",
      "metadata": {
        "id": "XriQLXNl0pQz",
        "colab_type": "text"
      },
      "source": [
        "X vs y 분리 (상품군, 상품명 인코딩 해야함!!!)"
      ]
    },
    {
      "cell_type": "code",
      "metadata": {
        "id": "mAc8SDOE0m9R",
        "colab_type": "code",
        "colab": {}
      },
      "source": [
        "y_train = New_data['주문량']\n",
        "X_train = New_data.loc[:, New_data.columns != '주문량']\n",
        "y_test = data['주문량']\n",
        "X_test = data.loc[:, data.columns != '주문량']"
      ],
      "execution_count": null,
      "outputs": []
    },
    {
      "cell_type": "code",
      "metadata": {
        "id": "IOjaDu-Q2O9T",
        "colab_type": "code",
        "colab": {}
      },
      "source": [
        "from sklearn.ensemble import RandomForestRegressor\n",
        "from sklearn.model_selection import cross_val_score\n",
        "forest_reg = RandomForestRegressor(random_state=42) "
      ],
      "execution_count": null,
      "outputs": []
    },
    {
      "cell_type": "code",
      "metadata": {
        "id": "KKHeBPea0m_1",
        "colab_type": "code",
        "colab": {}
      },
      "source": [
        "from sklearn.model_selection import StratifiedKFold # 상품군별로 계층화해서 평가해볼까?(일단 Idea만)\n",
        "from sklearn.base import clone \n",
        "skfolds = StratifiedKFold(n_splits=3, random_state=42) #폴드3개, 난수고정해서 계층적 샘플링을 함.(클래스별 비율 유지위함)\n",
        "\n",
        "for train_index, test_index in skfolds.split(X_train, y_train):\n",
        "  clone_reg = clone(forest_reg) \n",
        "  X_train_folds = X_train[train_index]\n",
        "  y_train_folds = y_train[train_index]\n",
        "  X_test_fold = X_train[test_index]\n",
        "  y_test_fold = y_train[test_index]\n",
        "\n",
        "  clone_reg.fit(X_train_folds, y_train_folds)\n",
        "  y_pred = clone_reg.predict(X_test_fold)\n",
        "  correct_score = clone_reg.score(X_test_fold,y_test_fold)\n",
        "  print(coreect_score)"
      ],
      "execution_count": null,
      "outputs": []
    },
    {
      "cell_type": "code",
      "metadata": {
        "id": "3MNveo-u0m69",
        "colab_type": "code",
        "colab": {
          "base_uri": "https://localhost:8080/",
          "height": 34
        },
        "outputId": "6858a4b4-11d1-4a02-9363-bb1ca706ad6a"
      },
      "source": [
        "lin_reg.fit(housing_prepared, housing_labels)\n",
        "\n",
        "some_data = housing.iloc[:5] # 5개의 Data의 중간주택가격 예측해 보겠음.\n",
        "some_labels = housing_labels.iloc[:5]\n",
        "some_data_prepared = full_pipeline.transform(some_data) #train으로 fit해둔 파이프라인에, 5개 소수값 넣어서 무슨 예측값 나오는지 봄\n",
        "print(\"예측\", lin_reg.predict(some_data_prepared))\n",
        "print(\"레이블:\", list(some_labels))"
      ],
      "execution_count": null,
      "outputs": [
        {
          "output_type": "execute_result",
          "data": {
            "text/plain": [
              "pandas.core.series.Series"
            ]
          },
          "metadata": {
            "tags": []
          },
          "execution_count": 125
        }
      ]
    },
    {
      "cell_type": "code",
      "metadata": {
        "id": "GLHka3i8Op2n",
        "colab_type": "code",
        "colab": {}
      },
      "source": [
        "data = pd.read_excel('2020평가데이터.xlsx',header=1)"
      ],
      "execution_count": null,
      "outputs": []
    },
    {
      "cell_type": "code",
      "metadata": {
        "id": "VSQerLznPO8s",
        "colab_type": "code",
        "colab": {
          "base_uri": "https://localhost:8080/",
          "height": 176
        },
        "outputId": "59fd42eb-ba3a-431f-838a-5e4949b191a6"
      },
      "source": [
        "# 평가데이터 전처리\n",
        "from datetime import datetime,timedelta\n",
        "\n",
        "data = data[data['판매단가']!=0]\n",
        "\n",
        "Data_Time_NaN_Index = data[data['노출(분)'].isnull()].index # 노출(분)이 채워지지 않은놈들의 인덱스\n",
        "data_groupmax = data[\"노출(분)\"].groupby(data['방송일시']).max()\n",
        "for i in Data_Time_NaN_Index:\n",
        "  data['노출(분)'][i] = data_groupmax[data['방송일시'][i]]\n",
        "data[348:] # 성공적으로 결측치를 대체했다.\n",
        "\n",
        "#파생변수 생성1 - 주문량\n",
        "data['주문량']= data['취급액']/data['판매단가']\n",
        "data['주문량'].head()\n",
        "\n",
        "#파생변수 생성2 - 계절\n",
        "# 계절 열 생성\n",
        "data[\"계절\"] = \"\"\n",
        "data.head()\n",
        "\n",
        "#날짜데이터 분리\n",
        "data[\"방송일시_년도\"] = data[\"방송일시\"].dt.year\n",
        "data[\"방송일시_월\"] = data[\"방송일시\"].dt.month\n",
        "data[\"방송일시_일\"] = data[\"방송일시\"].dt.day\n",
        "data[\"방송일시_시\"] = data[\"방송일시\"].dt.hour\n",
        "data[\"방송일시_분\"] = data[\"방송일시\"].dt.minute\n",
        "data[\"방송일시_초\"] = data[\"방송일시\"].dt.second\n",
        "data[\"방송일시_요일\"] = data[\"방송일시\"].dt.dayofweek\n",
        "\n",
        "for i in data.index:\n",
        "  if 3 <= data['방송일시_월'][i] <= 5:\n",
        "    data['계절'][i] = 1\n",
        "  elif 6<= data['방송일시_월'][i] <= 8:\n",
        "    data['계절'][i] = 2\n",
        "  elif 9<= data['방송일시_월'][i] <= 11:\n",
        "    data['계절'][i] = 3\n",
        "  else:\n",
        "    data[\"계절\"][i] = 4 "
      ],
      "execution_count": null,
      "outputs": [
        {
          "output_type": "stream",
          "text": [
            "/usr/local/lib/python3.6/dist-packages/ipykernel_launcher.py:9: SettingWithCopyWarning: \n",
            "A value is trying to be set on a copy of a slice from a DataFrame\n",
            "\n",
            "See the caveats in the documentation: https://pandas.pydata.org/pandas-docs/stable/user_guide/indexing.html#returning-a-view-versus-a-copy\n",
            "  if __name__ == '__main__':\n",
            "/usr/local/lib/python3.6/dist-packages/ipykernel_launcher.py:34: SettingWithCopyWarning: \n",
            "A value is trying to be set on a copy of a slice from a DataFrame\n",
            "\n",
            "See the caveats in the documentation: https://pandas.pydata.org/pandas-docs/stable/user_guide/indexing.html#returning-a-view-versus-a-copy\n"
          ],
          "name": "stderr"
        }
      ]
    },
    {
      "cell_type": "code",
      "metadata": {
        "id": "wV1XeB4ky_IZ",
        "colab_type": "code",
        "colab": {}
      },
      "source": [
        ""
      ],
      "execution_count": null,
      "outputs": []
    },
    {
      "cell_type": "markdown",
      "metadata": {
        "id": "c6aq0Dj92TO2",
        "colab_type": "text"
      },
      "source": [
        "# 외부데이터 수입(강수량, 앱애니)\n"
      ]
    },
    {
      "cell_type": "code",
      "metadata": {
        "id": "ktMo_sQF7vvS",
        "colab_type": "code",
        "colab": {}
      },
      "source": [
        "gangleung = pd.read_excel('/content/drive/My Drive/빅콘폴더/날씨_실제/강릉날씨.xlsx')\n",
        "gwangju = pd.read_excel('/content/drive/My Drive/빅콘폴더/날씨_실제/광주날씨.xlsx')\n",
        "daegu = pd.read_excel('/content/drive/My Drive/빅콘폴더/날씨_실제/대구날씨.xlsx')\n",
        "daejeon = pd.read_excel('/content/drive/My Drive/빅콘폴더/날씨_실제/대전날씨.xlsx')\n",
        "busan = pd.read_excel('/content/drive/My Drive/빅콘폴더/날씨_실제/부산날씨.xlsx')\n",
        "seoul = pd.read_excel('/content/drive/My Drive/빅콘폴더/날씨_실제/서울날씨.xlsx')\n",
        "suwon = pd.read_excel('/content/drive/My Drive/빅콘폴더/날씨_실제/수원날씨.xlsx')\n",
        "ulsan = pd.read_excel('/content/drive/My Drive/빅콘폴더/날씨_실제/울산날씨.xlsx')\n",
        "paju = pd.read_excel('/content/drive/My Drive/빅콘폴더/날씨_실제/파주날씨.xlsx')"
      ],
      "execution_count": null,
      "outputs": []
    },
    {
      "cell_type": "markdown",
      "metadata": {
        "id": "a0xtIUFIY18Y",
        "colab_type": "text"
      },
      "source": [
        "# 마더코드 유사도 비교"
      ]
    },
    {
      "cell_type": "code",
      "metadata": {
        "id": "XWz7zPjVSg78",
        "colab_type": "code",
        "colab": {}
      },
      "source": [
        "Train_Mothercode = Selling['마더코드']\n",
        "Test_Mothercode = data['마더코드']"
      ],
      "execution_count": null,
      "outputs": []
    },
    {
      "cell_type": "code",
      "metadata": {
        "id": "7bpji7ZVcHQG",
        "colab_type": "code",
        "colab": {}
      },
      "source": [
        ""
      ],
      "execution_count": null,
      "outputs": []
    },
    {
      "cell_type": "code",
      "metadata": {
        "id": "DX7bNeqH7vs7",
        "colab_type": "code",
        "colab": {}
      },
      "source": [
        ""
      ],
      "execution_count": null,
      "outputs": []
    },
    {
      "cell_type": "code",
      "metadata": {
        "id": "syNQ4wsI7vqO",
        "colab_type": "code",
        "colab": {}
      },
      "source": [
        ""
      ],
      "execution_count": null,
      "outputs": []
    },
    {
      "cell_type": "markdown",
      "metadata": {
        "id": "BP_Qg_Seu86O",
        "colab_type": "text"
      },
      "source": [
        "# 여러 함수 정의(prepare, Mother코드유사도, 상품군 비율계산"
      ]
    },
    {
      "cell_type": "code",
      "metadata": {
        "id": "nxZTWU4yY6Wr",
        "colab_type": "code",
        "colab": {}
      },
      "source": [
        "def prepare_data(data, year, month): #데이터프레임, 원하는 년도,월을 넣어서 쪼갬\n",
        "    mask = (data['방송일시_년도'] == year) & (data['방송일시_월'] == month)\n",
        "    prepared = data.loc[mask,]\n",
        "    print(f'Dataframe {year}_{month}_ratio created.')\n",
        "    return prepared\n",
        "\n",
        "def prepare_data2(data,startdate,enddate): #데이터프레임\n",
        "    mask = (data['방송일시']>=startdate) & (data['방송일시']<=enddate)\n",
        "    prepared = data.loc[mask,]\n",
        "    #print('Dataframe created.')\n",
        "    return prepared\n",
        "\n",
        "def Mother_Similar(code1):\n",
        "  score = sum(Test_Mothercode.isin(code1))/len(Test_Mothercode)\n",
        "  print(score)\n",
        "\n",
        "def How_Ratio(some_data): #some_data= 비교를 원하는 기간의 데이터 프레임 #time=비교할 시점\n",
        "   return some_data['상품군'].value_counts().fillna(0)/len(some_data)"
      ],
      "execution_count": null,
      "outputs": []
    },
    {
      "cell_type": "code",
      "metadata": {
        "id": "1BlMB8YIbYoN",
        "colab_type": "code",
        "colab": {}
      },
      "source": [
        "Some_Data = prepare_data2(Selling,'2019-07-10','2019-09-10')\n",
        "Some_Mothercode = Some_Data['마더코드']\n",
        "Mother_Similar = sum(Test_Mothercode.isin(Some_Mothercode))/len(Test_Mothercode)\n",
        "print(Mother_Similar)"
      ],
      "execution_count": null,
      "outputs": []
    },
    {
      "cell_type": "code",
      "metadata": {
        "id": "y8uWFdzbd1Mx",
        "colab_type": "code",
        "colab": {}
      },
      "source": [
        "for i,j in (#7,8월에 대해\n",
        "            ['2019-07-10','2019-09-10'],['2019-06-20','2019-08-31'],\n",
        "            ['2019-07-20','2019-09-20'],['2019-06-10','2019-08-31'],\n",
        "            ['2019-07-01','2019-08-20'],['2019-07-10','2019-08-31'],\n",
        "            ['2019-07-01','2019-08-10'],['2019-07-20','2019-08-31'],\n",
        "            ['2019-06-20','2019-09-10'],['2019-06-10','2019-09-20'],\n",
        "            #6,7월에 대해\n",
        "            ['2019-06-10','2019-08-10'],['2019-05-20','2019-07-30'],\n",
        "            ['2019-06-20','2019-08-20'],['2019-05-10','2019-07-30'],\n",
        "            ['2019-06-01','2019-07-20'],['2019-06-10','2019-07-30'],\n",
        "            ['2019-06-01','2019-07-10'],['2019-06-20','2019-07-30'],\n",
        "            ['2019-05-20','2019-08-10'],['2019-05-10','2019-08-20']\n",
        "            #):\n",
        "            #1등날짜(06-20, 08-31) +-5\n",
        "            ['2019-06-20','2019-09-05'],['2019-06-20','2019-08-26'],\n",
        "            ['2019-06-15','2019-08-31'],['2019-06-05','2019-08-31'],\n",
        "            ['2019-06-15','2019-09-05'],['2019-06-10', '2019-09-05']\n",
        "            ):\n",
        "  Some_Data = prepare_data2(Selling,i,j)\n",
        "  print(i,j)\n",
        "  Mother_Similar(Some_Data['마더코드'])"
      ],
      "execution_count": null,
      "outputs": []
    },
    {
      "cell_type": "code",
      "metadata": {
        "id": "OKMl6k3tY6a2",
        "colab_type": "code",
        "colab": {}
      },
      "source": [
        "# 월별 마더코드 비교\n",
        "for i in range(12):\n",
        "  Selling_month = prepare_data(Selling,2019,i+1)\n",
        "  Some_Mothercode = Selling_month['마더코드']\n",
        "  print(i+1,\"_Mothercode\\t\")\n",
        "  Mother_Similar = sum(Test_Mothercode.isin(Some_Mothercode))/len(Test_Mothercode)\n",
        "  print(Mother_Similar)"
      ],
      "execution_count": null,
      "outputs": []
    },
    {
      "cell_type": "code",
      "metadata": {
        "id": "oOzVff8DYAAm",
        "colab_type": "code",
        "colab": {}
      },
      "source": [
        "Some_Mothercode = Selling_month_1['마더코드']"
      ],
      "execution_count": null,
      "outputs": []
    },
    {
      "cell_type": "code",
      "metadata": {
        "id": "egxI7PGgSjZr",
        "colab_type": "code",
        "colab": {}
      },
      "source": [
        "sum(Test_Mothercode.isin(Some_Mothercode))/len(Test_Mothercode)"
      ],
      "execution_count": null,
      "outputs": []
    },
    {
      "cell_type": "code",
      "metadata": {
        "id": "aA_YiLFW6JG7",
        "colab_type": "code",
        "colab": {}
      },
      "source": [
        "Selling['상품군'].value_counts()"
      ],
      "execution_count": null,
      "outputs": []
    },
    {
      "cell_type": "code",
      "metadata": {
        "id": "Be9f0kZuSE4P",
        "colab_type": "code",
        "colab": {}
      },
      "source": [
        "Selling.info()"
      ],
      "execution_count": null,
      "outputs": []
    },
    {
      "cell_type": "code",
      "metadata": {
        "id": "A0hw5gWZW-Am",
        "colab_type": "code",
        "colab": {}
      },
      "source": [
        "Selling_month_1 = Selling[Selling['방송일시_월']==1][Selling['방송일시_년도']==2019]"
      ],
      "execution_count": null,
      "outputs": []
    },
    {
      "cell_type": "code",
      "metadata": {
        "id": "1FjLF7k5ZaUf",
        "colab_type": "code",
        "colab": {}
      },
      "source": [
        "Selling['상품군'].value_counts()['주방']"
      ],
      "execution_count": null,
      "outputs": []
    },
    {
      "cell_type": "markdown",
      "metadata": {
        "id": "7O7PRwr6WZbd",
        "colab_type": "text"
      },
      "source": [
        "# 기간 범주평가"
      ]
    },
    {
      "cell_type": "code",
      "metadata": {
        "id": "OcZDMkA3i2ah",
        "colab_type": "code",
        "colab": {}
      },
      "source": [
        "test_ratio_data = pd.read_excel(\"compare_testset_dist.xlsx\")"
      ],
      "execution_count": null,
      "outputs": []
    },
    {
      "cell_type": "code",
      "metadata": {
        "id": "ZiJXnYdSFbAf",
        "colab_type": "code",
        "colab": {}
      },
      "source": [
        "Selling_month['상품군'].value_counts()/len(Selling_month)"
      ],
      "execution_count": null,
      "outputs": []
    },
    {
      "cell_type": "code",
      "metadata": {
        "id": "euDOtwDQGzXH",
        "colab_type": "code",
        "colab": {}
      },
      "source": [
        "array1= Selling_month_1['상품군'].value_counts()/len(Selling_month_1)"
      ],
      "execution_count": null,
      "outputs": []
    },
    {
      "cell_type": "code",
      "metadata": {
        "id": "liWQN2oHIbAA",
        "colab_type": "code",
        "colab": {}
      },
      "source": [
        "#array1['가구']=0\n",
        "#array1['침구']=0\n",
        "array1"
      ],
      "execution_count": null,
      "outputs": []
    },
    {
      "cell_type": "code",
      "metadata": {
        "id": "69kxL9tc1ztg",
        "colab_type": "code",
        "colab": {}
      },
      "source": [
        "print(test_ratio_data['카테고리'])\n",
        "Selling_month_1['상품군'].value_counts()/len(Selling_month_1)"
      ],
      "execution_count": null,
      "outputs": []
    },
    {
      "cell_type": "code",
      "metadata": {
        "id": "YGpVWT0SFBhj",
        "colab_type": "code",
        "colab": {}
      },
      "source": [
        "Selling_month_1['상품군'].value_counts()/len(Selling_month_1)"
      ],
      "execution_count": null,
      "outputs": []
    },
    {
      "cell_type": "code",
      "metadata": {
        "id": "kOcXyNe3KGh9",
        "colab_type": "code",
        "colab": {}
      },
      "source": [
        "print(test_ratio_data['비율'])\n",
        "array1"
      ],
      "execution_count": null,
      "outputs": []
    },
    {
      "cell_type": "code",
      "metadata": {
        "id": "5FnNSYe0KbKy",
        "colab_type": "code",
        "colab": {}
      },
      "source": [
        "test_ratio_data[test_ratio_data['카테고리']==i]['비율']-Selling_month['상품군'][Selling_month['상품군']==i].value_counts()/len(Selling_month)"
      ],
      "execution_count": null,
      "outputs": []
    },
    {
      "cell_type": "code",
      "metadata": {
        "id": "j1fh1d9r4pSX",
        "colab_type": "code",
        "colab": {}
      },
      "source": [
        "def How_Ratio(some_data): #some_data= 비교를 원하는 기간의 데이터 프레임 #time=비교할 시점\n",
        "   return some_data['상품군'].value_counts().fillna(0)/len(some_data)"
      ],
      "execution_count": null,
      "outputs": []
    },
    {
      "cell_type": "code",
      "metadata": {
        "id": "nVeTfpOeEAMi",
        "colab_type": "code",
        "colab": {}
      },
      "source": [
        "Selling_month_1['상품군'].value_counts().fillna(0)"
      ],
      "execution_count": null,
      "outputs": []
    },
    {
      "cell_type": "code",
      "metadata": {
        "id": "_GY-eVoi-LfO",
        "colab_type": "code",
        "colab": {}
      },
      "source": [
        "print(test_ratio_data['비율'])\n",
        "How_Ratio(Selling_month_1).fillna(0)"
      ],
      "execution_count": null,
      "outputs": []
    },
    {
      "cell_type": "code",
      "metadata": {
        "id": "1Fv79VIeMNov",
        "colab_type": "code",
        "colab": {}
      },
      "source": [
        "for i in test_ratio_data['카테고리']:\n",
        "  print(i)"
      ],
      "execution_count": null,
      "outputs": []
    },
    {
      "cell_type": "code",
      "metadata": {
        "id": "noz0FdsdcPxJ",
        "colab_type": "code",
        "colab": {}
      },
      "source": [
        "from sklearn.metrics import mean_absolute_error\n",
        "j=0\n",
        "total=0\n",
        "for i in test_ratio_data['카테고리']:\n",
        "  Selling_month = prepare_data(Selling,2019,j+1)\n",
        "  part=test_ratio_data[test_ratio_data['카테고리']==i]['비율']-Selling_month['상품군'][Selling_month['상품군']==i].value_counts()/len(Selling_month)\n",
        "  total += part\n",
        "  j=j+1"
      ],
      "execution_count": null,
      "outputs": []
    },
    {
      "cell_type": "code",
      "metadata": {
        "id": "yP9BhrBSSQEV",
        "colab_type": "code",
        "colab": {}
      },
      "source": [
        "array1"
      ],
      "execution_count": null,
      "outputs": []
    },
    {
      "cell_type": "code",
      "metadata": {
        "id": "lcTy0CcmWdDT",
        "colab_type": "code",
        "colab": {}
      },
      "source": [
        "#test_ratio_data[test_ratio_data['카테고리']=='가구']['비율']\n",
        "#Selling_month['상품군'][Selling_month['상품군']=='가구'].value_counts()"
      ],
      "execution_count": null,
      "outputs": []
    },
    {
      "cell_type": "code",
      "metadata": {
        "id": "hXpJOXgfS_SI",
        "colab_type": "code",
        "colab": {}
      },
      "source": [
        "import scipy.stats as sc\n",
        "def kld(n):\n",
        "  kld_ = np.zeros(n, n)\n",
        "  for i in range(0, n):\n",
        "    for j in range(0, n):\n",
        "      if(i != j):\n",
        "        kld_[i, j] = sc.entropy(distributions[i, :], distributions[j, :])"
      ],
      "execution_count": null,
      "outputs": []
    }
  ]
}