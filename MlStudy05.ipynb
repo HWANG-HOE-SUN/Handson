{
  "nbformat": 4,
  "nbformat_minor": 0,
  "metadata": {
    "colab": {
      "name": "MlStudy05.ipynb",
      "provenance": [],
      "collapsed_sections": [],
      "authorship_tag": "ABX9TyMEGnyqmzdRUxNOvMeovXtl",
      "include_colab_link": true
    },
    "kernelspec": {
      "name": "python3",
      "display_name": "Python 3"
    }
  },
  "cells": [
    {
      "cell_type": "markdown",
      "metadata": {
        "id": "view-in-github",
        "colab_type": "text"
      },
      "source": [
        "<a href=\"https://colab.research.google.com/github/HWANG-HOE-SUN/Handson/blob/master/MlStudy05.ipynb\" target=\"_parent\"><img src=\"https://colab.research.google.com/assets/colab-badge.svg\" alt=\"Open In Colab\"/></a>"
      ]
    },
    {
      "cell_type": "markdown",
      "metadata": {
        "id": "WHqo6Ipq4Ngv",
        "colab_type": "text"
      },
      "source": [
        "#ML Study 05 - Support Vector Machine(SVM)"
      ]
    },
    {
      "cell_type": "markdown",
      "metadata": {
        "id": "Y0Zcylb64VNa",
        "colab_type": "text"
      },
      "source": [
        "#5.1 소프트마진 분류\n",
        "- 하드마진? 모든 데이터가 도로 바깥쪽(결정경계선)에 분류 되어있는거(데이터 선형적이어야 제대로 작동. 이상치민감)\n",
        "\n",
        "- 소프트마진? 마진오류 적당히 허용(넘어가거나 중간에 있는거)해서 오류와 도로폭간 균형을 조절한다.\n",
        "\n",
        "<도로 즉, 경계범위 넓으면 오류커짐...이상치 대응잘하고 일반화하긴 좋겠지만>\n"
      ]
    },
    {
      "cell_type": "code",
      "metadata": {
        "id": "org6rY5a44IU",
        "colab_type": "code",
        "colab": {}
      },
      "source": [
        "# ※svm초모수중(하이퍼파라미터) c를통해 과대적합 조절(c줄어들수록 도로넓어짐.) 즉 규제에서 자유로워짐 커지면 규제 강해지고"
      ],
      "execution_count": null,
      "outputs": []
    },
    {
      "cell_type": "code",
      "metadata": {
        "id": "1BOibJMy4Ol1",
        "colab_type": "code",
        "colab": {}
      },
      "source": [
        "import numpy as np\n",
        "from sklearn import datasets\n",
        "from sklearn.pipeline import Pipeline\n",
        "from sklearn.preprocessing import StandardScaler\n",
        "from sklearn.svm import LinearSVC\n",
        "import matplotlib.pyplot as plt\n",
        "\n",
        "iris = datasets.load_iris()\n",
        "X = iris[\"data\"][:,(2,3)] #꽃잎길이, 꽃잎너비열에 대한 정보 저장(Feature Selection)\n",
        "y = (iris[\"target\"]==2).astype(np.float64) # Virginica인가? True,False를 소수로\n",
        "\n",
        "svm_clf = Pipeline([\n",
        "                    ('scaler', StandardScaler()),\n",
        "                    ('linear_svc',LinearSVC(C=1,loss='hinge'))\n",
        "])\n",
        "\n",
        "svm_clf.fit(X,y)"
      ],
      "execution_count": 14,
      "outputs": []
    },
    {
      "cell_type": "code",
      "metadata": {
        "id": "cpHE17F0HwkB",
        "colab_type": "code",
        "colab": {
          "base_uri": "https://localhost:8080/",
          "height": 34
        },
        "outputId": "5b67afa9-3bf8-4702-b489-158c1e9ec949"
      },
      "source": [
        "svm_clf.predict([[5.5,1.7]])"
      ],
      "execution_count": 5,
      "outputs": [
        {
          "output_type": "execute_result",
          "data": {
            "text/plain": [
              "array([1.])"
            ]
          },
          "metadata": {
            "tags": []
          },
          "execution_count": 5
        }
      ]
    },
    {
      "cell_type": "markdown",
      "metadata": {
        "id": "d9j_Yq9w-H7n",
        "colab_type": "text"
      },
      "source": [
        "#5.2 비선형 SVM"
      ]
    },
    {
      "cell_type": "code",
      "metadata": {
        "id": "VC-xBsua-IwT",
        "colab_type": "code",
        "colab": {
          "base_uri": "https://localhost:8080/",
          "height": 247
        },
        "outputId": "de73aede-ce7f-4b55-dd55-136ee4c73d36"
      },
      "source": [
        "from sklearn.datasets import make_moons\n",
        "from sklearn.pipeline import Pipeline\n",
        "from sklearn.preprocessing import PolynomialFeatures\n",
        "\n",
        "X,y = make_moons(n_samples=100, noise=0.15)\n",
        "polynomial_svm_clf = Pipeline([\n",
        "                               (\"poly_features\",PolynomialFeatures(degree=3)),\n",
        "                               (\"scaler\",StandardScaler()),\n",
        "                               (\"svm_clf\",LinearSVC(C=10,loss=\"hinge\"))\n",
        "])\n",
        "\n",
        "polynomial_svm_clf.fit(X,y)"
      ],
      "execution_count": 12,
      "outputs": [
        {
          "output_type": "execute_result",
          "data": {
            "text/plain": [
              "Pipeline(memory=None,\n",
              "         steps=[('poly_features',\n",
              "                 PolynomialFeatures(degree=3, include_bias=True,\n",
              "                                    interaction_only=False, order='C')),\n",
              "                ('scaler',\n",
              "                 StandardScaler(copy=True, with_mean=True, with_std=True)),\n",
              "                ('svm_clf',\n",
              "                 LinearSVC(C=10, class_weight=None, dual=True,\n",
              "                           fit_intercept=True, intercept_scaling=1,\n",
              "                           loss='hinge', max_iter=1000, multi_class='ovr',\n",
              "                           penalty='l2', random_state=None, tol=0.0001,\n",
              "                           verbose=0))],\n",
              "         verbose=False)"
            ]
          },
          "metadata": {
            "tags": []
          },
          "execution_count": 12
        }
      ]
    },
    {
      "cell_type": "code",
      "metadata": {
        "id": "TkQFr5Xc-hxi",
        "colab_type": "code",
        "colab": {
          "base_uri": "https://localhost:8080/",
          "height": 292
        },
        "outputId": "48a321f4-903a-47a0-b5c5-71f52abb4a5b"
      },
      "source": [
        "def plot_dataset(X, y, axes):\n",
        "    plt.plot(X[:, 0][y==0], X[:, 1][y==0], \"bs\")\n",
        "    plt.plot(X[:, 0][y==1], X[:, 1][y==1], \"g^\")\n",
        "    plt.axis(axes)\n",
        "    plt.grid(True, which='both')\n",
        "    plt.xlabel(r\"$x_1$\", fontsize=20)\n",
        "    plt.ylabel(r\"$x_2$\", fontsize=20, rotation=0)\n",
        "\n",
        "plot_dataset(X, y, [-1.5, 2.5, -1, 1.5])\n",
        "plt.show()"
      ],
      "execution_count": 15,
      "outputs": [
        {
          "output_type": "display_data",
          "data": {
            "image/png": "[encoded data removed]",
            "text/plain": [
              "<Figure size 432x288 with 1 Axes>"
            ]
          },
          "metadata": {
            "tags": [],
            "needs_background": "light"
          }
        }
      ]
    },
    {
      "cell_type": "code",
      "metadata": {
        "id": "w3Ooq3il4Myp",
        "colab_type": "code",
        "colab": {
          "base_uri": "https://localhost:8080/",
          "height": 292
        },
        "outputId": "59fcf682-7475-461a-f87f-ae08a8875c08"
      },
      "source": [
        "def plot_predictions(clf, axes):\n",
        "    x0s = np.linspace(axes[0], axes[1], 100)\n",
        "    x1s = np.linspace(axes[2], axes[3], 100)\n",
        "    x0, x1 = np.meshgrid(x0s, x1s)\n",
        "    X = np.c_[x0.ravel(), x1.ravel()]\n",
        "    y_pred = clf.predict(X).reshape(x0.shape)\n",
        "    y_decision = clf.decision_function(X).reshape(x0.shape)\n",
        "    plt.contourf(x0, x1, y_pred, cmap=plt.cm.brg, alpha=0.2)\n",
        "    plt.contourf(x0, x1, y_decision, cmap=plt.cm.brg, alpha=0.1)\n",
        "\n",
        "plot_predictions(polynomial_svm_clf, [-1.5, 2.5, -1, 1.5])\n",
        "plot_dataset(X, y, [-1.5, 2.5, -1, 1.5])\n",
        "\n",
        "plt.savefig(\"moons_polynomial_svc_plot\")\n",
        "plt.show()"
      ],
      "execution_count": 16,
      "outputs": [
        {
          "output_type": "display_data",
          "data": {
            "image/png": "[encoded data removed]",
            "text/plain": [
              "<Figure size 432x288 with 1 Axes>"
            ]
          },
          "metadata": {
            "tags": [],
            "needs_background": "light"
          }
        }
      ]
    },
    {
      "cell_type": "markdown",
      "metadata": {
        "id": "5YjPVwqw_XLt",
        "colab_type": "text"
      },
      "source": [
        "5.2.1 다항식 커널"
      ]
    },
    {
      "cell_type": "code",
      "metadata": {
        "id": "DvhR-NsX_IVN",
        "colab_type": "code",
        "colab": {
          "base_uri": "https://localhost:8080/",
          "height": 194
        },
        "outputId": "100272c3-0fc0-4a3e-95fe-14b9a841f35a"
      },
      "source": [
        "#커널트릭 ( 실제로 특성추가 안했는데 다항식특성 추가한 효과를 내는 수학적기교!)\n",
        "from sklearn.svm import SVC\n",
        "poly_kernel_svm_clf = Pipeline([\n",
        "            (\"scaler\",StandardScaler()),\n",
        "            (\"svm_clf\",SVC(kernel=\"poly\",degree=3,coef0=1,C=5)) #3차다항식, \n",
        "]) \n",
        "poly_kernel_svm_clf.fit(X,y)"
      ],
      "execution_count": 17,
      "outputs": [
        {
          "output_type": "execute_result",
          "data": {
            "text/plain": [
              "Pipeline(memory=None,\n",
              "         steps=[('scaler',\n",
              "                 StandardScaler(copy=True, with_mean=True, with_std=True)),\n",
              "                ('svm_clf',\n",
              "                 SVC(C=5, break_ties=False, cache_size=200, class_weight=None,\n",
              "                     coef0=1, decision_function_shape='ovr', degree=3,\n",
              "                     gamma='scale', kernel='poly', max_iter=-1,\n",
              "                     probability=False, random_state=None, shrinking=True,\n",
              "                     tol=0.001, verbose=False))],\n",
              "         verbose=False)"
            ]
          },
          "metadata": {
            "tags": []
          },
          "execution_count": 17
        }
      ]
    },
    {
      "cell_type": "code",
      "metadata": {
        "id": "0UPq534P_IXU",
        "colab_type": "code",
        "colab": {}
      },
      "source": [
        ""
      ],
      "execution_count": null,
      "outputs": []
    },
    {
      "cell_type": "code",
      "metadata": {
        "id": "W0pTtgD2_ISd",
        "colab_type": "code",
        "colab": {}
      },
      "source": [
        ""
      ],
      "execution_count": null,
      "outputs": []
    }
  ]
}